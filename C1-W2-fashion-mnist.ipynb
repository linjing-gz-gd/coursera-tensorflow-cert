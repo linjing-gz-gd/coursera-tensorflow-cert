{
 "cells": [
  {
   "cell_type": "code",
   "execution_count": 1,
   "id": "beeaf434-6be3-4b7a-aff7-bc67c0fa9974",
   "metadata": {},
   "outputs": [
    {
     "data": {
      "text/plain": [
       "'2.9.1'"
      ]
     },
     "execution_count": 1,
     "metadata": {},
     "output_type": "execute_result"
    }
   ],
   "source": [
    "import numpy as np\n",
    "import matplotlib.pyplot as plt\n",
    "import tensorflow as tf\n",
    "from tensorflow import keras\n",
    "\n",
    "tf.__version__"
   ]
  },
  {
   "cell_type": "code",
   "execution_count": 70,
   "id": "ecf0f69b-6ecf-47ad-afa2-6c938c98b656",
   "metadata": {},
   "outputs": [
    {
     "data": {
      "text/plain": [
       "module"
      ]
     },
     "execution_count": 70,
     "metadata": {},
     "output_type": "execute_result"
    }
   ],
   "source": [
    "fmnist = keras.datasets.fashion_mnist\n",
    "type(fmnist)"
   ]
  },
  {
   "cell_type": "code",
   "execution_count": 78,
   "id": "a864cd09-03eb-477b-be91-aba5ba8334f8",
   "metadata": {},
   "outputs": [],
   "source": [
    "(train_im, train_lb), (test_im, test_lb) = fmnist.load_data()"
   ]
  },
  {
   "cell_type": "code",
   "execution_count": 81,
   "id": "79ac61fd-fd81-48ab-a669-eb5fd53e0230",
   "metadata": {},
   "outputs": [],
   "source": [
    "def view_data_pt(index, im=train_im, lb=train_lb, view_array=True):\n",
    "    np.set_printoptions(linewidth=120)\n",
    "    \n",
    "    print(f'Label: {lb[index]}')\n",
    "    if view_array:\n",
    "        print(f'\\nImage pixel array:\\n{im[index]}')\n",
    "    \n",
    "    fig, ax = plt.subplots()\n",
    "    ax.imshow(im[index])"
   ]
  },
  {
   "cell_type": "code",
   "execution_count": 82,
   "id": "72a1f66e-1ed1-4080-8c4d-3ef42761ea2a",
   "metadata": {},
   "outputs": [
    {
     "name": "stdout",
     "output_type": "stream",
     "text": [
      "Label: 9\n",
      "\n",
      "Image pixel array:\n",
      "[[  0   0   0   0   0   0   0   0   0   0   0   0   0   0   0   0   0   0   0   0   0   0   0   0   0   0   0   0]\n",
      " [  0   0   0   0   0   0   0   0   0   0   0   0   0   0   0   0   0   0   0   0   0   0   0   0   0   0   0   0]\n",
      " [  0   0   0   0   0   0   0   0   0   0   0   0   0   0   0   0   0   0   0   0   0   0   0   0   0   0   0   0]\n",
      " [  0   0   0   0   0   0   0   0   0   0   0   0   1   0   0  13  73   0   0   1   4   0   0   0   0   1   1   0]\n",
      " [  0   0   0   0   0   0   0   0   0   0   0   0   3   0  36 136 127  62  54   0   0   0   1   3   4   0   0   3]\n",
      " [  0   0   0   0   0   0   0   0   0   0   0   0   6   0 102 204 176 134 144 123  23   0   0   0   0  12  10   0]\n",
      " [  0   0   0   0   0   0   0   0   0   0   0   0   0   0 155 236 207 178 107 156 161 109  64  23  77 130  72  15]\n",
      " [  0   0   0   0   0   0   0   0   0   0   0   1   0  69 207 223 218 216 216 163 127 121 122 146 141  88 172  66]\n",
      " [  0   0   0   0   0   0   0   0   0   1   1   1   0 200 232 232 233 229 223 223 215 213 164 127 123 196 229   0]\n",
      " [  0   0   0   0   0   0   0   0   0   0   0   0   0 183 225 216 223 228 235 227 224 222 224 221 223 245 173   0]\n",
      " [  0   0   0   0   0   0   0   0   0   0   0   0   0 193 228 218 213 198 180 212 210 211 213 223 220 243 202   0]\n",
      " [  0   0   0   0   0   0   0   0   0   1   3   0  12 219 220 212 218 192 169 227 208 218 224 212 226 197 209  52]\n",
      " [  0   0   0   0   0   0   0   0   0   0   6   0  99 244 222 220 218 203 198 221 215 213 222 220 245 119 167  56]\n",
      " [  0   0   0   0   0   0   0   0   0   4   0   0  55 236 228 230 228 240 232 213 218 223 234 217 217 209  92   0]\n",
      " [  0   0   1   4   6   7   2   0   0   0   0   0 237 226 217 223 222 219 222 221 216 223 229 215 218 255  77   0]\n",
      " [  0   3   0   0   0   0   0   0   0  62 145 204 228 207 213 221 218 208 211 218 224 223 219 215 224 244 159   0]\n",
      " [  0   0   0   0  18  44  82 107 189 228 220 222 217 226 200 205 211 230 224 234 176 188 250 248 233 238 215   0]\n",
      " [  0  57 187 208 224 221 224 208 204 214 208 209 200 159 245 193 206 223 255 255 221 234 221 211 220 232 246   0]\n",
      " [  3 202 228 224 221 211 211 214 205 205 205 220 240  80 150 255 229 221 188 154 191 210 204 209 222 228 225   0]\n",
      " [ 98 233 198 210 222 229 229 234 249 220 194 215 217 241  65  73 106 117 168 219 221 215 217 223 223 224 229  29]\n",
      " [ 75 204 212 204 193 205 211 225 216 185 197 206 198 213 240 195 227 245 239 223 218 212 209 222 220 221 230  67]\n",
      " [ 48 203 183 194 213 197 185 190 194 192 202 214 219 221 220 236 225 216 199 206 186 181 177 172 181 205 206 115]\n",
      " [  0 122 219 193 179 171 183 196 204 210 213 207 211 210 200 196 194 191 195 191 198 192 176 156 167 177 210  92]\n",
      " [  0   0  74 189 212 191 175 172 175 181 185 188 189 188 193 198 204 209 210 210 211 188 188 194 192 216 170   0]\n",
      " [  2   0   0   0  66 200 222 237 239 242 246 243 244 221 220 193 191 179 182 182 181 176 166 168  99  58   0   0]\n",
      " [  0   0   0   0   0   0   0  40  61  44  72  41  35   0   0   0   0   0   0   0   0   0   0   0   0   0   0   0]\n",
      " [  0   0   0   0   0   0   0   0   0   0   0   0   0   0   0   0   0   0   0   0   0   0   0   0   0   0   0   0]\n",
      " [  0   0   0   0   0   0   0   0   0   0   0   0   0   0   0   0   0   0   0   0   0   0   0   0   0   0   0   0]]\n"
     ]
    },
    {
     "data": {
      "image/png": "[encoded data removed]",
      "text/plain": [
       "<Figure size 432x288 with 1 Axes>"
      ]
     },
     "metadata": {
      "needs_background": "light"
     },
     "output_type": "display_data"
    }
   ],
   "source": [
    "view_data_pt(0)"
   ]
  },
  {
   "cell_type": "code",
   "execution_count": 85,
   "id": "ae774969-b6cd-4a96-aa17-0c235d481da7",
   "metadata": {},
   "outputs": [
    {
     "name": "stdout",
     "output_type": "stream",
     "text": [
      "Label: 4\n",
      "\n",
      "Image pixel array:\n",
      "[[  0   0   0   0   0   0   0   0   0   0  90 156 177 182 196 176 117   0   0   0   0   0   0   0   0   0   0   0]\n",
      " [  0   0   0   0   0   0   2   0   0 239 253 239 214 226 214 231 245 248   0   0   1   0   0   0   0   0   0   0]\n",
      " [  0   0   0   0   0   0   0   0  36 241 203 219 192 190 193 207 200 232 135   0   0   2   0   0   0   0   0   0]\n",
      " [  0   0   0   0   1   0   0  33 167 227 229 234 228 234 244 215 211 214 208 120   0   0   2   0   0   0   0   0]\n",
      " [  0   0   0   0   0   0 157 227 207 207 229 229 232 207 241 227 235 224 203 221 176   0   0   2   0   0   0   0]\n",
      " [  0   0   0   0   0  65 218 189 192 187 196 189 188 202 181 195 222 219 190 180 217 125   0   0   0   0   0   0]\n",
      " [  0   0   0   0   0 158 213 196 196 191 188 186 179 192 177 192 126 155 193 189 200 166   0   0   0   0   0   0]\n",
      " [  0   0   0   0   0 163 217 211 176 188 188 186 183 196 180 191 165 170 216 204 200 195   0   0   0   0   0   0]\n",
      " [  0   0   0   0   0 183 215 234 185 182 186 183 184 198 181 185 195 188 203 245 207 209  37   0   0   0   0   0]\n",
      " [  0   0   0   0   0 196 215 240 209 188 183 186 186 190 186 188 188 183 212 253 205 217  64   0   0   0   0   0]\n",
      " [  0   0   0   0   0 235 213 246 209 190 190 195 194 192 192 192 196 189 209 252 206 217 109   0   0   0   0   0]\n",
      " [  0   0   0   0  18 246 209 253 212 201 209 195 202 204 203 206 207 201 214 251 205 216 160   0   0   0   0   0]\n",
      " [  0   0   0   0  48 249 208 253 217 196 197 191 195 193 194 196 196 194 214 247 206 216 189   0   0   0   0   0]\n",
      " [  0   0   0   0  71 244 206 255 216 195 196 194 197 196 196 195 203 197 197 238 216 215 184   0   0   0   0   0]\n",
      " [  0   0   0   0  91 248 206 255 211 194 197 193 196 195 195 195 199 201 191 247 217 214 198   0   0   0   0   0]\n",
      " [  0   0   0   0 109 224 206 237 187 195 198 193 197 195 194 194 197 203 197 193 211 217 215   0   0   0   0   0]\n",
      " [  0   0   0   0 118 230 205 222 166 204 195 195 198 196 193 192 196 200 206 161 207 219 220   0   0   0   0   0]\n",
      " [  0   0   0   0 110 234 210 183 147 217 189 193 197 197 194 191 194 198 212 136 213 221 220   5   0   0   0   0]\n",
      " [  0   0   0   0 109 239 209 167 146 219 186 192 196 198 194 191 192 195 223 117 206 227 219  31   0   0   0   0]\n",
      " [  0   0   0   0 105 241 212 142 146 218 182 191 193 196 196 192 190 190 232 100 166 238 218  48   0   0   0   0]\n",
      " [  0   0   0   0  99 240 219 115 152 212 180 190 191 192 198 195 187 185 235  99 133 244 216  63   0   0   0   0]\n",
      " [  0   0   0   0  95 238 225  86 163 203 181 188 190 191 195 195 189 181 226 112 133 245 216  83   0   0   0   0]\n",
      " [  0   0   0   0 102 238 228  79 165 198 182 186 189 192 192 191 191 182 217 113 131 250 209  95   0   0   0   0]\n",
      " [  0   0   0   0 113 234 239 103 155 199 182 187 191 192 191 190 191 183 212 130 128 243 203 103   0   0   0   0]\n",
      " [  0   0   0   0 114 220 251 106 144 187 180 184 187 188 187 186 185 183 190 144 103 236 202 110   0   0   0   0]\n",
      " [  0   0   0   0 114 208 252  71 176 202 195 198 202 202 201 201 201 197 202 178  81 233 205 116   0   0   0   0]\n",
      " [  0   0   0   0 109 238 255  38 105 166 156 159 161 162 159 156 156 155 170 112  44 241 224 136   0   0   0   0]\n",
      " [  0   0   0   0  33 177 179  16   0   0   0   0   0   0   0   0   0   0   0   0   0 163 165  53   0   0   0   0]]\n"
     ]
    },
    {
     "data": {
      "image/png": "[encoded data removed]",
      "text/plain": [
       "<Figure size 432x288 with 1 Axes>"
      ]
     },
     "metadata": {
      "needs_background": "light"
     },
     "output_type": "display_data"
    }
   ],
   "source": [
    "view_data_pt(24)"
   ]
  },
  {
   "cell_type": "code",
   "execution_count": 84,
   "id": "ecb930a3-0c07-457b-9570-50be86b377cf",
   "metadata": {},
   "outputs": [],
   "source": [
    "train_im = train_im / 255.\n",
    "test_im = test_im / 255."
   ]
  },
  {
   "cell_type": "code",
   "execution_count": 75,
   "id": "32bb2dd6-f22c-426d-8f9d-33f4ac4df593",
   "metadata": {},
   "outputs": [
    {
     "data": {
      "text/plain": [
       "(60000, 28, 28)"
      ]
     },
     "execution_count": 75,
     "metadata": {},
     "output_type": "execute_result"
    }
   ],
   "source": [
    "train_im.shape"
   ]
  },
  {
   "cell_type": "code",
   "execution_count": 86,
   "id": "3dd32997-95e6-42c7-a00e-a6f08cfe457c",
   "metadata": {},
   "outputs": [],
   "source": [
    "model = keras.Sequential([\n",
    "    keras.layers.Flatten(input_shape=(28, 28)),\n",
    "    keras.layers.Dense(units=128, activation=tf.nn.relu),\n",
    "    keras.layers.Dense(units=10, activation=tf.nn.softmax)\n",
    "])"
   ]
  },
  {
   "cell_type": "code",
   "execution_count": 87,
   "id": "2fad490b-6a0d-4fe5-8b6d-488514813a17",
   "metadata": {},
   "outputs": [
    {
     "name": "stdout",
     "output_type": "stream",
     "text": [
      "input to softmax: [[ 1.  4. -1.  0.]]\n",
      "output of softmax: [[0.04632042 0.93037047 0.00626879 0.01704033]]\n",
      "sum of outputs: 1.0\n",
      "class with highest P: 1\n"
     ]
    }
   ],
   "source": [
    "inputs = np.array([[1., 4., -1., 0.]])\n",
    "inputs = tf.convert_to_tensor(inputs)\n",
    "print(f'input to softmax: {inputs.numpy()}')\n",
    "\n",
    "outputs = keras.activations.softmax(inputs)\n",
    "print(f'output of softmax: {outputs.numpy()}')\n",
    "\n",
    "s = tf.reduce_sum(outputs)\n",
    "print(f'sum of outputs: {s}')\n",
    "\n",
    "pred = np.argmax(outputs)\n",
    "print(f'class with highest P: {pred}')"
   ]
  },
  {
   "cell_type": "code",
   "execution_count": 88,
   "id": "954bd5eb-4f45-4403-b45c-36f4208c4a70",
   "metadata": {},
   "outputs": [
    {
     "name": "stdout",
     "output_type": "stream",
     "text": [
      "input to softmax: [ 1.  4. -1.  0.]\n",
      "output of softmax: [0.04632042 0.93037047 0.00626879 0.01704033]\n",
      "sum of outputs: 1.0\n",
      "class with highest P: 1\n"
     ]
    }
   ],
   "source": [
    "inputs = np.array([1., 4., -1., 0.])\n",
    "inputs = tf.convert_to_tensor(inputs)\n",
    "print(f'input to softmax: {inputs.numpy()}')\n",
    "\n",
    "# tf.nn.softmax() can handle 1D input, but keras.activations.softmax() cannot.\n",
    "outputs = tf.nn.softmax(inputs)\n",
    "print(f'output of softmax: {outputs.numpy()}')\n",
    "\n",
    "s = tf.reduce_sum(outputs)\n",
    "print(f'sum of outputs: {s}')\n",
    "\n",
    "pred = np.argmax(outputs)\n",
    "print(f'class with highest P: {pred}')"
   ]
  },
  {
   "cell_type": "code",
   "execution_count": 98,
   "id": "11b8af88-0518-4a24-9547-7ef58b0e2089",
   "metadata": {},
   "outputs": [
    {
     "name": "stdout",
     "output_type": "stream",
     "text": [
      "[0.04632042 0.93037047 0.00626879 0.01704033]\n"
     ]
    }
   ],
   "source": [
    "out2 = np.exp(inputs)\n",
    "out2 /= out2.sum()\n",
    "print(out2)"
   ]
  },
  {
   "cell_type": "code",
   "execution_count": 89,
   "id": "18f59d4c-aaf9-46bc-9160-d66cf5831a9e",
   "metadata": {},
   "outputs": [
    {
     "name": "stdout",
     "output_type": "stream",
     "text": [
      "<class 'tensorflow.python.framework.ops.EagerTensor'>\n",
      "tf.Tensor([0.04632042 0.93037047 0.00626879 0.01704033], shape=(4,), dtype=float64)\n"
     ]
    },
    {
     "data": {
      "text/plain": [
       "<tf.Tensor: shape=(4,), dtype=float64, numpy=array([0.04632042, 0.93037047, 0.00626879, 0.01704033])>"
      ]
     },
     "execution_count": 89,
     "metadata": {},
     "output_type": "execute_result"
    }
   ],
   "source": [
    "print(type(outputs))\n",
    "print(outputs)\n",
    "outputs"
   ]
  },
  {
   "cell_type": "code",
   "execution_count": 90,
   "id": "4888fb55-75a9-473a-906c-b1c032414332",
   "metadata": {},
   "outputs": [],
   "source": [
    "model.compile(\n",
    "    optimizer=tf.optimizers.Adam(),\n",
    "    loss='sparse_categorical_crossentropy',\n",
    "    metrics=('accuracy',)\n",
    ")"
   ]
  },
  {
   "cell_type": "code",
   "execution_count": 103,
   "id": "cee8403d-8dd3-4a6a-8d31-af69f1f9eaf3",
   "metadata": {},
   "outputs": [
    {
     "name": "stdout",
     "output_type": "stream",
     "text": [
      "Epoch 1/5\n",
      "1875/1875 [==============================] - 3s 2ms/step - loss: 0.2776 - accuracy: 0.8979\n",
      "Epoch 2/5\n",
      "1875/1875 [==============================] - 3s 2ms/step - loss: 0.2668 - accuracy: 0.9012\n",
      "Epoch 3/5\n",
      "1875/1875 [==============================] - 3s 2ms/step - loss: 0.2565 - accuracy: 0.9054\n",
      "Epoch 4/5\n",
      "1875/1875 [==============================] - 3s 2ms/step - loss: 0.2467 - accuracy: 0.9087\n",
      "Epoch 5/5\n",
      "1875/1875 [==============================] - 3s 2ms/step - loss: 0.2367 - accuracy: 0.9125\n",
      "CPU times: total: 36.1 s\n",
      "Wall time: 16 s\n"
     ]
    },
    {
     "data": {
      "text/plain": [
       "<keras.callbacks.History at 0x24150ee33a0>"
      ]
     },
     "execution_count": 103,
     "metadata": {},
     "output_type": "execute_result"
    }
   ],
   "source": [
    "%%time\n",
    "\n",
    "model.fit(train_im, train_lb, epochs=5)"
   ]
  },
  {
   "cell_type": "code",
   "execution_count": 104,
   "id": "6ee6951f-f694-47c1-b78a-e9e023cfc760",
   "metadata": {},
   "outputs": [
    {
     "name": "stdout",
     "output_type": "stream",
     "text": [
      "313/313 [==============================] - 0s 1ms/step - loss: 0.3322 - accuracy: 0.8836\n"
     ]
    },
    {
     "data": {
      "text/plain": [
       "[0.3321632146835327, 0.8835999965667725]"
      ]
     },
     "execution_count": 104,
     "metadata": {},
     "output_type": "execute_result"
    }
   ],
   "source": [
    "model.evaluate(test_im, test_lb)"
   ]
  },
  {
   "cell_type": "markdown",
   "id": "06b31bbf-13c6-475c-a92d-0f2c532c5502",
   "metadata": {},
   "source": [
    "## Exercise 1"
   ]
  },
  {
   "cell_type": "code",
   "execution_count": 93,
   "id": "31c5d775-9d35-46e5-80f3-7fbb2d4ffb87",
   "metadata": {},
   "outputs": [
    {
     "name": "stdout",
     "output_type": "stream",
     "text": [
      "313/313 [==============================] - 0s 1ms/step\n"
     ]
    }
   ],
   "source": [
    "clsf = model.predict(test_im)"
   ]
  },
  {
   "cell_type": "code",
   "execution_count": 94,
   "id": "51fa0123-11e3-43c7-8559-159e9fe363ce",
   "metadata": {},
   "outputs": [
    {
     "name": "stdout",
     "output_type": "stream",
     "text": [
      "(10000, 28, 28)\n",
      "(10000,)\n",
      "(10000, 10)\n"
     ]
    }
   ],
   "source": [
    "print(test_im.shape)\n",
    "print(test_lb.shape)\n",
    "print(clsf.shape)"
   ]
  },
  {
   "cell_type": "code",
   "execution_count": 95,
   "id": "3abb5f83-1a76-4d23-a88e-6c403b5b0eb0",
   "metadata": {},
   "outputs": [
    {
     "name": "stdout",
     "output_type": "stream",
     "text": [
      "[1.9041855e-06 6.1658376e-08 5.4579008e-08 7.9178131e-09 1.6633970e-09 4.0113134e-03 2.7924565e-07 4.7580907e-03\n",
      " 4.2145280e-06 9.9122405e-01]\n"
     ]
    }
   ],
   "source": [
    "print(clsf[0])"
   ]
  },
  {
   "cell_type": "code",
   "execution_count": 97,
   "id": "8d6ac480-f3a5-4aa4-a914-39e46167602a",
   "metadata": {},
   "outputs": [
    {
     "name": "stdout",
     "output_type": "stream",
     "text": [
      "Label: 9\n"
     ]
    },
    {
     "data": {
      "image/png": "[encoded data removed]",
      "text/plain": [
       "<Figure size 432x288 with 1 Axes>"
      ]
     },
     "metadata": {
      "needs_background": "light"
     },
     "output_type": "display_data"
    }
   ],
   "source": [
    "view_data_pt(0, test_im, test_lb, view_array=False)"
   ]
  },
  {
   "cell_type": "markdown",
   "id": "9545caae-f6d1-487a-8d5a-8ae9bb403009",
   "metadata": {},
   "source": [
    "## Exercise 2: More neurons in a layer"
   ]
  },
  {
   "cell_type": "code",
   "execution_count": 106,
   "id": "78e41080-4e7a-4da4-a179-b68b79939d14",
   "metadata": {},
   "outputs": [
    {
     "name": "stdout",
     "output_type": "stream",
     "text": [
      "Epoch 1/5\n",
      "1875/1875 [==============================] - 7s 4ms/step - loss: 0.4733 - accuracy: 0.8316\n",
      "Epoch 2/5\n",
      "1875/1875 [==============================] - 7s 4ms/step - loss: 0.3611 - accuracy: 0.8666\n",
      "Epoch 3/5\n",
      "1875/1875 [==============================] - 7s 4ms/step - loss: 0.3242 - accuracy: 0.8818\n",
      "Epoch 4/5\n",
      "1875/1875 [==============================] - 7s 3ms/step - loss: 0.2989 - accuracy: 0.8900\n",
      "Epoch 5/5\n",
      "1875/1875 [==============================] - 7s 3ms/step - loss: 0.2830 - accuracy: 0.8949\n",
      "313/313 [==============================] - 1s 2ms/step - loss: 0.3382 - accuracy: 0.8813\n",
      "CPU times: total: 2min 10s\n",
      "Wall time: 34.8 s\n"
     ]
    },
    {
     "data": {
      "text/plain": [
       "[0.3382132947444916, 0.8812999725341797]"
      ]
     },
     "execution_count": 106,
     "metadata": {},
     "output_type": "execute_result"
    }
   ],
   "source": [
    "%%time\n",
    "\n",
    "model2 = keras.Sequential([\n",
    "    keras.layers.Flatten(),\n",
    "    keras.layers.Dense(512, activation=tf.nn.relu),\n",
    "    keras.layers.Dense(10, activation=tf.nn.softmax)\n",
    "])\n",
    "model2.compile(\n",
    "    optimizer=keras.optimizers.Adam(),\n",
    "    loss='sparse_categorical_crossentropy',\n",
    "    metrics=['accuracy']\n",
    ")\n",
    "model2.fit(train_im, train_lb, epochs=5)\n",
    "model2.evaluate(test_im, test_lb)"
   ]
  },
  {
   "cell_type": "code",
   "execution_count": 107,
   "id": "f8872171-d658-43f3-adc0-4ff647d94b4a",
   "metadata": {},
   "outputs": [
    {
     "name": "stdout",
     "output_type": "stream",
     "text": [
      "Epoch 1/5\n",
      "1875/1875 [==============================] - 11s 6ms/step - loss: 0.4693 - accuracy: 0.8311\n",
      "Epoch 2/5\n",
      "1875/1875 [==============================] - 10s 5ms/step - loss: 0.3559 - accuracy: 0.8698\n",
      "Epoch 3/5\n",
      "1875/1875 [==============================] - 10s 6ms/step - loss: 0.3219 - accuracy: 0.8811\n",
      "Epoch 4/5\n",
      "1875/1875 [==============================] - 10s 5ms/step - loss: 0.2950 - accuracy: 0.8908\n",
      "Epoch 5/5\n",
      "1875/1875 [==============================] - 10s 5ms/step - loss: 0.2764 - accuracy: 0.8950\n",
      "313/313 [==============================] - 1s 3ms/step - loss: 0.3491 - accuracy: 0.8729\n",
      "CPU times: total: 3min 38s\n",
      "Wall time: 53.4 s\n"
     ]
    },
    {
     "data": {
      "text/plain": [
       "[0.34906408190727234, 0.8729000091552734]"
      ]
     },
     "execution_count": 107,
     "metadata": {},
     "output_type": "execute_result"
    }
   ],
   "source": [
    "%%time\n",
    "\n",
    "model2 = keras.Sequential([\n",
    "    keras.layers.Flatten(),\n",
    "    keras.layers.Dense(1024, activation=tf.nn.relu),\n",
    "    keras.layers.Dense(10, activation=tf.nn.softmax)\n",
    "])\n",
    "model2.compile(\n",
    "    optimizer=keras.optimizers.Adam(),\n",
    "    loss='sparse_categorical_crossentropy',\n",
    "    metrics=['accuracy']\n",
    ")\n",
    "model2.fit(train_im, train_lb, epochs=5)\n",
    "model2.evaluate(test_im, test_lb)"
   ]
  },
  {
   "cell_type": "markdown",
   "id": "80dece10-53a0-43ec-8395-1d1009f50f55",
   "metadata": {},
   "source": [
    "## Exercise 5: More than 1 layers"
   ]
  },
  {
   "cell_type": "code",
   "execution_count": 109,
   "id": "a6dda0ec-8bc5-4945-9f73-c0f41e41cce2",
   "metadata": {},
   "outputs": [
    {
     "name": "stdout",
     "output_type": "stream",
     "text": [
      "Epoch 1/5\n",
      "1875/1875 [==============================] - 5s 2ms/step - loss: 0.4708 - accuracy: 0.8296\n",
      "Epoch 2/5\n",
      "1875/1875 [==============================] - 4s 2ms/step - loss: 0.3567 - accuracy: 0.8683\n",
      "Epoch 3/5\n",
      "1875/1875 [==============================] - 5s 2ms/step - loss: 0.3235 - accuracy: 0.8790\n",
      "Epoch 4/5\n",
      "1875/1875 [==============================] - 4s 2ms/step - loss: 0.2966 - accuracy: 0.8902\n",
      "Epoch 5/5\n",
      "1875/1875 [==============================] - 4s 2ms/step - loss: 0.2802 - accuracy: 0.8945\n",
      "313/313 [==============================] - 1s 2ms/step - loss: 0.3386 - accuracy: 0.8804\n",
      "CPU times: total: 1min 12s\n",
      "Wall time: 23.6 s\n"
     ]
    },
    {
     "data": {
      "text/plain": [
       "[0.3385586440563202, 0.8804000020027161]"
      ]
     },
     "execution_count": 109,
     "metadata": {},
     "output_type": "execute_result"
    }
   ],
   "source": [
    "%%time\n",
    "\n",
    "model2 = keras.Sequential([\n",
    "    keras.layers.Flatten(),\n",
    "    keras.layers.Dense(256, activation=tf.nn.relu),\n",
    "    keras.layers.Dense(256, activation=tf.nn.relu),\n",
    "    keras.layers.Dense(10, activation=tf.nn.softmax)\n",
    "])\n",
    "model2.compile(\n",
    "    optimizer=keras.optimizers.Adam(),\n",
    "    loss='sparse_categorical_crossentropy',\n",
    "    metrics=['accuracy']\n",
    ")\n",
    "model2.fit(train_im, train_lb, epochs=5)\n",
    "model2.evaluate(test_im, test_lb)"
   ]
  },
  {
   "cell_type": "markdown",
   "id": "38c99357-2a60-4aa1-b11b-644d81e53443",
   "metadata": {},
   "source": [
    "## Exercise 6: More epochs help training, but not necessarily testing"
   ]
  },
  {
   "cell_type": "code",
   "execution_count": 110,
   "id": "fcbf86d7-3220-4c6f-a05b-0c555278ee30",
   "metadata": {},
   "outputs": [
    {
     "name": "stdout",
     "output_type": "stream",
     "text": [
      "Epoch 1/15\n",
      "1875/1875 [==============================] - 5s 2ms/step - loss: 0.4680 - accuracy: 0.8306\n",
      "Epoch 2/15\n",
      "1875/1875 [==============================] - 4s 2ms/step - loss: 0.3542 - accuracy: 0.8700\n",
      "Epoch 3/15\n",
      "1875/1875 [==============================] - 5s 2ms/step - loss: 0.3221 - accuracy: 0.8808\n",
      "Epoch 4/15\n",
      "1875/1875 [==============================] - 4s 2ms/step - loss: 0.3010 - accuracy: 0.8882\n",
      "Epoch 5/15\n",
      "1875/1875 [==============================] - 4s 2ms/step - loss: 0.2796 - accuracy: 0.8956\n",
      "Epoch 6/15\n",
      "1875/1875 [==============================] - 5s 2ms/step - loss: 0.2649 - accuracy: 0.9017\n",
      "Epoch 7/15\n",
      "1875/1875 [==============================] - 4s 2ms/step - loss: 0.2529 - accuracy: 0.9057\n",
      "Epoch 8/15\n",
      "1875/1875 [==============================] - 4s 2ms/step - loss: 0.2428 - accuracy: 0.9084\n",
      "Epoch 9/15\n",
      "1875/1875 [==============================] - 4s 2ms/step - loss: 0.2286 - accuracy: 0.9137\n",
      "Epoch 10/15\n",
      "1875/1875 [==============================] - 5s 3ms/step - loss: 0.2221 - accuracy: 0.9153\n",
      "Epoch 11/15\n",
      "1875/1875 [==============================] - 4s 2ms/step - loss: 0.2120 - accuracy: 0.9195\n",
      "Epoch 12/15\n",
      "1875/1875 [==============================] - 4s 2ms/step - loss: 0.2047 - accuracy: 0.9226\n",
      "Epoch 13/15\n",
      "1875/1875 [==============================] - 5s 2ms/step - loss: 0.1967 - accuracy: 0.9242\n",
      "Epoch 14/15\n",
      "1875/1875 [==============================] - 5s 2ms/step - loss: 0.1910 - accuracy: 0.9279\n",
      "Epoch 15/15\n",
      "1875/1875 [==============================] - 4s 2ms/step - loss: 0.1823 - accuracy: 0.9296\n",
      "313/313 [==============================] - 1s 2ms/step - loss: 0.3569 - accuracy: 0.8896\n",
      "CPU times: total: 3min 35s\n",
      "Wall time: 1min 8s\n"
     ]
    },
    {
     "data": {
      "text/plain": [
       "[0.35687217116355896, 0.8895999789237976]"
      ]
     },
     "execution_count": 110,
     "metadata": {},
     "output_type": "execute_result"
    }
   ],
   "source": [
    "%%time\n",
    "\n",
    "model2 = keras.Sequential([\n",
    "    keras.layers.Flatten(),\n",
    "    keras.layers.Dense(256, activation=tf.nn.relu),\n",
    "    keras.layers.Dense(256, activation=tf.nn.relu),\n",
    "    keras.layers.Dense(10, activation=tf.nn.softmax)\n",
    "])\n",
    "model2.compile(\n",
    "    optimizer=keras.optimizers.Adam(),\n",
    "    loss='sparse_categorical_crossentropy',\n",
    "    metrics=['accuracy']\n",
    ")\n",
    "model2.fit(train_im, train_lb, epochs=15)\n",
    "model2.evaluate(test_im, test_lb)"
   ]
  },
  {
   "cell_type": "code",
   "execution_count": 111,
   "id": "86bc100e-2412-47c4-9fa4-38a5d8b368e2",
   "metadata": {},
   "outputs": [
    {
     "name": "stdout",
     "output_type": "stream",
     "text": [
      "Epoch 1/30\n",
      "1875/1875 [==============================] - 6s 3ms/step - loss: 0.4742 - accuracy: 0.8287\n",
      "Epoch 2/30\n",
      "1875/1875 [==============================] - 5s 3ms/step - loss: 0.3573 - accuracy: 0.8685\n",
      "Epoch 3/30\n",
      "1875/1875 [==============================] - 5s 3ms/step - loss: 0.3208 - accuracy: 0.8799\n",
      "Epoch 4/30\n",
      "1875/1875 [==============================] - 5s 3ms/step - loss: 0.2998 - accuracy: 0.8884\n",
      "Epoch 5/30\n",
      "1875/1875 [==============================] - 5s 3ms/step - loss: 0.2811 - accuracy: 0.8938\n",
      "Epoch 6/30\n",
      "1875/1875 [==============================] - 5s 2ms/step - loss: 0.2654 - accuracy: 0.8993\n",
      "Epoch 7/30\n",
      "1875/1875 [==============================] - 5s 2ms/step - loss: 0.2532 - accuracy: 0.9056\n",
      "Epoch 8/30\n",
      "1875/1875 [==============================] - 5s 3ms/step - loss: 0.2428 - accuracy: 0.9086\n",
      "Epoch 9/30\n",
      "1875/1875 [==============================] - 5s 2ms/step - loss: 0.2305 - accuracy: 0.9126\n",
      "Epoch 10/30\n",
      "1875/1875 [==============================] - 5s 3ms/step - loss: 0.2213 - accuracy: 0.9170\n",
      "Epoch 11/30\n",
      "1875/1875 [==============================] - 5s 3ms/step - loss: 0.2111 - accuracy: 0.9195\n",
      "Epoch 12/30\n",
      "1875/1875 [==============================] - 5s 2ms/step - loss: 0.2045 - accuracy: 0.9216\n",
      "Epoch 13/30\n",
      "1875/1875 [==============================] - 5s 2ms/step - loss: 0.1987 - accuracy: 0.9240\n",
      "Epoch 14/30\n",
      "1875/1875 [==============================] - 5s 2ms/step - loss: 0.1919 - accuracy: 0.9267\n",
      "Epoch 15/30\n",
      "1875/1875 [==============================] - 5s 3ms/step - loss: 0.1840 - accuracy: 0.9299\n",
      "Epoch 16/30\n",
      "1875/1875 [==============================] - 6s 3ms/step - loss: 0.1785 - accuracy: 0.9325\n",
      "Epoch 17/30\n",
      "1875/1875 [==============================] - 6s 3ms/step - loss: 0.1753 - accuracy: 0.9333\n",
      "Epoch 18/30\n",
      "1875/1875 [==============================] - 5s 3ms/step - loss: 0.1665 - accuracy: 0.9362\n",
      "Epoch 19/30\n",
      "1875/1875 [==============================] - 5s 2ms/step - loss: 0.1606 - accuracy: 0.9382\n",
      "Epoch 20/30\n",
      "1875/1875 [==============================] - 5s 2ms/step - loss: 0.1566 - accuracy: 0.9398\n",
      "Epoch 21/30\n",
      "1875/1875 [==============================] - 5s 3ms/step - loss: 0.1503 - accuracy: 0.9425\n",
      "Epoch 22/30\n",
      "1875/1875 [==============================] - 6s 3ms/step - loss: 0.1477 - accuracy: 0.9439\n",
      "Epoch 23/30\n",
      "1875/1875 [==============================] - 5s 3ms/step - loss: 0.1421 - accuracy: 0.9445\n",
      "Epoch 24/30\n",
      "1875/1875 [==============================] - 6s 3ms/step - loss: 0.1390 - accuracy: 0.9463\n",
      "Epoch 25/30\n",
      "1875/1875 [==============================] - 5s 2ms/step - loss: 0.1400 - accuracy: 0.9463\n",
      "Epoch 26/30\n",
      "1875/1875 [==============================] - 5s 2ms/step - loss: 0.1341 - accuracy: 0.9491\n",
      "Epoch 27/30\n",
      "1875/1875 [==============================] - 5s 3ms/step - loss: 0.1270 - accuracy: 0.9505\n",
      "Epoch 28/30\n",
      "1875/1875 [==============================] - 5s 2ms/step - loss: 0.1256 - accuracy: 0.9514\n",
      "Epoch 29/30\n",
      "1875/1875 [==============================] - 5s 2ms/step - loss: 0.1241 - accuracy: 0.9523\n",
      "Epoch 30/30\n",
      "1875/1875 [==============================] - 5s 3ms/step - loss: 0.1223 - accuracy: 0.9534\n",
      "313/313 [==============================] - 1s 2ms/step - loss: 0.4832 - accuracy: 0.8925\n",
      "CPU times: total: 7min 38s\n",
      "Wall time: 2min 28s\n"
     ]
    },
    {
     "data": {
      "text/plain": [
       "[0.48323696851730347, 0.8924999833106995]"
      ]
     },
     "execution_count": 111,
     "metadata": {},
     "output_type": "execute_result"
    }
   ],
   "source": [
    "%%time\n",
    "\n",
    "model2 = keras.Sequential([\n",
    "    keras.layers.Flatten(),\n",
    "    keras.layers.Dense(256, activation=tf.nn.relu),\n",
    "    keras.layers.Dense(256, activation=tf.nn.relu),\n",
    "    keras.layers.Dense(10, activation=tf.nn.softmax)\n",
    "])\n",
    "model2.compile(\n",
    "    optimizer=keras.optimizers.Adam(),\n",
    "    loss='sparse_categorical_crossentropy',\n",
    "    metrics=['accuracy']\n",
    ")\n",
    "model2.fit(train_im, train_lb, epochs=30)\n",
    "model2.evaluate(test_im, test_lb)"
   ]
  },
  {
   "cell_type": "markdown",
   "id": "5bcb0f19-56f2-40d0-8f70-b2bcb94e1019",
   "metadata": {},
   "source": [
    "## Exercise 7: Normalization helps"
   ]
  },
  {
   "cell_type": "code",
   "execution_count": 114,
   "id": "337c398f-f9a1-4cdd-babe-ba5aaecf5298",
   "metadata": {},
   "outputs": [
    {
     "name": "stdout",
     "output_type": "stream",
     "text": [
      "Epoch 1/5\n",
      "1875/1875 [==============================] - 5s 3ms/step - loss: 2.1555 - accuracy: 0.7523\n",
      "Epoch 2/5\n",
      "1875/1875 [==============================] - 5s 3ms/step - loss: 0.6332 - accuracy: 0.7945\n",
      "Epoch 3/5\n",
      "1875/1875 [==============================] - 5s 3ms/step - loss: 0.5730 - accuracy: 0.8109\n",
      "Epoch 4/5\n",
      "1875/1875 [==============================] - 5s 3ms/step - loss: 0.5184 - accuracy: 0.8268\n",
      "Epoch 5/5\n",
      "1875/1875 [==============================] - 5s 3ms/step - loss: 0.4690 - accuracy: 0.8390\n",
      "313/313 [==============================] - 1s 2ms/step - loss: 0.5006 - accuracy: 0.8212\n",
      "CPU times: total: 1min 23s\n",
      "Wall time: 26.4 s\n"
     ]
    },
    {
     "data": {
      "text/plain": [
       "[0.5005686283111572, 0.8212000131607056]"
      ]
     },
     "execution_count": 114,
     "metadata": {},
     "output_type": "execute_result"
    }
   ],
   "source": [
    "%%time\n",
    "\n",
    "model2 = keras.Sequential([\n",
    "    keras.layers.Flatten(),\n",
    "    keras.layers.Dense(256, activation=tf.nn.relu),\n",
    "    keras.layers.Dense(256, activation=tf.nn.relu),\n",
    "    keras.layers.Dense(10, activation=tf.nn.softmax)\n",
    "])\n",
    "model2.compile(\n",
    "    optimizer=keras.optimizers.Adam(),\n",
    "    loss='sparse_categorical_crossentropy',\n",
    "    metrics=['accuracy']\n",
    ")\n",
    "model2.fit(train_im*255, train_lb, epochs=5)\n",
    "model2.evaluate(test_im*255, test_lb)"
   ]
  },
  {
   "cell_type": "markdown",
   "id": "c3e862c3-f042-470e-a195-f2511ba5d3ac",
   "metadata": {},
   "source": [
    "## Exercise 8: Early stopping by callbacks"
   ]
  },
  {
   "cell_type": "code",
   "execution_count": 126,
   "id": "fa7e1cbd-22b4-48d2-b5ca-bfe3a23562a1",
   "metadata": {},
   "outputs": [],
   "source": [
    "class MyCallback(keras.callbacks.Callback):\n",
    "    def __init__(self, ac_cap=1, loss=0):\n",
    "        super().__init__()\n",
    "        self.ac_cap = ac_cap\n",
    "        self.loss = loss\n",
    "        \n",
    "    def on_epoch_end(self, epoch, logs={}):\n",
    "        if logs.get('accuracy') >= self.ac_cap:\n",
    "            print(f'\\n\\nReached {self.ac_cap*100:.1f}% accuracy so stopping training!\\n')\n",
    "            self.model.stop_training = True\n",
    "        \n",
    "        if logs.get('loss') <= self.loss:\n",
    "            print(f'\\n\\nReached {self.loss:.3g}% loss so stopping training!\\n')\n",
    "            self.model.stop_training = True"
   ]
  },
  {
   "cell_type": "code",
   "execution_count": 127,
   "id": "359905bc-2851-4816-a9fa-51921e76f097",
   "metadata": {},
   "outputs": [
    {
     "name": "stdout",
     "output_type": "stream",
     "text": [
      "Epoch 1/15\n",
      "1875/1875 [==============================] - 5s 2ms/step - loss: 0.4732 - accuracy: 0.8287\n",
      "Epoch 2/15\n",
      "1875/1875 [==============================] - 5s 2ms/step - loss: 0.3531 - accuracy: 0.8701\n",
      "Epoch 3/15\n",
      "1875/1875 [==============================] - 4s 2ms/step - loss: 0.3197 - accuracy: 0.8819\n",
      "Epoch 4/15\n",
      "1875/1875 [==============================] - 4s 2ms/step - loss: 0.2949 - accuracy: 0.8898\n",
      "Epoch 5/15\n",
      "1875/1875 [==============================] - 5s 3ms/step - loss: 0.2793 - accuracy: 0.8951\n",
      "Epoch 6/15\n",
      "1875/1875 [==============================] - 4s 2ms/step - loss: 0.2641 - accuracy: 0.8997\n",
      "Epoch 7/15\n",
      "1875/1875 [==============================] - 4s 2ms/step - loss: 0.2497 - accuracy: 0.9050\n",
      "Epoch 8/15\n",
      "1875/1875 [==============================] - 5s 2ms/step - loss: 0.2417 - accuracy: 0.9077\n",
      "Epoch 9/15\n",
      "1869/1875 [============================>.] - ETA: 0s - loss: 0.2288 - accuracy: 0.9133\n",
      "\n",
      "Reached 91.0% accuracy so stopping training!\n",
      "\n",
      "1875/1875 [==============================] - 5s 2ms/step - loss: 0.2289 - accuracy: 0.9132\n",
      "313/313 [==============================] - 1s 2ms/step - loss: 0.3318 - accuracy: 0.8818\n",
      "CPU times: total: 2min 9s\n",
      "Wall time: 42.5 s\n"
     ]
    },
    {
     "data": {
      "text/plain": [
       "[0.33177387714385986, 0.8817999958992004]"
      ]
     },
     "execution_count": 127,
     "metadata": {},
     "output_type": "execute_result"
    }
   ],
   "source": [
    "%%time\n",
    "\n",
    "model2 = keras.Sequential([\n",
    "    keras.layers.Flatten(),\n",
    "    keras.layers.Dense(256, activation=tf.nn.relu),\n",
    "    keras.layers.Dense(256, activation=tf.nn.relu),\n",
    "    keras.layers.Dense(10, activation=tf.nn.softmax)\n",
    "])\n",
    "model2.compile(\n",
    "    optimizer=keras.optimizers.Adam(),\n",
    "    loss='sparse_categorical_crossentropy',\n",
    "    metrics=['accuracy']\n",
    ")\n",
    "model2.fit(train_im, train_lb, epochs=15, callbacks=[MyCallback(ac_cap=0.91, loss=0.2)])\n",
    "model2.evaluate(test_im, test_lb)"
   ]
  }
 ],
 "metadata": {
  "kernelspec": {
   "display_name": "Python 3 (ipykernel)",
   "language": "python",
   "name": "python3"
  },
  "language_info": {
   "codemirror_mode": {
    "name": "ipython",
    "version": 3
   },
   "file_extension": ".py",
   "mimetype": "text/x-python",
   "name": "python",
   "nbconvert_exporter": "python",
   "pygments_lexer": "ipython3",
   "version": "3.9.12"
  },
  "widgets": {
   "application/vnd.jupyter.widget-state+json": {
    "state": {},
    "version_major": 2,
    "version_minor": 0
   }
  }
 },
 "nbformat": 4,
 "nbformat_minor": 5
}
