{
 "cells": [
  {
   "cell_type": "code",
   "execution_count": 1,
   "id": "e8140020-37f6-4821-b7d0-5fb784cfcebe",
   "metadata": {},
   "outputs": [],
   "source": [
    "import numpy as np\n",
    "import matplotlib.pyplot as plt\n",
    "\n",
    "import tensorflow as tf\n",
    "from tensorflow import keras\n",
    "import tensorflow_datasets as tfds\n",
    "\n",
    "from tensorflow.keras.preprocessing.text import Tokenizer\n",
    "from tensorflow.keras.preprocessing.sequence import pad_sequences\n",
    "\n",
    "import os\n",
    "\n",
    "import utilities"
   ]
  },
  {
   "cell_type": "code",
   "execution_count": null,
   "id": "93c7631a-b08b-4092-a9bc-bc3fb0481755",
   "metadata": {},
   "outputs": [],
   "source": [
    "from importlib import reload\n",
    "reload(utilities)"
   ]
  },
  {
   "cell_type": "code",
   "execution_count": 3,
   "id": "802712e2-19ba-4d57-8566-3e2c284772c9",
   "metadata": {},
   "outputs": [],
   "source": [
    "imdb, info = tfds.load('imdb_reviews', with_info=True, as_supervised=True)"
   ]
  },
  {
   "cell_type": "code",
   "execution_count": 4,
   "id": "aa5b0bfe-5f64-4829-ba03-820c5661d9d2",
   "metadata": {},
   "outputs": [
    {
     "name": "stdout",
     "output_type": "stream",
     "text": [
      "tfds.core.DatasetInfo(\n",
      "    name='imdb_reviews',\n",
      "    full_name='imdb_reviews/plain_text/1.0.0',\n",
      "    description=\"\"\"\n",
      "    Large Movie Review Dataset.\n",
      "    This is a dataset for binary sentiment classification containing substantially more data than previous benchmark datasets. We provide a set of 25,000 highly polar movie reviews for training, and 25,000 for testing. There is additional unlabeled data for use as well.\n",
      "    \"\"\",\n",
      "    config_description=\"\"\"\n",
      "    Plain text\n",
      "    \"\"\",\n",
      "    homepage='http://ai.stanford.edu/~amaas/data/sentiment/',\n",
      "    data_path='~\\\\tensorflow_datasets\\\\imdb_reviews\\\\plain_text\\\\1.0.0',\n",
      "    file_format=tfrecord,\n",
      "    download_size=80.23 MiB,\n",
      "    dataset_size=129.83 MiB,\n",
      "    features=FeaturesDict({\n",
      "        'label': ClassLabel(shape=(), dtype=tf.int64, num_classes=2),\n",
      "        'text': Text(shape=(), dtype=tf.string),\n",
      "    }),\n",
      "    supervised_keys=('text', 'label'),\n",
      "    disable_shuffling=False,\n",
      "    splits={\n",
      "        'test': <SplitInfo num_examples=25000, num_shards=1>,\n",
      "        'train': <SplitInfo num_examples=25000, num_shards=1>,\n",
      "        'unsupervised': <SplitInfo num_examples=50000, num_shards=1>,\n",
      "    },\n",
      "    citation=\"\"\"@InProceedings{maas-EtAl:2011:ACL-HLT2011,\n",
      "      author    = {Maas, Andrew L.  and  Daly, Raymond E.  and  Pham, Peter T.  and  Huang, Dan  and  Ng, Andrew Y.  and  Potts, Christopher},\n",
      "      title     = {Learning Word Vectors for Sentiment Analysis},\n",
      "      booktitle = {Proceedings of the 49th Annual Meeting of the Association for Computational Linguistics: Human Language Technologies},\n",
      "      month     = {June},\n",
      "      year      = {2011},\n",
      "      address   = {Portland, Oregon, USA},\n",
      "      publisher = {Association for Computational Linguistics},\n",
      "      pages     = {142--150},\n",
      "      url       = {http://www.aclweb.org/anthology/P11-1015}\n",
      "    }\"\"\",\n",
      ")\n"
     ]
    }
   ],
   "source": [
    "print(info)"
   ]
  },
  {
   "cell_type": "code",
   "execution_count": 5,
   "id": "e92b9729-0568-4995-ac80-7ec4000917d0",
   "metadata": {},
   "outputs": [
    {
     "name": "stdout",
     "output_type": "stream",
     "text": [
      "{'train': <PrefetchDataset element_spec=(TensorSpec(shape=(), dtype=tf.string, name=None), TensorSpec(shape=(), dtype=tf.int64, name=None))>, 'test': <PrefetchDataset element_spec=(TensorSpec(shape=(), dtype=tf.string, name=None), TensorSpec(shape=(), dtype=tf.int64, name=None))>, 'unsupervised': <PrefetchDataset element_spec=(TensorSpec(shape=(), dtype=tf.string, name=None), TensorSpec(shape=(), dtype=tf.int64, name=None))>}\n"
     ]
    }
   ],
   "source": [
    "print(imdb)"
   ]
  },
  {
   "cell_type": "code",
   "execution_count": 6,
   "id": "696c0bf4-0731-44d4-b35e-71e1170d407a",
   "metadata": {},
   "outputs": [
    {
     "data": {
      "text/plain": [
       "(dict, tensorflow_datasets.core.dataset_info.DatasetInfo)"
      ]
     },
     "execution_count": 6,
     "metadata": {},
     "output_type": "execute_result"
    }
   ],
   "source": [
    "type(imdb), type(info)"
   ]
  },
  {
   "cell_type": "code",
   "execution_count": 7,
   "id": "73844073-eb76-4e2c-8a5f-4e3721f918dc",
   "metadata": {},
   "outputs": [
    {
     "name": "stdout",
     "output_type": "stream",
     "text": [
      "['train', 'test', 'unsupervised']\n"
     ]
    }
   ],
   "source": [
    "print(list(imdb.keys()))"
   ]
  },
  {
   "cell_type": "code",
   "execution_count": 8,
   "id": "ae91e937-bf9e-4526-bde4-7f06771a81f7",
   "metadata": {},
   "outputs": [
    {
     "data": {
      "text/plain": [
       "str"
      ]
     },
     "execution_count": 8,
     "metadata": {},
     "output_type": "execute_result"
    }
   ],
   "source": [
    "type(list(imdb.keys())[0])"
   ]
  },
  {
   "cell_type": "code",
   "execution_count": 9,
   "id": "b2e656b8-3622-4a3d-bdda-7a8203b3dea4",
   "metadata": {},
   "outputs": [
    {
     "name": "stdout",
     "output_type": "stream",
     "text": [
      "(<tf.Tensor: shape=(), dtype=string, numpy=b\"This was an absolutely terrible movie. Don't be lured in by Christopher Walken or Michael Ironside. Both are great actors, but this must simply be their worst role in history. Even their great acting could not redeem this movie's ridiculous storyline. This movie is an early nineties US propaganda piece. The most pathetic scenes were those when the Columbian rebels were making their cases for revolutions. Maria Conchita Alonso appeared phony, and her pseudo-love affair with Walken was nothing but a pathetic emotional plug in a movie that was devoid of any real meaning. I am disappointed that there are movies like this, ruining actor's like Christopher Walken's good name. I could barely sit through it.\">, <tf.Tensor: shape=(), dtype=int64, numpy=0>)\n",
      "(<tf.Tensor: shape=(), dtype=string, numpy=b'I have been known to fall asleep during films, but this is usually due to a combination of things including, really tired, being warm and comfortable on the sette and having just eaten a lot. However on this occasion I fell asleep because the film was rubbish. The plot development was constant. Constantly slow and boring. Things seemed to happen, but with no explanation of what was causing them or why. I admit, I may have missed part of the film, but i watched the majority of it and everything just seemed to happen of its own accord without any real concern for anything else. I cant recommend this film at all.'>, <tf.Tensor: shape=(), dtype=int64, numpy=0>)\n"
     ]
    }
   ],
   "source": [
    "for example in imdb['train'].take(2):\n",
    "    print(example)"
   ]
  },
  {
   "cell_type": "code",
   "execution_count": 10,
   "id": "fe14ef95-d696-4ab8-9bb9-e3ea819a9047",
   "metadata": {},
   "outputs": [
    {
     "name": "stdout",
     "output_type": "stream",
     "text": [
      "tf.Tensor(b'I have been known to fall asleep during films, but this is usually due to a combination of things including, really tired, being warm and comfortable on the sette and having just eaten a lot. However on this occasion I fell asleep because the film was rubbish. The plot development was constant. Constantly slow and boring. Things seemed to happen, but with no explanation of what was causing them or why. I admit, I may have missed part of the film, but i watched the majority of it and everything just seemed to happen of its own accord without any real concern for anything else. I cant recommend this film at all.', shape=(), dtype=string)\n",
      "tf.Tensor(0, shape=(), dtype=int64)\n"
     ]
    }
   ],
   "source": [
    "print(example[0])\n",
    "print(example[1])"
   ]
  },
  {
   "cell_type": "code",
   "execution_count": 11,
   "id": "e032f725-e95b-4a47-94d9-e292be03c753",
   "metadata": {},
   "outputs": [
    {
     "data": {
      "text/plain": [
       "tensorflow.python.data.ops.dataset_ops.PrefetchDataset"
      ]
     },
     "execution_count": 11,
     "metadata": {},
     "output_type": "execute_result"
    }
   ],
   "source": [
    "type(imdb['train'])"
   ]
  },
  {
   "cell_type": "code",
   "execution_count": 12,
   "id": "f1965be8-a636-43c2-aee3-8cf85945a901",
   "metadata": {},
   "outputs": [],
   "source": [
    "trn_txs, trn_lbs = [], []\n",
    "tst_txs, tst_lbs = [], []\n",
    "\n",
    "for tx, lb in imdb['train']:\n",
    "    trn_txs.append(tx.numpy().decode('utf8'))\n",
    "    trn_lbs.append(lb.numpy())\n",
    "    \n",
    "for tx, lb in imdb['test']:\n",
    "    tst_txs.append(tx.numpy().decode('utf8'))\n",
    "    tst_lbs.append(lb.numpy())\n",
    "\n",
    "trn_lbs = np.array(trn_lbs)\n",
    "tst_lbs = np.array(tst_lbs)"
   ]
  },
  {
   "cell_type": "code",
   "execution_count": 23,
   "id": "5106d83d-a5e1-4724-8b31-4eb3edd1715b",
   "metadata": {},
   "outputs": [],
   "source": [
    "num_words = 10000\n",
    "embed_d = 16\n",
    "maxlen = 120"
   ]
  },
  {
   "cell_type": "code",
   "execution_count": 24,
   "id": "9faacb5c-1a1a-44ff-9335-59c02182a7f0",
   "metadata": {},
   "outputs": [],
   "source": [
    "tokenizer = Tokenizer(num_words=num_words, oov_token='<OOV>')\n",
    "tokenizer.fit_on_texts(trn_txs)\n",
    "\n",
    "trn_sqs = tokenizer.texts_to_sequences(trn_txs)\n",
    "trn_sqs = pad_sequences(trn_sqs, padding='post', maxlen=maxlen, truncating='post')\n",
    "\n",
    "tst_sqs = tokenizer.texts_to_sequences(tst_txs)\n",
    "tst_sqs = pad_sequences(tst_sqs, padding='post', maxlen=maxlen, truncating='post')"
   ]
  },
  {
   "cell_type": "code",
   "execution_count": 25,
   "id": "d930aeab-f94c-44f7-8d71-2d1f51661aa4",
   "metadata": {},
   "outputs": [
    {
     "name": "stdout",
     "output_type": "stream",
     "text": [
      "Model: \"sequential_3\"\n",
      "_________________________________________________________________\n",
      " Layer (type)                Output Shape              Param #   \n",
      "=================================================================\n",
      " embedding_3 (Embedding)     (None, 120, 16)           160000    \n",
      "                                                                 \n",
      " flatten_1 (Flatten)         (None, 1920)              0         \n",
      "                                                                 \n",
      " dense_4 (Dense)             (None, 6)                 11526     \n",
      "                                                                 \n",
      " dense_5 (Dense)             (None, 1)                 7         \n",
      "                                                                 \n",
      "=================================================================\n",
      "Total params: 171,533\n",
      "Trainable params: 171,533\n",
      "Non-trainable params: 0\n",
      "_________________________________________________________________\n"
     ]
    }
   ],
   "source": [
    "model = keras.models.Sequential([\n",
    "    keras.layers.Embedding(num_words, embed_d, input_length=maxlen),\n",
    "    keras.layers.Flatten(),\n",
    "    keras.layers.Dense(6, activation='relu'),\n",
    "    keras.layers.Dense(1, activation='sigmoid'),\n",
    "])\n",
    "\n",
    "model.summary()\n",
    "\n",
    "model.compile(loss='binary_crossentropy', optimizer='adam', metrics=['accuracy'])"
   ]
  },
  {
   "cell_type": "code",
   "execution_count": 26,
   "id": "be1e74e3-6ca4-4e72-974c-4b8ff40d9e44",
   "metadata": {},
   "outputs": [
    {
     "name": "stdout",
     "output_type": "stream",
     "text": [
      "Epoch 1/10\n",
      "782/782 [==============================] - 4s 4ms/step - loss: 0.4978 - accuracy: 0.7421 - val_loss: 0.3817 - val_accuracy: 0.8270\n",
      "Epoch 2/10\n",
      "782/782 [==============================] - 3s 4ms/step - loss: 0.2424 - accuracy: 0.9075 - val_loss: 0.4300 - val_accuracy: 0.8148\n",
      "Epoch 3/10\n",
      "782/782 [==============================] - 3s 4ms/step - loss: 0.0952 - accuracy: 0.9773 - val_loss: 0.5068 - val_accuracy: 0.8129\n",
      "Epoch 4/10\n",
      "782/782 [==============================] - 3s 4ms/step - loss: 0.0299 - accuracy: 0.9958 - val_loss: 0.6392 - val_accuracy: 0.8021\n",
      "Epoch 5/10\n",
      "782/782 [==============================] - 3s 4ms/step - loss: 0.0128 - accuracy: 0.9984 - val_loss: 0.6739 - val_accuracy: 0.8074\n",
      "Epoch 6/10\n",
      "782/782 [==============================] - 3s 4ms/step - loss: 0.0075 - accuracy: 0.9989 - val_loss: 0.7245 - val_accuracy: 0.8055\n",
      "Epoch 7/10\n",
      "782/782 [==============================] - 3s 4ms/step - loss: 0.0025 - accuracy: 0.9996 - val_loss: 0.8076 - val_accuracy: 0.8040\n",
      "Epoch 8/10\n",
      "782/782 [==============================] - 3s 4ms/step - loss: 6.5668e-04 - accuracy: 1.0000 - val_loss: 0.8511 - val_accuracy: 0.8072\n",
      "Epoch 9/10\n",
      "782/782 [==============================] - 3s 4ms/step - loss: 3.0642e-04 - accuracy: 1.0000 - val_loss: 0.8933 - val_accuracy: 0.8073\n",
      "Epoch 10/10\n",
      "782/782 [==============================] - 3s 4ms/step - loss: 1.8142e-04 - accuracy: 1.0000 - val_loss: 0.9354 - val_accuracy: 0.8079\n",
      "CPU times: total: 1min 11s\n",
      "Wall time: 29.8 s\n"
     ]
    }
   ],
   "source": [
    "%%time\n",
    "\n",
    "history = model.fit(trn_sqs, trn_lbs, epochs=10, validation_data=(tst_sqs, tst_lbs))"
   ]
  },
  {
   "cell_type": "code",
   "execution_count": 27,
   "id": "aff1b745-5826-4b52-97a7-8064d7bed273",
   "metadata": {},
   "outputs": [
    {
     "data": {
      "image/png": "[encoded data removed]",
      "text/plain": [
       "<Figure size 1008x288 with 2 Axes>"
      ]
     },
     "metadata": {
      "needs_background": "light"
     },
     "output_type": "display_data"
    }
   ],
   "source": [
    "utilities.plot_train_val_metrics(history, metrics=('loss', 'accuracy'))"
   ]
  },
  {
   "cell_type": "code",
   "execution_count": 28,
   "id": "96d6fdc6-825b-4fda-aee9-3806bb267179",
   "metadata": {},
   "outputs": [
    {
     "data": {
      "text/plain": [
       "(10000, 16)"
      ]
     },
     "execution_count": 28,
     "metadata": {},
     "output_type": "execute_result"
    }
   ],
   "source": [
    "model.layers[0].get_weights()[0].shape"
   ]
  },
  {
   "cell_type": "code",
   "execution_count": 29,
   "id": "d402a376-2fb9-445b-bc87-d14d2d95af48",
   "metadata": {},
   "outputs": [],
   "source": [
    "utilities.save_tsv(model, tokenizer, os.path.join('data', 'imdb', 'imdb'))"
   ]
  },
  {
   "cell_type": "code",
   "execution_count": 34,
   "id": "e6eb7604-7e7e-4c8b-9a27-323bf2239a63",
   "metadata": {},
   "outputs": [],
   "source": [
    "def fit_imdb(num_words, embed_d, maxlen, epochs=10):\n",
    "    tokenizer = Tokenizer(num_words=num_words, oov_token='<OOV>')\n",
    "    tokenizer.fit_on_texts(trn_txs)\n",
    "\n",
    "    trn_sqs = tokenizer.texts_to_sequences(trn_txs)\n",
    "    trn_sqs = pad_sequences(trn_sqs, padding='post', maxlen=maxlen, truncating='post')\n",
    "\n",
    "    tst_sqs = tokenizer.texts_to_sequences(tst_txs)\n",
    "    tst_sqs = pad_sequences(tst_sqs, padding='post', maxlen=maxlen, truncating='post')\n",
    "    \n",
    "    model = keras.models.Sequential([\n",
    "        keras.layers.Embedding(num_words, embed_d, input_length=maxlen),\n",
    "        keras.layers.GlobalAveragePooling1D(),\n",
    "        keras.layers.Dense(1, activation='sigmoid'),\n",
    "    ])\n",
    "    model.summary()\n",
    "    model.compile(loss='binary_crossentropy', optimizer='adam', metrics=['accuracy'])\n",
    "    \n",
    "    history = model.fit(trn_sqs, trn_lbs, epochs=epochs, validation_data=(tst_sqs, tst_lbs))\n",
    "    utilities.plot_train_val_metrics(history, metrics=('loss', 'accuracy'))\n",
    "    \n",
    "    return model, tokenizer"
   ]
  },
  {
   "cell_type": "code",
   "execution_count": 31,
   "id": "33284ee0-6d14-4ae0-8319-138edaca7239",
   "metadata": {},
   "outputs": [
    {
     "name": "stdout",
     "output_type": "stream",
     "text": [
      "Model: \"sequential_4\"\n",
      "_________________________________________________________________\n",
      " Layer (type)                Output Shape              Param #   \n",
      "=================================================================\n",
      " embedding_4 (Embedding)     (None, 120, 16)           160000    \n",
      "                                                                 \n",
      " global_average_pooling1d_2   (None, 16)               0         \n",
      " (GlobalAveragePooling1D)                                        \n",
      "                                                                 \n",
      " dense_6 (Dense)             (None, 1)                 17        \n",
      "                                                                 \n",
      "=================================================================\n",
      "Total params: 160,017\n",
      "Trainable params: 160,017\n",
      "Non-trainable params: 0\n",
      "_________________________________________________________________\n",
      "Epoch 1/10\n",
      "782/782 [==============================] - 4s 4ms/step - loss: 0.6297 - accuracy: 0.7203 - val_loss: 0.5508 - val_accuracy: 0.7727\n",
      "Epoch 2/10\n",
      "782/782 [==============================] - 3s 3ms/step - loss: 0.4698 - accuracy: 0.8178 - val_loss: 0.4432 - val_accuracy: 0.8120\n",
      "Epoch 3/10\n",
      "782/782 [==============================] - 3s 4ms/step - loss: 0.3814 - accuracy: 0.8506 - val_loss: 0.4018 - val_accuracy: 0.8241\n",
      "Epoch 4/10\n",
      "782/782 [==============================] - 3s 4ms/step - loss: 0.3341 - accuracy: 0.8677 - val_loss: 0.3777 - val_accuracy: 0.8338\n",
      "Epoch 5/10\n",
      "782/782 [==============================] - 3s 4ms/step - loss: 0.3021 - accuracy: 0.8777 - val_loss: 0.3675 - val_accuracy: 0.8374\n",
      "Epoch 6/10\n",
      "782/782 [==============================] - 3s 4ms/step - loss: 0.2779 - accuracy: 0.8892 - val_loss: 0.3635 - val_accuracy: 0.8397\n",
      "Epoch 7/10\n",
      "782/782 [==============================] - 3s 4ms/step - loss: 0.2582 - accuracy: 0.8963 - val_loss: 0.3648 - val_accuracy: 0.8388\n",
      "Epoch 8/10\n",
      "782/782 [==============================] - 3s 4ms/step - loss: 0.2413 - accuracy: 0.9051 - val_loss: 0.3684 - val_accuracy: 0.8376\n",
      "Epoch 9/10\n",
      "782/782 [==============================] - 3s 4ms/step - loss: 0.2269 - accuracy: 0.9129 - val_loss: 0.3781 - val_accuracy: 0.8343\n",
      "Epoch 10/10\n",
      "782/782 [==============================] - 3s 4ms/step - loss: 0.2141 - accuracy: 0.9187 - val_loss: 0.3817 - val_accuracy: 0.8346\n",
      "CPU times: total: 1min 16s\n",
      "Wall time: 41.3 s\n"
     ]
    },
    {
     "data": {
      "image/png": "[encoded data removed]",
      "text/plain": [
       "<Figure size 1008x288 with 2 Axes>"
      ]
     },
     "metadata": {
      "needs_background": "light"
     },
     "output_type": "display_data"
    }
   ],
   "source": [
    "%%time\n",
    "model, tokenizer = fit_imdb(num_words=10000, embed_d=16, maxlen=120)"
   ]
  },
  {
   "cell_type": "code",
   "execution_count": 39,
   "id": "f3fe0a92-69d9-47e2-9f55-b2b5e3a03623",
   "metadata": {},
   "outputs": [
    {
     "name": "stdout",
     "output_type": "stream",
     "text": [
      "Model: \"sequential_10\"\n",
      "_________________________________________________________________\n",
      " Layer (type)                Output Shape              Param #   \n",
      "=================================================================\n",
      " embedding_10 (Embedding)    (None, 120, 1)            10000     \n",
      "                                                                 \n",
      " global_average_pooling1d_8   (None, 1)                0         \n",
      " (GlobalAveragePooling1D)                                        \n",
      "                                                                 \n",
      " dense_12 (Dense)            (None, 1)                 2         \n",
      "                                                                 \n",
      "=================================================================\n",
      "Total params: 10,002\n",
      "Trainable params: 10,002\n",
      "Non-trainable params: 0\n",
      "_________________________________________________________________\n",
      "Epoch 1/30\n",
      "782/782 [==============================] - 3s 3ms/step - loss: 0.6858 - accuracy: 0.6819 - val_loss: 0.6744 - val_accuracy: 0.7100\n",
      "Epoch 2/30\n",
      "782/782 [==============================] - 2s 3ms/step - loss: 0.6538 - accuracy: 0.7353 - val_loss: 0.6379 - val_accuracy: 0.7270\n",
      "Epoch 3/30\n",
      "782/782 [==============================] - 2s 3ms/step - loss: 0.6105 - accuracy: 0.7580 - val_loss: 0.5976 - val_accuracy: 0.7494\n",
      "Epoch 4/30\n",
      "782/782 [==============================] - 2s 3ms/step - loss: 0.5666 - accuracy: 0.7804 - val_loss: 0.5596 - val_accuracy: 0.7694\n",
      "Epoch 5/30\n",
      "782/782 [==============================] - 2s 3ms/step - loss: 0.5266 - accuracy: 0.7982 - val_loss: 0.5262 - val_accuracy: 0.7876\n",
      "Epoch 6/30\n",
      "782/782 [==============================] - 2s 3ms/step - loss: 0.4914 - accuracy: 0.8146 - val_loss: 0.4975 - val_accuracy: 0.7988\n",
      "Epoch 7/30\n",
      "782/782 [==============================] - 2s 3ms/step - loss: 0.4609 - accuracy: 0.8253 - val_loss: 0.4740 - val_accuracy: 0.8054\n",
      "Epoch 8/30\n",
      "782/782 [==============================] - 2s 3ms/step - loss: 0.4350 - accuracy: 0.8352 - val_loss: 0.4540 - val_accuracy: 0.8113\n",
      "Epoch 9/30\n",
      "782/782 [==============================] - 2s 3ms/step - loss: 0.4129 - accuracy: 0.8431 - val_loss: 0.4375 - val_accuracy: 0.8150\n",
      "Epoch 10/30\n",
      "782/782 [==============================] - 2s 3ms/step - loss: 0.3939 - accuracy: 0.8487 - val_loss: 0.4249 - val_accuracy: 0.8180\n",
      "Epoch 11/30\n",
      "782/782 [==============================] - 2s 3ms/step - loss: 0.3775 - accuracy: 0.8539 - val_loss: 0.4137 - val_accuracy: 0.8205\n",
      "Epoch 12/30\n",
      "782/782 [==============================] - 2s 3ms/step - loss: 0.3630 - accuracy: 0.8583 - val_loss: 0.4042 - val_accuracy: 0.8232\n",
      "Epoch 13/30\n",
      "782/782 [==============================] - 2s 3ms/step - loss: 0.3503 - accuracy: 0.8629 - val_loss: 0.3965 - val_accuracy: 0.8256\n",
      "Epoch 14/30\n",
      "782/782 [==============================] - 2s 3ms/step - loss: 0.3387 - accuracy: 0.8662 - val_loss: 0.3890 - val_accuracy: 0.8289\n",
      "Epoch 15/30\n",
      "782/782 [==============================] - 2s 3ms/step - loss: 0.3283 - accuracy: 0.8700 - val_loss: 0.3838 - val_accuracy: 0.8306\n",
      "Epoch 16/30\n",
      "782/782 [==============================] - 2s 3ms/step - loss: 0.3188 - accuracy: 0.8733 - val_loss: 0.3794 - val_accuracy: 0.8327\n",
      "Epoch 17/30\n",
      "782/782 [==============================] - 2s 3ms/step - loss: 0.3100 - accuracy: 0.8764 - val_loss: 0.3775 - val_accuracy: 0.8324\n",
      "Epoch 18/30\n",
      "782/782 [==============================] - 2s 3ms/step - loss: 0.3021 - accuracy: 0.8788 - val_loss: 0.3735 - val_accuracy: 0.8345\n",
      "Epoch 19/30\n",
      "782/782 [==============================] - 2s 3ms/step - loss: 0.2945 - accuracy: 0.8810 - val_loss: 0.3697 - val_accuracy: 0.8356\n",
      "Epoch 20/30\n",
      "782/782 [==============================] - 2s 3ms/step - loss: 0.2874 - accuracy: 0.8842 - val_loss: 0.3672 - val_accuracy: 0.8374\n",
      "Epoch 21/30\n",
      "782/782 [==============================] - 2s 2ms/step - loss: 0.2809 - accuracy: 0.8873 - val_loss: 0.3664 - val_accuracy: 0.8378\n",
      "Epoch 22/30\n",
      "782/782 [==============================] - 2s 3ms/step - loss: 0.2746 - accuracy: 0.8896 - val_loss: 0.3655 - val_accuracy: 0.8383\n",
      "Epoch 23/30\n",
      "782/782 [==============================] - 2s 3ms/step - loss: 0.2688 - accuracy: 0.8918 - val_loss: 0.3648 - val_accuracy: 0.8391\n",
      "Epoch 24/30\n",
      "782/782 [==============================] - 2s 3ms/step - loss: 0.2631 - accuracy: 0.8951 - val_loss: 0.3644 - val_accuracy: 0.8393\n",
      "Epoch 25/30\n",
      "782/782 [==============================] - 2s 3ms/step - loss: 0.2579 - accuracy: 0.8967 - val_loss: 0.3646 - val_accuracy: 0.8383\n",
      "Epoch 26/30\n",
      "782/782 [==============================] - 2s 3ms/step - loss: 0.2528 - accuracy: 0.8990 - val_loss: 0.3647 - val_accuracy: 0.8385\n",
      "Epoch 27/30\n",
      "782/782 [==============================] - 2s 2ms/step - loss: 0.2479 - accuracy: 0.9018 - val_loss: 0.3642 - val_accuracy: 0.8396\n",
      "Epoch 28/30\n",
      "782/782 [==============================] - 2s 3ms/step - loss: 0.2433 - accuracy: 0.9037 - val_loss: 0.3659 - val_accuracy: 0.8382\n",
      "Epoch 29/30\n",
      "782/782 [==============================] - 2s 3ms/step - loss: 0.2388 - accuracy: 0.9058 - val_loss: 0.3663 - val_accuracy: 0.8388\n",
      "Epoch 30/30\n",
      "782/782 [==============================] - 2s 3ms/step - loss: 0.2345 - accuracy: 0.9083 - val_loss: 0.3687 - val_accuracy: 0.8372\n",
      "CPU times: total: 1min 46s\n",
      "Wall time: 1min 14s\n"
     ]
    },
    {
     "data": {
      "image/png": "[encoded data removed]",
      "text/plain": [
       "<Figure size 1008x288 with 2 Axes>"
      ]
     },
     "metadata": {
      "needs_background": "light"
     },
     "output_type": "display_data"
    }
   ],
   "source": [
    "%%time\n",
    "model, tokenizer = fit_imdb(num_words=10000, embed_d=1, maxlen=120, epochs=30)"
   ]
  },
  {
   "cell_type": "code",
   "execution_count": 40,
   "id": "949eb20f-8924-4a03-8414-ed2e78918be9",
   "metadata": {},
   "outputs": [
    {
     "name": "stdout",
     "output_type": "stream",
     "text": [
      "   -9.4055 worst              5.7935 excellent      \n",
      "   -7.5195 awful              4.9663 superb         \n",
      "   -7.2237 waste              4.9569 wonderful      \n",
      "   -6.6512 boring             4.8172 refreshing     \n",
      "   -5.9761 disappointment     4.7126 funniest       \n",
      "   -5.9077 horrible           4.6354 amazing        \n",
      "   -5.7313 poorly             4.5987 wonderfully    \n",
      "   -5.7244 dull               4.5130 fantastic      \n",
      "   -5.6047 terrible           4.3118 perfect        \n",
      "   -5.4524 poor               4.1718 favorite       \n",
      "   -5.3481 lame               4.1433 loved          \n",
      "   -5.2383 worse              4.0707 touching       \n",
      "   -5.2065 pointless          3.8772 rare           \n",
      "   -5.1981 annoying           3.8702 captures       \n",
      "   -5.1857 unfunny            3.8549 pleasantly     \n",
      "   -4.9241 badly              3.8108 gem            \n",
      "   -4.9038 mess               3.7638 extraordinary  \n",
      "   -4.8758 unfortunately      3.7590 best           \n",
      "   -4.8700 fails              3.7510 enjoyed        \n",
      "   -4.8263 tedious            3.7016 brilliant      \n"
     ]
    }
   ],
   "source": [
    "utilities.embed_extremes(model, tokenizer)"
   ]
  },
  {
   "cell_type": "code",
   "execution_count": 41,
   "id": "3056d540-fb56-4945-8ab2-60b1b960568a",
   "metadata": {},
   "outputs": [],
   "source": [
    "utilities.save_tsv(model, tokenizer, os.path.join('data', 'imdb', 'imdb-pool'))"
   ]
  },
  {
   "cell_type": "code",
   "execution_count": 36,
   "id": "813a49f4-89f2-49d7-8b3c-2adc440d20f9",
   "metadata": {},
   "outputs": [
    {
     "name": "stdout",
     "output_type": "stream",
     "text": [
      "Model: \"sequential_8\"\n",
      "_________________________________________________________________\n",
      " Layer (type)                Output Shape              Param #   \n",
      "=================================================================\n",
      " embedding_8 (Embedding)     (None, 120, 1)            1000      \n",
      "                                                                 \n",
      " global_average_pooling1d_6   (None, 1)                0         \n",
      " (GlobalAveragePooling1D)                                        \n",
      "                                                                 \n",
      " dense_10 (Dense)            (None, 1)                 2         \n",
      "                                                                 \n",
      "=================================================================\n",
      "Total params: 1,002\n",
      "Trainable params: 1,002\n",
      "Non-trainable params: 0\n",
      "_________________________________________________________________\n",
      "Epoch 1/30\n",
      "782/782 [==============================] - 3s 3ms/step - loss: 0.6872 - accuracy: 0.6340 - val_loss: 0.6779 - val_accuracy: 0.6792\n",
      "Epoch 2/30\n",
      "782/782 [==============================] - 2s 3ms/step - loss: 0.6624 - accuracy: 0.6918 - val_loss: 0.6483 - val_accuracy: 0.6949\n",
      "Epoch 3/30\n",
      "782/782 [==============================] - 2s 2ms/step - loss: 0.6291 - accuracy: 0.7150 - val_loss: 0.6154 - val_accuracy: 0.7158\n",
      "Epoch 4/30\n",
      "782/782 [==============================] - 2s 3ms/step - loss: 0.5958 - accuracy: 0.7336 - val_loss: 0.5839 - val_accuracy: 0.7372\n",
      "Epoch 5/30\n",
      "782/782 [==============================] - 2s 3ms/step - loss: 0.5649 - accuracy: 0.7520 - val_loss: 0.5553 - val_accuracy: 0.7546\n",
      "Epoch 6/30\n",
      "782/782 [==============================] - 2s 3ms/step - loss: 0.5374 - accuracy: 0.7662 - val_loss: 0.5301 - val_accuracy: 0.7685\n",
      "Epoch 7/30\n",
      "782/782 [==============================] - 2s 3ms/step - loss: 0.5137 - accuracy: 0.7787 - val_loss: 0.5085 - val_accuracy: 0.7767\n",
      "Epoch 8/30\n",
      "782/782 [==============================] - 2s 2ms/step - loss: 0.4936 - accuracy: 0.7874 - val_loss: 0.4906 - val_accuracy: 0.7836\n",
      "Epoch 9/30\n",
      "782/782 [==============================] - 2s 2ms/step - loss: 0.4769 - accuracy: 0.7940 - val_loss: 0.4760 - val_accuracy: 0.7899\n",
      "Epoch 10/30\n",
      "782/782 [==============================] - 2s 2ms/step - loss: 0.4630 - accuracy: 0.7981 - val_loss: 0.4636 - val_accuracy: 0.7922\n",
      "Epoch 11/30\n",
      "782/782 [==============================] - 2s 3ms/step - loss: 0.4515 - accuracy: 0.8011 - val_loss: 0.4535 - val_accuracy: 0.7962\n",
      "Epoch 12/30\n",
      "782/782 [==============================] - 2s 2ms/step - loss: 0.4418 - accuracy: 0.8042 - val_loss: 0.4453 - val_accuracy: 0.7984\n",
      "Epoch 13/30\n",
      "782/782 [==============================] - 2s 3ms/step - loss: 0.4337 - accuracy: 0.8063 - val_loss: 0.4386 - val_accuracy: 0.8006\n",
      "Epoch 14/30\n",
      "782/782 [==============================] - 2s 2ms/step - loss: 0.4270 - accuracy: 0.8092 - val_loss: 0.4330 - val_accuracy: 0.8008\n",
      "Epoch 15/30\n",
      "782/782 [==============================] - 2s 2ms/step - loss: 0.4213 - accuracy: 0.8108 - val_loss: 0.4281 - val_accuracy: 0.8048\n",
      "Epoch 16/30\n",
      "782/782 [==============================] - 2s 2ms/step - loss: 0.4164 - accuracy: 0.8134 - val_loss: 0.4240 - val_accuracy: 0.8053\n",
      "Epoch 17/30\n",
      "782/782 [==============================] - 2s 2ms/step - loss: 0.4121 - accuracy: 0.8138 - val_loss: 0.4206 - val_accuracy: 0.8069\n",
      "Epoch 18/30\n",
      "782/782 [==============================] - 2s 3ms/step - loss: 0.4083 - accuracy: 0.8154 - val_loss: 0.4180 - val_accuracy: 0.8076\n",
      "Epoch 19/30\n",
      "782/782 [==============================] - 2s 3ms/step - loss: 0.4052 - accuracy: 0.8175 - val_loss: 0.4156 - val_accuracy: 0.8088\n",
      "Epoch 20/30\n",
      "782/782 [==============================] - 2s 2ms/step - loss: 0.4024 - accuracy: 0.8185 - val_loss: 0.4137 - val_accuracy: 0.8076\n",
      "Epoch 21/30\n",
      "782/782 [==============================] - 2s 2ms/step - loss: 0.3999 - accuracy: 0.8201 - val_loss: 0.4118 - val_accuracy: 0.8095\n",
      "Epoch 22/30\n",
      "782/782 [==============================] - 2s 3ms/step - loss: 0.3978 - accuracy: 0.8213 - val_loss: 0.4103 - val_accuracy: 0.8109\n",
      "Epoch 23/30\n",
      "782/782 [==============================] - 2s 3ms/step - loss: 0.3958 - accuracy: 0.8233 - val_loss: 0.4092 - val_accuracy: 0.8116\n",
      "Epoch 24/30\n",
      "782/782 [==============================] - 2s 3ms/step - loss: 0.3940 - accuracy: 0.8230 - val_loss: 0.4079 - val_accuracy: 0.8120\n",
      "Epoch 25/30\n",
      "782/782 [==============================] - 2s 2ms/step - loss: 0.3925 - accuracy: 0.8242 - val_loss: 0.4071 - val_accuracy: 0.8115\n",
      "Epoch 26/30\n",
      "782/782 [==============================] - 2s 2ms/step - loss: 0.3912 - accuracy: 0.8250 - val_loss: 0.4063 - val_accuracy: 0.8124\n",
      "Epoch 27/30\n",
      "782/782 [==============================] - 2s 2ms/step - loss: 0.3899 - accuracy: 0.8261 - val_loss: 0.4057 - val_accuracy: 0.8119\n",
      "Epoch 28/30\n",
      "782/782 [==============================] - 2s 3ms/step - loss: 0.3887 - accuracy: 0.8265 - val_loss: 0.4051 - val_accuracy: 0.8131\n",
      "Epoch 29/30\n",
      "782/782 [==============================] - 2s 2ms/step - loss: 0.3877 - accuracy: 0.8276 - val_loss: 0.4047 - val_accuracy: 0.8119\n",
      "Epoch 30/30\n",
      "782/782 [==============================] - 2s 2ms/step - loss: 0.3868 - accuracy: 0.8272 - val_loss: 0.4042 - val_accuracy: 0.8129\n",
      "CPU times: total: 1min 40s\n",
      "Wall time: 1min 11s\n"
     ]
    },
    {
     "data": {
      "image/png": "[encoded data removed]",
      "text/plain": [
       "<Figure size 1008x288 with 2 Axes>"
      ]
     },
     "metadata": {
      "needs_background": "light"
     },
     "output_type": "display_data"
    }
   ],
   "source": [
    "%%time\n",
    "model, tokenizer = fit_imdb(num_words=1000, embed_d=1, maxlen=120, epochs=30)"
   ]
  },
  {
   "cell_type": "code",
   "execution_count": 37,
   "id": "e9105886-e87c-48a5-a2cf-27411be0b12e",
   "metadata": {},
   "outputs": [
    {
     "name": "stdout",
     "output_type": "stream",
     "text": [
      "Model: \"sequential_9\"\n",
      "_________________________________________________________________\n",
      " Layer (type)                Output Shape              Param #   \n",
      "=================================================================\n",
      " embedding_9 (Embedding)     (None, 60, 1)             1000      \n",
      "                                                                 \n",
      " global_average_pooling1d_7   (None, 1)                0         \n",
      " (GlobalAveragePooling1D)                                        \n",
      "                                                                 \n",
      " dense_11 (Dense)            (None, 1)                 2         \n",
      "                                                                 \n",
      "=================================================================\n",
      "Total params: 1,002\n",
      "Trainable params: 1,002\n",
      "Non-trainable params: 0\n",
      "_________________________________________________________________\n",
      "Epoch 1/30\n",
      "782/782 [==============================] - 3s 3ms/step - loss: 0.6858 - accuracy: 0.6229 - val_loss: 0.6766 - val_accuracy: 0.6582\n",
      "Epoch 2/30\n",
      "782/782 [==============================] - 2s 2ms/step - loss: 0.6630 - accuracy: 0.6747 - val_loss: 0.6509 - val_accuracy: 0.6778\n",
      "Epoch 3/30\n",
      "782/782 [==============================] - 2s 2ms/step - loss: 0.6347 - accuracy: 0.6925 - val_loss: 0.6239 - val_accuracy: 0.6935\n",
      "Epoch 4/30\n",
      "782/782 [==============================] - 2s 2ms/step - loss: 0.6072 - accuracy: 0.7105 - val_loss: 0.5987 - val_accuracy: 0.7104\n",
      "Epoch 5/30\n",
      "782/782 [==============================] - 2s 2ms/step - loss: 0.5825 - accuracy: 0.7227 - val_loss: 0.5768 - val_accuracy: 0.7230\n",
      "Epoch 6/30\n",
      "782/782 [==============================] - 2s 2ms/step - loss: 0.5614 - accuracy: 0.7346 - val_loss: 0.5586 - val_accuracy: 0.7295\n",
      "Epoch 7/30\n",
      "782/782 [==============================] - 2s 2ms/step - loss: 0.5437 - accuracy: 0.7418 - val_loss: 0.5435 - val_accuracy: 0.7368\n",
      "Epoch 8/30\n",
      "782/782 [==============================] - 2s 2ms/step - loss: 0.5292 - accuracy: 0.7471 - val_loss: 0.5316 - val_accuracy: 0.7406\n",
      "Epoch 9/30\n",
      "782/782 [==============================] - 2s 2ms/step - loss: 0.5173 - accuracy: 0.7527 - val_loss: 0.5217 - val_accuracy: 0.7434\n",
      "Epoch 10/30\n",
      "782/782 [==============================] - 2s 2ms/step - loss: 0.5075 - accuracy: 0.7566 - val_loss: 0.5139 - val_accuracy: 0.7460\n",
      "Epoch 11/30\n",
      "782/782 [==============================] - 2s 2ms/step - loss: 0.4995 - accuracy: 0.7601 - val_loss: 0.5079 - val_accuracy: 0.7487\n",
      "Epoch 12/30\n",
      "782/782 [==============================] - 2s 2ms/step - loss: 0.4929 - accuracy: 0.7628 - val_loss: 0.5028 - val_accuracy: 0.7500\n",
      "Epoch 13/30\n",
      "782/782 [==============================] - 2s 2ms/step - loss: 0.4872 - accuracy: 0.7658 - val_loss: 0.4996 - val_accuracy: 0.7524\n",
      "Epoch 14/30\n",
      "782/782 [==============================] - 2s 2ms/step - loss: 0.4828 - accuracy: 0.7676 - val_loss: 0.4954 - val_accuracy: 0.7547\n",
      "Epoch 15/30\n",
      "782/782 [==============================] - 2s 2ms/step - loss: 0.4789 - accuracy: 0.7688 - val_loss: 0.4929 - val_accuracy: 0.7547\n",
      "Epoch 16/30\n",
      "782/782 [==============================] - 2s 2ms/step - loss: 0.4756 - accuracy: 0.7713 - val_loss: 0.4908 - val_accuracy: 0.7559\n",
      "Epoch 17/30\n",
      "782/782 [==============================] - 2s 2ms/step - loss: 0.4728 - accuracy: 0.7722 - val_loss: 0.4891 - val_accuracy: 0.7567\n",
      "Epoch 18/30\n",
      "782/782 [==============================] - 2s 2ms/step - loss: 0.4704 - accuracy: 0.7736 - val_loss: 0.4879 - val_accuracy: 0.7569\n",
      "Epoch 19/30\n",
      "782/782 [==============================] - 2s 2ms/step - loss: 0.4683 - accuracy: 0.7754 - val_loss: 0.4869 - val_accuracy: 0.7570\n",
      "Epoch 20/30\n",
      "782/782 [==============================] - 2s 3ms/step - loss: 0.4665 - accuracy: 0.7760 - val_loss: 0.4862 - val_accuracy: 0.7568\n",
      "Epoch 21/30\n",
      "782/782 [==============================] - 2s 3ms/step - loss: 0.4652 - accuracy: 0.7752 - val_loss: 0.4854 - val_accuracy: 0.7576\n",
      "Epoch 22/30\n",
      "782/782 [==============================] - 2s 2ms/step - loss: 0.4637 - accuracy: 0.7768 - val_loss: 0.4854 - val_accuracy: 0.7585\n",
      "Epoch 23/30\n",
      "782/782 [==============================] - 2s 2ms/step - loss: 0.4625 - accuracy: 0.7791 - val_loss: 0.4847 - val_accuracy: 0.7588\n",
      "Epoch 24/30\n",
      "782/782 [==============================] - 2s 2ms/step - loss: 0.4615 - accuracy: 0.7793 - val_loss: 0.4844 - val_accuracy: 0.7590\n",
      "Epoch 25/30\n",
      "782/782 [==============================] - 2s 2ms/step - loss: 0.4606 - accuracy: 0.7791 - val_loss: 0.4842 - val_accuracy: 0.7581\n",
      "Epoch 26/30\n",
      "782/782 [==============================] - 2s 3ms/step - loss: 0.4598 - accuracy: 0.7802 - val_loss: 0.4841 - val_accuracy: 0.7589\n",
      "Epoch 27/30\n",
      "782/782 [==============================] - 2s 2ms/step - loss: 0.4591 - accuracy: 0.7814 - val_loss: 0.4841 - val_accuracy: 0.7587\n",
      "Epoch 28/30\n",
      "782/782 [==============================] - 2s 2ms/step - loss: 0.4585 - accuracy: 0.7809 - val_loss: 0.4841 - val_accuracy: 0.7584\n",
      "Epoch 29/30\n",
      "782/782 [==============================] - 2s 2ms/step - loss: 0.4579 - accuracy: 0.7820 - val_loss: 0.4841 - val_accuracy: 0.7590\n",
      "Epoch 30/30\n",
      "782/782 [==============================] - 2s 3ms/step - loss: 0.4575 - accuracy: 0.7818 - val_loss: 0.4842 - val_accuracy: 0.7582\n",
      "CPU times: total: 1min 38s\n",
      "Wall time: 1min 9s\n"
     ]
    },
    {
     "data": {
      "image/png": "[encoded data removed]",
      "text/plain": [
       "<Figure size 1008x288 with 2 Axes>"
      ]
     },
     "metadata": {
      "needs_background": "light"
     },
     "output_type": "display_data"
    }
   ],
   "source": [
    "%%time\n",
    "model, tokenizer = fit_imdb(num_words=1000, embed_d=1, maxlen=60, epochs=30)"
   ]
  },
  {
   "cell_type": "code",
   "execution_count": 38,
   "id": "31e81de4-6418-4fce-85ff-554ac976f119",
   "metadata": {},
   "outputs": [
    {
     "name": "stdout",
     "output_type": "stream",
     "text": [
      "   -9.2049 worst              4.8228 wonderful      \n",
      "   -7.0137 awful              4.7256 amazing        \n",
      "   -5.6776 waste              4.6927 excellent      \n",
      "   -5.3314 worse              4.2063 unique         \n",
      "   -5.3121 terrible           4.1117 superb         \n",
      "   -5.2985 horrible           3.7276 fantastic      \n",
      "   -5.2066 boring             3.5697 best           \n",
      "   -5.0586 fails              3.3116 surprised      \n",
      "   -4.9218 mess               3.2397 perfect        \n",
      "   -4.7772 poorly             3.2207 loved          \n",
      "   -4.6691 dull               3.2181 favorite       \n",
      "   -4.5714 ridiculous         3.1994 simple         \n",
      "   -4.5529 lame               3.0817 hilarious      \n",
      "   -4.5208 poor               3.0793 brilliant      \n",
      "   -4.4881 unfortunately      3.0688 enjoyed        \n",
      "   -4.3785 badly              2.8881 fun            \n",
      "   -4.1145 bad                2.7890 perfectly      \n",
      "   -3.6990 crap               2.7657 masterpiece    \n",
      "   -3.6039 stupid             2.6430 great          \n",
      "   -3.5798 oh                 2.6164 enjoyable      \n"
     ]
    }
   ],
   "source": [
    "utilities.embed_extremes(model, tokenizer)"
   ]
  },
  {
   "cell_type": "markdown",
   "id": "f520dfa3-c2bd-4ed5-974c-1682be063664",
   "metadata": {},
   "source": [
    "# Subwords encoder"
   ]
  },
  {
   "cell_type": "code",
   "execution_count": 42,
   "id": "b231a0ab-0976-46cb-a8d6-4fac46cf5d36",
   "metadata": {},
   "outputs": [
    {
     "name": "stderr",
     "output_type": "stream",
     "text": [
      "WARNING:absl:TFDS datasets with text encoding are deprecated and will be removed in a future version. Instead, you should use the plain text version and tokenize the text using `tensorflow_text` (See: https://www.tensorflow.org/tutorials/tensorflow_text/intro#tfdata_example)\n"
     ]
    },
    {
     "name": "stdout",
     "output_type": "stream",
     "text": [
      "\u001b[1mDownloading and preparing dataset Unknown size (download: Unknown size, generated: Unknown size, total: Unknown size) to ~\\tensorflow_datasets\\imdb_reviews\\subwords8k\\1.0.0...\u001b[0m\n"
     ]
    },
    {
     "data": {
      "application/vnd.jupyter.widget-view+json": {
       "model_id": "51686fa3a80443ac823d4134a8fd7f39",
       "version_major": 2,
       "version_minor": 0
      },
      "text/plain": [
       "Dl Completed...: 0 url [00:00, ? url/s]"
      ]
     },
     "metadata": {},
     "output_type": "display_data"
    },
    {
     "data": {
      "application/vnd.jupyter.widget-view+json": {
       "model_id": "dda6a6eac3cd49c88c16c54913cb7a49",
       "version_major": 2,
       "version_minor": 0
      },
      "text/plain": [
       "Dl Size...: 0 MiB [00:00, ? MiB/s]"
      ]
     },
     "metadata": {},
     "output_type": "display_data"
    },
    {
     "data": {
      "application/vnd.jupyter.widget-view+json": {
       "model_id": "",
       "version_major": 2,
       "version_minor": 0
      },
      "text/plain": [
       "Generating splits...:   0%|          | 0/3 [00:00<?, ? splits/s]"
      ]
     },
     "metadata": {},
     "output_type": "display_data"
    },
    {
     "data": {
      "application/vnd.jupyter.widget-view+json": {
       "model_id": "",
       "version_major": 2,
       "version_minor": 0
      },
      "text/plain": [
       "Generating train examples...: 0 examples [00:00, ? examples/s]"
      ]
     },
     "metadata": {},
     "output_type": "display_data"
    },
    {
     "data": {
      "application/vnd.jupyter.widget-view+json": {
       "model_id": "",
       "version_major": 2,
       "version_minor": 0
      },
      "text/plain": [
       "Shuffling ~\\tensorflow_datasets\\imdb_reviews\\subwords8k\\1.0.0.incompleteGVE4EA\\imdb_reviews-train.tfrecord*...…"
      ]
     },
     "metadata": {},
     "output_type": "display_data"
    },
    {
     "data": {
      "application/vnd.jupyter.widget-view+json": {
       "model_id": "",
       "version_major": 2,
       "version_minor": 0
      },
      "text/plain": [
       "Generating test examples...: 0 examples [00:00, ? examples/s]"
      ]
     },
     "metadata": {},
     "output_type": "display_data"
    },
    {
     "data": {
      "application/vnd.jupyter.widget-view+json": {
       "model_id": "",
       "version_major": 2,
       "version_minor": 0
      },
      "text/plain": [
       "Shuffling ~\\tensorflow_datasets\\imdb_reviews\\subwords8k\\1.0.0.incompleteGVE4EA\\imdb_reviews-test.tfrecord*...:…"
      ]
     },
     "metadata": {},
     "output_type": "display_data"
    },
    {
     "data": {
      "application/vnd.jupyter.widget-view+json": {
       "model_id": "",
       "version_major": 2,
       "version_minor": 0
      },
      "text/plain": [
       "Generating unsupervised examples...: 0 examples [00:00, ? examples/s]"
      ]
     },
     "metadata": {},
     "output_type": "display_data"
    },
    {
     "data": {
      "application/vnd.jupyter.widget-view+json": {
       "model_id": "",
       "version_major": 2,
       "version_minor": 0
      },
      "text/plain": [
       "Shuffling ~\\tensorflow_datasets\\imdb_reviews\\subwords8k\\1.0.0.incompleteGVE4EA\\imdb_reviews-unsupervised.tfrec…"
      ]
     },
     "metadata": {},
     "output_type": "display_data"
    },
    {
     "name": "stderr",
     "output_type": "stream",
     "text": [
      "WARNING:absl:Dataset is using deprecated text encoder API which will be removed soon. Please use the plain_text version of the dataset and migrate to `tensorflow_text`.\n"
     ]
    },
    {
     "name": "stdout",
     "output_type": "stream",
     "text": [
      "\u001b[1mDataset imdb_reviews downloaded and prepared to ~\\tensorflow_datasets\\imdb_reviews\\subwords8k\\1.0.0. Subsequent calls will reuse this data.\u001b[0m\n"
     ]
    }
   ],
   "source": [
    "imdbsub, infosub = tfds.load('imdb_reviews/subwords8k', with_info=True, as_supervised=True)"
   ]
  },
  {
   "cell_type": "code",
   "execution_count": 43,
   "id": "a113b936-ec4b-42e4-9f89-99943fce9cbf",
   "metadata": {},
   "outputs": [
    {
     "data": {
      "text/plain": [
       "tfds.core.DatasetInfo(\n",
       "    name='imdb_reviews',\n",
       "    full_name='imdb_reviews/subwords8k/1.0.0',\n",
       "    description=\"\"\"\n",
       "    Large Movie Review Dataset.\n",
       "    This is a dataset for binary sentiment classification containing substantially more data than previous benchmark datasets. We provide a set of 25,000 highly polar movie reviews for training, and 25,000 for testing. There is additional unlabeled data for use as well.\n",
       "    \"\"\",\n",
       "    config_description=\"\"\"\n",
       "    Uses `tfds.deprecated.text.SubwordTextEncoder` with 8k vocab size\n",
       "    \"\"\",\n",
       "    homepage='http://ai.stanford.edu/~amaas/data/sentiment/',\n",
       "    data_path='~\\\\tensorflow_datasets\\\\imdb_reviews\\\\subwords8k\\\\1.0.0',\n",
       "    file_format=tfrecord,\n",
       "    download_size=80.23 MiB,\n",
       "    dataset_size=54.72 MiB,\n",
       "    features=FeaturesDict({\n",
       "        'label': ClassLabel(shape=(), dtype=tf.int64, num_classes=2),\n",
       "        'text': Text(shape=(None,), dtype=tf.int64, encoder=<SubwordTextEncoder vocab_size=8185>),\n",
       "    }),\n",
       "    supervised_keys=('text', 'label'),\n",
       "    disable_shuffling=False,\n",
       "    splits={\n",
       "        'test': <SplitInfo num_examples=25000, num_shards=1>,\n",
       "        'train': <SplitInfo num_examples=25000, num_shards=1>,\n",
       "        'unsupervised': <SplitInfo num_examples=50000, num_shards=1>,\n",
       "    },\n",
       "    citation=\"\"\"@InProceedings{maas-EtAl:2011:ACL-HLT2011,\n",
       "      author    = {Maas, Andrew L.  and  Daly, Raymond E.  and  Pham, Peter T.  and  Huang, Dan  and  Ng, Andrew Y.  and  Potts, Christopher},\n",
       "      title     = {Learning Word Vectors for Sentiment Analysis},\n",
       "      booktitle = {Proceedings of the 49th Annual Meeting of the Association for Computational Linguistics: Human Language Technologies},\n",
       "      month     = {June},\n",
       "      year      = {2011},\n",
       "      address   = {Portland, Oregon, USA},\n",
       "      publisher = {Association for Computational Linguistics},\n",
       "      pages     = {142--150},\n",
       "      url       = {http://www.aclweb.org/anthology/P11-1015}\n",
       "    }\"\"\",\n",
       ")"
      ]
     },
     "execution_count": 43,
     "metadata": {},
     "output_type": "execute_result"
    }
   ],
   "source": [
    "infosub"
   ]
  },
  {
   "cell_type": "code",
   "execution_count": 50,
   "id": "0120299f-c288-471d-bcc6-426973ff0788",
   "metadata": {},
   "outputs": [
    {
     "data": {
      "text/plain": [
       "FeaturesDict({\n",
       "    'label': ClassLabel(shape=(), dtype=tf.int64, num_classes=2),\n",
       "    'text': Text(shape=(None,), dtype=tf.int64, encoder=<SubwordTextEncoder vocab_size=8185>),\n",
       "})"
      ]
     },
     "execution_count": 50,
     "metadata": {},
     "output_type": "execute_result"
    }
   ],
   "source": [
    "infosub.features"
   ]
  },
  {
   "cell_type": "code",
   "execution_count": 51,
   "id": "db34689f-b26d-403d-9de1-8a6cb1fba694",
   "metadata": {},
   "outputs": [
    {
     "name": "stdout",
     "output_type": "stream",
     "text": [
      "(<tf.Tensor: shape=(163,), dtype=int64, numpy=\n",
      "array([  62,   18,   41,  604,  927,   65,    3,  644, 7968,   21,   35,\n",
      "       5096,   36,   11,   43, 2948, 5240,  102,   50,  681, 7862, 1244,\n",
      "          3, 3266,   29,  122,  640,    2,   26,   14,  279,  438,   35,\n",
      "         79,  349,  384,   11, 1991,    3,  492,   79,  122,  188,  117,\n",
      "         33, 4047, 4531,   14,   65, 7968,    8, 1819, 3947,    3,   62,\n",
      "         27,    9,   41,  577, 5044, 2629, 2552, 7193, 7961, 3642,    3,\n",
      "         19,  107, 3903,  225,   85,  198,   72,    1, 1512,  738, 2347,\n",
      "        102, 6245,    8,   85,  308,   79, 6936, 7961,   23, 4981, 8044,\n",
      "          3, 6429, 7961, 1141, 1335, 1848, 4848,   55, 3601, 4217, 8050,\n",
      "          2,    5,   59, 3831, 1484, 8040, 7974,  174, 5773,   22, 5240,\n",
      "        102,   18,  247,   26,    4, 3903, 1612, 3902,  291,   11,    4,\n",
      "         27,   13,   18, 4092, 4008, 7961,    6,  119,  213, 2774,    3,\n",
      "         12,  258, 2306,   13,   91,   29,  171,   52,  229,    2, 1245,\n",
      "       5790,  995, 7968,    8,   52, 2948, 5240, 8039, 7968,    8,   74,\n",
      "       1249,    3,   12,  117, 2438, 1369,  192,   39, 7975], dtype=int64)>, <tf.Tensor: shape=(), dtype=int64, numpy=0>)\n",
      "(<tf.Tensor: shape=(142,), dtype=int64, numpy=\n",
      "array([  12,   31,   93,  867,    7, 1256, 6585, 7961,  421,  365,    2,\n",
      "         26,   14,    9,  988, 1089,    7,    4, 6728,    6,  276, 5760,\n",
      "       2587,    2,   81, 6118, 8029,    2,  139, 1892, 7961,    5, 5402,\n",
      "        246,   25,    1, 1771,  350,    5,  369,   56, 5397,  102,    4,\n",
      "       2547,    3, 4001,   25,   14, 7822,  209,   12, 3531, 6585, 7961,\n",
      "         99,    1,   32,   18, 4762,    3,   19,  184, 3223,   18, 5855,\n",
      "       1045,    3, 4232, 3337,   64, 1347,    5, 1190,    3, 4459,    8,\n",
      "        614,    7, 3129,    2,   26,   22,   84, 7020,    6,   71,   18,\n",
      "       4924, 1160,  161,   50, 2265,    3,   12, 3983,    2,   12,  264,\n",
      "         31, 2545,  261,    6,    1,   66,    2,   26,  131,  393,    1,\n",
      "       5846,    6,   15,    5,  473,   56,  614,    7, 1470,    6,  116,\n",
      "        285, 4755, 2088, 7961,  273,  119,  213, 3414, 7961,   23,  332,\n",
      "       1019,    3,   12, 7667,  505,   14,   32,   44,  208, 7975],\n",
      "      dtype=int64)>, <tf.Tensor: shape=(), dtype=int64, numpy=0>)\n"
     ]
    }
   ],
   "source": [
    "for example in imdbsub['train'].take(2):\n",
    "    print(example)"
   ]
  },
  {
   "cell_type": "code",
   "execution_count": 52,
   "id": "877366ba-c991-4807-9093-80d1358167b4",
   "metadata": {},
   "outputs": [
    {
     "name": "stdout",
     "output_type": "stream",
     "text": [
      "This was an absolutely terrible movie. Don't be lured in by Christopher Walken or Michael Ironside. Both are great actors, but this must simply be their worst role in history. Even their great acting could not redeem this movie's ridiculous storyline. This movie is an early nineties US propaganda piece. The most pathetic scenes were those when the Columbian rebels were making their cases for revolutions. Maria Conchita Alonso appeared phony, and her pseudo-love affair with Walken was nothing but a pathetic emotional plug in a movie that was devoid of any real meaning. I am disappointed that there are movies like this, ruining actor's like Christopher Walken's good name. I could barely sit through it.\n",
      "I have been known to fall asleep during films, but this is usually due to a combination of things including, really tired, being warm and comfortable on the sette and having just eaten a lot. However on this occasion I fell asleep because the film was rubbish. The plot development was constant. Constantly slow and boring. Things seemed to happen, but with no explanation of what was causing them or why. I admit, I may have missed part of the film, but i watched the majority of it and everything just seemed to happen of its own accord without any real concern for anything else. I cant recommend this film at all.\n"
     ]
    }
   ],
   "source": [
    "sub_tokenizer = infosub.features['text'].encoder\n",
    "\n",
    "for example in imdbsub['train'].take(2):\n",
    "    print(sub_tokenizer.decode(example[0]))"
   ]
  },
  {
   "cell_type": "code",
   "execution_count": 55,
   "id": "7b265e09-214a-4d91-b529-e5fcaa8c2eea",
   "metadata": {},
   "outputs": [],
   "source": [
    "tokenizer = Tokenizer(num_words=10000, oov_token='<OOV>')\n",
    "tokenizer.fit_on_texts(trn_txs)\n",
    "trn_sqs = tokenizer.texts_to_sequences(trn_txs)"
   ]
  },
  {
   "cell_type": "code",
   "execution_count": 59,
   "id": "0b5536f1-00b3-4102-93b9-c9b12cedeab4",
   "metadata": {},
   "outputs": [
    {
     "data": {
      "text/plain": [
       "\"this was an absolutely terrible movie don't be <OOV> in by christopher walken or michael <OOV> both are great actors but this must simply be their worst role in history even their great acting could not redeem this movie's ridiculous storyline this movie is an early nineties us propaganda piece the most pathetic scenes were those when the <OOV> rebels were making their cases for <OOV> maria <OOV> <OOV> appeared phony and her pseudo love affair with walken was nothing but a pathetic emotional plug in a movie that was devoid of any real meaning i am disappointed that there are movies like this ruining actor's like christopher <OOV> good name i could barely sit through it\""
      ]
     },
     "execution_count": 59,
     "metadata": {},
     "output_type": "execute_result"
    }
   ],
   "source": [
    "tokenizer.sequences_to_texts(trn_sqs[:1])[0]"
   ]
  },
  {
   "cell_type": "code",
   "execution_count": 60,
   "id": "cac6a220-cd39-460d-9976-6546879ae759",
   "metadata": {},
   "outputs": [
    {
     "data": {
      "text/plain": [
       "88583"
      ]
     },
     "execution_count": 60,
     "metadata": {},
     "output_type": "execute_result"
    }
   ],
   "source": [
    "len(tokenizer.word_index)"
   ]
  },
  {
   "cell_type": "code",
   "execution_count": 70,
   "id": "13b7fa65-d024-495c-a6f4-30ae5d8314b4",
   "metadata": {},
   "outputs": [
    {
     "data": {
      "text/plain": [
       "array(['the_', ', ', '. ', 'a_', 'and_', 'of_', 'to_', 's_', 'is_', 'br',\n",
       "       'in_', 'I_', 'that_', 'this_', 'it_', ' /><', ' />', 'was_',\n",
       "       'The_', 'as_', 't_', 'with_', 'for_', '.<', 'on_', 'but_',\n",
       "       'movie_', ' (', 'are_', 'his_', 'have_', 'film_', 'not_', 'ing_',\n",
       "       'be_', 'ed_', 'you_', ' \"', 'it', 'd_', 'an_', 'he_', 'by_', 'at_',\n",
       "       'one_', 'who_', 'y_', 'from_', 'e_', 'or_', 'all_', 'like_',\n",
       "       'they_', '\" ', 'so_', 'just_', 'has_', ') ', 'her_', 'about_',\n",
       "       'out_', 'This_', 'some_', 'ly_', 'movie', 'film', 'very_', 'more_',\n",
       "       'It_', 'would_', 'what_', 'when_', 'which_', 'good_', 'if_', 'up_',\n",
       "       'only_', 'even_', 'their_', 'had_', 'really_', 'my_', 'can_',\n",
       "       'no_', 'were_', 'see_', 'she_', '? ', 'than_', '! ', 'there_',\n",
       "       'get_', 'been_', 'into_', ' - ', 'will_', 'much_', 'story_',\n",
       "       'because_', 'ing'], dtype='<U8')"
      ]
     },
     "execution_count": 70,
     "metadata": {},
     "output_type": "execute_result"
    }
   ],
   "source": [
    "np.array(sub_tokenizer.subwords[:100])"
   ]
  },
  {
   "cell_type": "code",
   "execution_count": 73,
   "id": "b109e7d1-a079-413b-8216-fa1fe95280e7",
   "metadata": {},
   "outputs": [
    {
     "name": "stdout",
     "output_type": "stream",
     "text": [
      "[62, 18, 41, 604, 927, 65, 3, 644, 7968, 21, 35, 5096, 36, 11, 43, 2948, 5240, 102, 50, 681, 7862, 1244, 3, 3266, 29, 122, 640, 2, 26, 14, 279, 438, 35, 79, 349, 384, 11, 1991, 3, 492, 79, 122, 188, 117, 33, 4047, 4531, 14, 65, 7968, 8, 1819, 3947, 3, 62, 27, 9, 41, 577, 5044, 2629, 2552, 7193, 7961, 3642, 3, 19, 107, 3903, 225, 85, 198, 72, 1, 1512, 738, 2347, 102, 6245, 8, 85, 308, 79, 6936, 7961, 23, 4981, 8044, 3, 6429, 7961, 1141, 1335, 1848, 4848, 55, 3601, 4217, 8050, 2, 5, 59, 3831, 1484, 8040, 7974, 174, 5773, 22, 5240, 102, 18, 247, 26, 4, 3903, 1612, 3902, 291, 11, 4, 27, 13, 18, 4092, 4008, 7961, 6, 119, 213, 2774, 3, 12, 258, 2306, 13, 91, 29, 171, 52, 229, 2, 1245, 5790, 995, 7968, 8, 52, 2948, 5240, 8039, 7968, 8, 74, 1249, 3, 12, 117, 2438, 1369, 192, 39, 7975]\n",
      "163\n",
      "This was an absolutely terrible movie. Don't be lured in by Christopher Walken or Michael Ironside. Both are great actors, but this must simply be their worst role in history. Even their great acting could not redeem this movie's ridiculous storyline. This movie is an early nineties US propaganda piece. The most pathetic scenes were those when the Columbian rebels were making their cases for revolutions. Maria Conchita Alonso appeared phony, and her pseudo-love affair with Walken was nothing but a pathetic emotional plug in a movie that was devoid of any real meaning. I am disappointed that there are movies like this, ruining actor's like Christopher Walken's good name. I could barely sit through it.\n",
      "117\n"
     ]
    }
   ],
   "source": [
    "tokenized = sub_tokenizer.encode(trn_txs[0])\n",
    "print(tokenized)\n",
    "print(len(tokenized))\n",
    "\n",
    "decoded = sub_tokenizer.decode(tokenized)\n",
    "print(decoded)\n",
    "print(len(trn_sqs[0]))"
   ]
  },
  {
   "cell_type": "code",
   "execution_count": 77,
   "id": "9506f389-713f-4efd-8eca-ec2871eb07b6",
   "metadata": {},
   "outputs": [
    {
     "data": {
      "text/plain": [
       "'<OOV> from <OOV> to <OOV>'"
      ]
     },
     "execution_count": 77,
     "metadata": {},
     "output_type": "execute_result"
    }
   ],
   "source": [
    "tokenizer.sequences_to_texts(\n",
    "    tokenizer.texts_to_sequences(['TensorFlow, from basics to mastery'])\n",
    ")[0]"
   ]
  },
  {
   "cell_type": "code",
   "execution_count": 75,
   "id": "86f7d31c-8b3d-4264-bdc3-0b39354773f8",
   "metadata": {},
   "outputs": [
    {
     "data": {
      "text/plain": [
       "'TensorFlow, from basics to mastery'"
      ]
     },
     "execution_count": 75,
     "metadata": {},
     "output_type": "execute_result"
    }
   ],
   "source": [
    "sub_tokenizer.decode(sub_tokenizer.encode('TensorFlow, from basics to mastery'))"
   ]
  },
  {
   "cell_type": "code",
   "execution_count": 81,
   "id": "64fe759a-631e-4201-8944-309056be1d9e",
   "metadata": {},
   "outputs": [
    {
     "name": "stdout",
     "output_type": "stream",
     "text": [
      " 6307 => Ten\n",
      " 2327 => sor\n",
      " 4043 => Fl\n",
      " 2120 => ow\n",
      "    2 => , \n",
      "   48 => from \n",
      " 4249 => basi\n",
      " 4429 => cs \n",
      "    7 => to \n",
      " 2652 => master\n",
      " 8050 => y\n"
     ]
    }
   ],
   "source": [
    "for c in sub_tokenizer.encode('TensorFlow, from basics to mastery'):\n",
    "    print(f'{c:5} => {sub_tokenizer.decode([c])}')"
   ]
  },
  {
   "cell_type": "code",
   "execution_count": 85,
   "id": "01d546bf-c8b7-4432-bd7c-fae707c4a698",
   "metadata": {},
   "outputs": [
    {
     "data": {
      "text/plain": [
       "(7928, 8185, 8185)"
      ]
     },
     "execution_count": 85,
     "metadata": {},
     "output_type": "execute_result"
    }
   ],
   "source": [
    "len(sub_tokenizer.subwords), sub_tokenizer.vocab_size, infosub.features['text'].vocab_size"
   ]
  },
  {
   "cell_type": "code",
   "execution_count": 90,
   "id": "bdcfa6da-1ede-4257-b253-db9c3afb0820",
   "metadata": {},
   "outputs": [
    {
     "data": {
      "text/plain": [
       "(True, True)"
      ]
     },
     "execution_count": 90,
     "metadata": {},
     "output_type": "execute_result"
    }
   ],
   "source": [
    "'and' in sub_tokenizer.subwords, 'and_' in sub_tokenizer.subwords"
   ]
  },
  {
   "cell_type": "code",
   "execution_count": 95,
   "id": "0ba060dd-4d9e-4488-a33d-39d195bcd4d6",
   "metadata": {},
   "outputs": [
    {
     "name": "stdout",
     "output_type": "stream",
     "text": [
      "Model: \"sequential_13\"\n",
      "_________________________________________________________________\n",
      " Layer (type)                Output Shape              Param #   \n",
      "=================================================================\n",
      " embedding_13 (Embedding)    (None, None, 16)          130960    \n",
      "                                                                 \n",
      " global_average_pooling1d_11  (None, 16)               0         \n",
      "  (GlobalAveragePooling1D)                                       \n",
      "                                                                 \n",
      " dense_15 (Dense)            (None, 1)                 17        \n",
      "                                                                 \n",
      "=================================================================\n",
      "Total params: 130,977\n",
      "Trainable params: 130,977\n",
      "Non-trainable params: 0\n",
      "_________________________________________________________________\n",
      "Epoch 1/10\n",
      "782/782 [==============================] - 15s 18ms/step - loss: 0.6917 - accuracy: 0.5456 - val_loss: 0.6887 - val_accuracy: 0.6226\n",
      "Epoch 2/10\n",
      "782/782 [==============================] - 14s 17ms/step - loss: 0.6819 - accuracy: 0.6475 - val_loss: 0.6720 - val_accuracy: 0.5750\n",
      "Epoch 3/10\n",
      "782/782 [==============================] - 14s 18ms/step - loss: 0.6563 - accuracy: 0.7006 - val_loss: 0.6373 - val_accuracy: 0.7346\n",
      "Epoch 4/10\n",
      "782/782 [==============================] - 14s 17ms/step - loss: 0.6199 - accuracy: 0.7536 - val_loss: 0.5986 - val_accuracy: 0.7714\n",
      "Epoch 5/10\n",
      "782/782 [==============================] - 14s 18ms/step - loss: 0.5815 - accuracy: 0.7821 - val_loss: 0.5642 - val_accuracy: 0.7692\n",
      "Epoch 6/10\n",
      "782/782 [==============================] - 14s 18ms/step - loss: 0.5450 - accuracy: 0.8018 - val_loss: 0.5295 - val_accuracy: 0.7984\n",
      "Epoch 7/10\n",
      "782/782 [==============================] - 14s 18ms/step - loss: 0.5116 - accuracy: 0.8154 - val_loss: 0.5028 - val_accuracy: 0.7953\n",
      "Epoch 8/10\n",
      "782/782 [==============================] - 14s 18ms/step - loss: 0.4813 - accuracy: 0.8312 - val_loss: 0.4760 - val_accuracy: 0.8164\n",
      "Epoch 9/10\n",
      "782/782 [==============================] - 14s 18ms/step - loss: 0.4528 - accuracy: 0.8442 - val_loss: 0.4493 - val_accuracy: 0.8335\n",
      "Epoch 10/10\n",
      "782/782 [==============================] - 14s 17ms/step - loss: 0.4275 - accuracy: 0.8554 - val_loss: 0.4274 - val_accuracy: 0.8396\n",
      "CPU times: total: 9min 7s\n",
      "Wall time: 2min 26s\n"
     ]
    },
    {
     "data": {
      "image/png": "[encoded data removed]",
      "text/plain": [
       "<Figure size 1008x288 with 2 Axes>"
      ]
     },
     "metadata": {
      "needs_background": "light"
     },
     "output_type": "display_data"
    }
   ],
   "source": [
    "%%time\n",
    "\n",
    "num_words = sub_tokenizer.vocab_size\n",
    "embed_d = 16\n",
    "epochs=10\n",
    "\n",
    "trn_sqs_sub = []\n",
    "for p, _ in imdbsub['train']:\n",
    "    trn_sqs_sub.append(p.numpy())\n",
    "trn_sqs_sub = pad_sequences(trn_sqs_sub, padding='post', truncating='post')\n",
    "\n",
    "tst_sqs_sub = []\n",
    "for p, _ in imdbsub['test']:\n",
    "    tst_sqs_sub.append(p.numpy())\n",
    "tst_sqs_sub = pad_sequences(tst_sqs_sub, padding='post', truncating='post')\n",
    "\n",
    "model = keras.models.Sequential([\n",
    "    keras.layers.Embedding(num_words, embed_d),\n",
    "    keras.layers.GlobalAveragePooling1D(),\n",
    "    keras.layers.Dense(1, activation='sigmoid'),\n",
    "])\n",
    "model.summary()\n",
    "model.compile(loss='binary_crossentropy', optimizer='adam', metrics=['accuracy'])\n",
    "\n",
    "history = model.fit(trn_sqs_sub, trn_lbs, epochs=epochs, validation_data=(tst_sqs_sub, tst_lbs))\n",
    "utilities.plot_train_val_metrics(history, metrics=('loss', 'accuracy'))"
   ]
  },
  {
   "cell_type": "code",
   "execution_count": 101,
   "id": "fe323296-3cd3-4c03-8090-d8062e33f61b",
   "metadata": {},
   "outputs": [],
   "source": [
    "def fit_rmdb_sub(embed_d, epochs=10, batch_size=32, dense_neuron=0):\n",
    "    if dense_neuron == 0:\n",
    "        model = keras.models.Sequential([\n",
    "            keras.layers.Embedding(sub_tokenizer.vocab_size, embed_d),\n",
    "            keras.layers.GlobalAveragePooling1D(),\n",
    "            keras.layers.Dense(1, activation='sigmoid'),\n",
    "        ])\n",
    "    else:\n",
    "        model = keras.models.Sequential([\n",
    "            keras.layers.Embedding(sub_tokenizer.vocab_size, embed_d),\n",
    "            keras.layers.GlobalAveragePooling1D(),\n",
    "            keras.layers.Dense(dense_neuron, activation='relu'),\n",
    "            keras.layers.Dense(1, activation='sigmoid'),\n",
    "        ])\n",
    "    model.summary()\n",
    "    model.compile(loss='binary_crossentropy', optimizer='adam', metrics=['accuracy'])\n",
    "\n",
    "    history = model.fit(\n",
    "        imdbsub['train'].padded_batch(batch_size),\n",
    "        epochs=epochs,\n",
    "        validation_data=imdbsub['test'].padded_batch(batch_size)\n",
    "    )\n",
    "    utilities.plot_train_val_metrics(history, metrics=('loss', 'accuracy'))\n",
    "    \n",
    "    return model"
   ]
  },
  {
   "cell_type": "code",
   "execution_count": 102,
   "id": "a593a067-cd0e-4613-b1a6-f725d82f5b44",
   "metadata": {},
   "outputs": [
    {
     "name": "stdout",
     "output_type": "stream",
     "text": [
      "Model: \"sequential_18\"\n",
      "_________________________________________________________________\n",
      " Layer (type)                Output Shape              Param #   \n",
      "=================================================================\n",
      " embedding_18 (Embedding)    (None, None, 16)          130960    \n",
      "                                                                 \n",
      " global_average_pooling1d_16  (None, 16)               0         \n",
      "  (GlobalAveragePooling1D)                                       \n",
      "                                                                 \n",
      " dense_20 (Dense)            (None, 1)                 17        \n",
      "                                                                 \n",
      "=================================================================\n",
      "Total params: 130,977\n",
      "Trainable params: 130,977\n",
      "Non-trainable params: 0\n",
      "_________________________________________________________________\n",
      "Epoch 1/30\n",
      "782/782 [==============================] - 7s 8ms/step - loss: 0.6811 - accuracy: 0.6238 - val_loss: 0.6602 - val_accuracy: 0.6955\n",
      "Epoch 2/30\n",
      "782/782 [==============================] - 7s 8ms/step - loss: 0.6197 - accuracy: 0.7510 - val_loss: 0.5866 - val_accuracy: 0.7562\n",
      "Epoch 3/30\n",
      "782/782 [==============================] - 7s 9ms/step - loss: 0.5412 - accuracy: 0.8025 - val_loss: 0.5195 - val_accuracy: 0.7994\n",
      "Epoch 4/30\n",
      "782/782 [==============================] - 6s 8ms/step - loss: 0.4750 - accuracy: 0.8402 - val_loss: 0.4659 - val_accuracy: 0.8290\n",
      "Epoch 5/30\n",
      "782/782 [==============================] - 7s 9ms/step - loss: 0.4223 - accuracy: 0.8626 - val_loss: 0.4251 - val_accuracy: 0.8467\n",
      "Epoch 6/30\n",
      "782/782 [==============================] - 6s 8ms/step - loss: 0.3813 - accuracy: 0.8754 - val_loss: 0.3946 - val_accuracy: 0.8571\n",
      "Epoch 7/30\n",
      "782/782 [==============================] - 6s 8ms/step - loss: 0.3491 - accuracy: 0.8850 - val_loss: 0.3719 - val_accuracy: 0.8644\n",
      "Epoch 8/30\n",
      "782/782 [==============================] - 7s 8ms/step - loss: 0.3234 - accuracy: 0.8919 - val_loss: 0.3549 - val_accuracy: 0.8692\n",
      "Epoch 9/30\n",
      "782/782 [==============================] - 6s 8ms/step - loss: 0.3023 - accuracy: 0.8984 - val_loss: 0.3420 - val_accuracy: 0.8728\n",
      "Epoch 10/30\n",
      "782/782 [==============================] - 7s 9ms/step - loss: 0.2847 - accuracy: 0.9040 - val_loss: 0.3322 - val_accuracy: 0.8749\n",
      "Epoch 11/30\n",
      "782/782 [==============================] - 6s 8ms/step - loss: 0.2696 - accuracy: 0.9087 - val_loss: 0.3247 - val_accuracy: 0.8766\n",
      "Epoch 12/30\n",
      "782/782 [==============================] - 6s 8ms/step - loss: 0.2564 - accuracy: 0.9126 - val_loss: 0.3191 - val_accuracy: 0.8778\n",
      "Epoch 13/30\n",
      "782/782 [==============================] - 7s 8ms/step - loss: 0.2448 - accuracy: 0.9163 - val_loss: 0.3150 - val_accuracy: 0.8786\n",
      "Epoch 14/30\n",
      "782/782 [==============================] - 6s 8ms/step - loss: 0.2344 - accuracy: 0.9194 - val_loss: 0.3121 - val_accuracy: 0.8794\n",
      "Epoch 15/30\n",
      "782/782 [==============================] - 6s 8ms/step - loss: 0.2250 - accuracy: 0.9229 - val_loss: 0.3102 - val_accuracy: 0.8797\n",
      "Epoch 16/30\n",
      "782/782 [==============================] - 6s 8ms/step - loss: 0.2164 - accuracy: 0.9253 - val_loss: 0.3091 - val_accuracy: 0.8806\n",
      "Epoch 17/30\n",
      "782/782 [==============================] - 6s 8ms/step - loss: 0.2086 - accuracy: 0.9274 - val_loss: 0.3088 - val_accuracy: 0.8808\n",
      "Epoch 18/30\n",
      "782/782 [==============================] - 6s 8ms/step - loss: 0.2014 - accuracy: 0.9302 - val_loss: 0.3091 - val_accuracy: 0.8807\n",
      "Epoch 19/30\n",
      "782/782 [==============================] - 6s 8ms/step - loss: 0.1946 - accuracy: 0.9326 - val_loss: 0.3100 - val_accuracy: 0.8799\n",
      "Epoch 20/30\n",
      "782/782 [==============================] - 7s 9ms/step - loss: 0.1884 - accuracy: 0.9350 - val_loss: 0.3114 - val_accuracy: 0.8800\n",
      "Epoch 21/30\n",
      "782/782 [==============================] - 6s 8ms/step - loss: 0.1825 - accuracy: 0.9370 - val_loss: 0.3132 - val_accuracy: 0.8796\n",
      "Epoch 22/30\n",
      "782/782 [==============================] - 6s 8ms/step - loss: 0.1770 - accuracy: 0.9385 - val_loss: 0.3154 - val_accuracy: 0.8790\n",
      "Epoch 23/30\n",
      "782/782 [==============================] - 7s 8ms/step - loss: 0.1718 - accuracy: 0.9404 - val_loss: 0.3180 - val_accuracy: 0.8791\n",
      "Epoch 24/30\n",
      "782/782 [==============================] - 6s 8ms/step - loss: 0.1668 - accuracy: 0.9417 - val_loss: 0.3209 - val_accuracy: 0.8789\n",
      "Epoch 25/30\n",
      "782/782 [==============================] - 7s 9ms/step - loss: 0.1622 - accuracy: 0.9434 - val_loss: 0.3242 - val_accuracy: 0.8784\n",
      "Epoch 26/30\n",
      "782/782 [==============================] - 6s 8ms/step - loss: 0.1577 - accuracy: 0.9451 - val_loss: 0.3277 - val_accuracy: 0.8776\n",
      "Epoch 27/30\n",
      "782/782 [==============================] - 7s 8ms/step - loss: 0.1535 - accuracy: 0.9465 - val_loss: 0.3314 - val_accuracy: 0.8772\n",
      "Epoch 28/30\n",
      "782/782 [==============================] - 6s 8ms/step - loss: 0.1495 - accuracy: 0.9485 - val_loss: 0.3355 - val_accuracy: 0.8764\n",
      "Epoch 29/30\n",
      "782/782 [==============================] - 6s 8ms/step - loss: 0.1457 - accuracy: 0.9500 - val_loss: 0.3397 - val_accuracy: 0.8762\n",
      "Epoch 30/30\n",
      "782/782 [==============================] - 7s 8ms/step - loss: 0.1420 - accuracy: 0.9516 - val_loss: 0.3441 - val_accuracy: 0.8765\n",
      "CPU times: total: 10min 53s\n",
      "Wall time: 3min 16s\n"
     ]
    },
    {
     "data": {
      "image/png": "[encoded data removed]",
      "text/plain": [
       "<Figure size 1008x288 with 2 Axes>"
      ]
     },
     "metadata": {
      "needs_background": "light"
     },
     "output_type": "display_data"
    }
   ],
   "source": [
    "%%time\n",
    "model = fit_rmdb_sub(embed_d=16, epochs=30, batch_size=32)"
   ]
  },
  {
   "cell_type": "code",
   "execution_count": 103,
   "id": "9d8cef64-77f4-40b3-8836-a5ac38726597",
   "metadata": {},
   "outputs": [
    {
     "name": "stdout",
     "output_type": "stream",
     "text": [
      "Model: \"sequential_19\"\n",
      "_________________________________________________________________\n",
      " Layer (type)                Output Shape              Param #   \n",
      "=================================================================\n",
      " embedding_19 (Embedding)    (None, None, 64)          523840    \n",
      "                                                                 \n",
      " global_average_pooling1d_17  (None, 64)               0         \n",
      "  (GlobalAveragePooling1D)                                       \n",
      "                                                                 \n",
      " dense_21 (Dense)            (None, 1)                 65        \n",
      "                                                                 \n",
      "=================================================================\n",
      "Total params: 523,905\n",
      "Trainable params: 523,905\n",
      "Non-trainable params: 0\n",
      "_________________________________________________________________\n",
      "Epoch 1/20\n",
      "782/782 [==============================] - 17s 21ms/step - loss: 0.6649 - accuracy: 0.6410 - val_loss: 0.6111 - val_accuracy: 0.7182\n",
      "Epoch 2/20\n",
      "782/782 [==============================] - 18s 23ms/step - loss: 0.5341 - accuracy: 0.7957 - val_loss: 0.4844 - val_accuracy: 0.8176\n",
      "Epoch 3/20\n",
      "782/782 [==============================] - 16s 20ms/step - loss: 0.4225 - accuracy: 0.8565 - val_loss: 0.4076 - val_accuracy: 0.8520\n",
      "Epoch 4/20\n",
      "782/782 [==============================] - 17s 21ms/step - loss: 0.3540 - accuracy: 0.8816 - val_loss: 0.3651 - val_accuracy: 0.8659\n",
      "Epoch 5/20\n",
      "782/782 [==============================] - 17s 22ms/step - loss: 0.3105 - accuracy: 0.8945 - val_loss: 0.3406 - val_accuracy: 0.8729\n",
      "Epoch 6/20\n",
      "782/782 [==============================] - 16s 21ms/step - loss: 0.2799 - accuracy: 0.9039 - val_loss: 0.3258 - val_accuracy: 0.8758\n",
      "Epoch 7/20\n",
      "782/782 [==============================] - 16s 21ms/step - loss: 0.2567 - accuracy: 0.9099 - val_loss: 0.3168 - val_accuracy: 0.8782\n",
      "Epoch 8/20\n",
      "782/782 [==============================] - 19s 24ms/step - loss: 0.2380 - accuracy: 0.9169 - val_loss: 0.3118 - val_accuracy: 0.8793\n",
      "Epoch 9/20\n",
      "782/782 [==============================] - 16s 20ms/step - loss: 0.2224 - accuracy: 0.9224 - val_loss: 0.3095 - val_accuracy: 0.8808\n",
      "Epoch 10/20\n",
      "782/782 [==============================] - 16s 20ms/step - loss: 0.2091 - accuracy: 0.9274 - val_loss: 0.3094 - val_accuracy: 0.8800\n",
      "Epoch 11/20\n",
      "782/782 [==============================] - 18s 22ms/step - loss: 0.1974 - accuracy: 0.9316 - val_loss: 0.3110 - val_accuracy: 0.8799\n",
      "Epoch 12/20\n",
      "782/782 [==============================] - 16s 20ms/step - loss: 0.1871 - accuracy: 0.9349 - val_loss: 0.3139 - val_accuracy: 0.8796\n",
      "Epoch 13/20\n",
      "782/782 [==============================] - 16s 20ms/step - loss: 0.1778 - accuracy: 0.9377 - val_loss: 0.3180 - val_accuracy: 0.8793\n",
      "Epoch 14/20\n",
      "782/782 [==============================] - 18s 22ms/step - loss: 0.1694 - accuracy: 0.9407 - val_loss: 0.3231 - val_accuracy: 0.8784\n",
      "Epoch 15/20\n",
      "782/782 [==============================] - 17s 21ms/step - loss: 0.1618 - accuracy: 0.9442 - val_loss: 0.3290 - val_accuracy: 0.8774\n",
      "Epoch 16/20\n",
      "782/782 [==============================] - 15s 20ms/step - loss: 0.1547 - accuracy: 0.9467 - val_loss: 0.3356 - val_accuracy: 0.8767\n",
      "Epoch 17/20\n",
      "782/782 [==============================] - 17s 21ms/step - loss: 0.1483 - accuracy: 0.9492 - val_loss: 0.3429 - val_accuracy: 0.8762\n",
      "Epoch 18/20\n",
      "782/782 [==============================] - 17s 21ms/step - loss: 0.1423 - accuracy: 0.9512 - val_loss: 0.3507 - val_accuracy: 0.8750\n",
      "Epoch 19/20\n",
      "782/782 [==============================] - 15s 19ms/step - loss: 0.1368 - accuracy: 0.9534 - val_loss: 0.3590 - val_accuracy: 0.8737\n",
      "Epoch 20/20\n",
      "782/782 [==============================] - 15s 20ms/step - loss: 0.1316 - accuracy: 0.9552 - val_loss: 0.3678 - val_accuracy: 0.8722\n",
      "CPU times: total: 22min 20s\n",
      "Wall time: 5min 31s\n"
     ]
    },
    {
     "data": {
      "image/png": "[encoded data removed]",
      "text/plain": [
       "<Figure size 1008x288 with 2 Axes>"
      ]
     },
     "metadata": {
      "needs_background": "light"
     },
     "output_type": "display_data"
    }
   ],
   "source": [
    "%%time\n",
    "model = fit_rmdb_sub(embed_d=64, epochs=20, batch_size=32)"
   ]
  },
  {
   "cell_type": "code",
   "execution_count": 104,
   "id": "ae69f84a-8878-40d9-a4fc-04db57ed4441",
   "metadata": {},
   "outputs": [
    {
     "name": "stdout",
     "output_type": "stream",
     "text": [
      "Model: \"sequential_20\"\n",
      "_________________________________________________________________\n",
      " Layer (type)                Output Shape              Param #   \n",
      "=================================================================\n",
      " embedding_20 (Embedding)    (None, None, 16)          130960    \n",
      "                                                                 \n",
      " global_average_pooling1d_18  (None, 16)               0         \n",
      "  (GlobalAveragePooling1D)                                       \n",
      "                                                                 \n",
      " dense_22 (Dense)            (None, 6)                 102       \n",
      "                                                                 \n",
      " dense_23 (Dense)            (None, 1)                 7         \n",
      "                                                                 \n",
      "=================================================================\n",
      "Total params: 131,069\n",
      "Trainable params: 131,069\n",
      "Non-trainable params: 0\n",
      "_________________________________________________________________\n",
      "Epoch 1/30\n",
      "782/782 [==============================] - 7s 8ms/step - loss: 0.6695 - accuracy: 0.6379 - val_loss: 0.6028 - val_accuracy: 0.7322\n",
      "Epoch 2/30\n",
      "782/782 [==============================] - 6s 8ms/step - loss: 0.4887 - accuracy: 0.8199 - val_loss: 0.4202 - val_accuracy: 0.8450\n",
      "Epoch 3/30\n",
      "782/782 [==============================] - 7s 9ms/step - loss: 0.3508 - accuracy: 0.8758 - val_loss: 0.3497 - val_accuracy: 0.8672\n",
      "Epoch 4/30\n",
      "782/782 [==============================] - 6s 8ms/step - loss: 0.2890 - accuracy: 0.8962 - val_loss: 0.3225 - val_accuracy: 0.8751\n",
      "Epoch 5/30\n",
      "782/782 [==============================] - 6s 8ms/step - loss: 0.2537 - accuracy: 0.9086 - val_loss: 0.3108 - val_accuracy: 0.8792\n",
      "Epoch 6/30\n",
      "782/782 [==============================] - 8s 10ms/step - loss: 0.2289 - accuracy: 0.9178 - val_loss: 0.3064 - val_accuracy: 0.8808\n",
      "Epoch 7/30\n",
      "782/782 [==============================] - 8s 10ms/step - loss: 0.2097 - accuracy: 0.9247 - val_loss: 0.3063 - val_accuracy: 0.8827\n",
      "Epoch 8/30\n",
      "782/782 [==============================] - 8s 10ms/step - loss: 0.1938 - accuracy: 0.9309 - val_loss: 0.3094 - val_accuracy: 0.8832\n",
      "Epoch 9/30\n",
      "782/782 [==============================] - 6s 8ms/step - loss: 0.1803 - accuracy: 0.9359 - val_loss: 0.3149 - val_accuracy: 0.8815\n",
      "Epoch 10/30\n",
      "782/782 [==============================] - 6s 8ms/step - loss: 0.1686 - accuracy: 0.9406 - val_loss: 0.3224 - val_accuracy: 0.8804\n",
      "Epoch 11/30\n",
      "782/782 [==============================] - 6s 8ms/step - loss: 0.1581 - accuracy: 0.9447 - val_loss: 0.3315 - val_accuracy: 0.8795\n",
      "Epoch 12/30\n",
      "782/782 [==============================] - 7s 8ms/step - loss: 0.1486 - accuracy: 0.9483 - val_loss: 0.3422 - val_accuracy: 0.8774\n",
      "Epoch 13/30\n",
      "782/782 [==============================] - 6s 8ms/step - loss: 0.1400 - accuracy: 0.9508 - val_loss: 0.3540 - val_accuracy: 0.8755\n",
      "Epoch 14/30\n",
      "782/782 [==============================] - 6s 8ms/step - loss: 0.1322 - accuracy: 0.9546 - val_loss: 0.3669 - val_accuracy: 0.8739\n",
      "Epoch 15/30\n",
      "782/782 [==============================] - 6s 8ms/step - loss: 0.1250 - accuracy: 0.9576 - val_loss: 0.3805 - val_accuracy: 0.8724\n",
      "Epoch 16/30\n",
      "782/782 [==============================] - 6s 8ms/step - loss: 0.1183 - accuracy: 0.9608 - val_loss: 0.3950 - val_accuracy: 0.8702\n",
      "Epoch 17/30\n",
      "782/782 [==============================] - 7s 9ms/step - loss: 0.1118 - accuracy: 0.9642 - val_loss: 0.4103 - val_accuracy: 0.8688\n",
      "Epoch 18/30\n",
      "782/782 [==============================] - 7s 9ms/step - loss: 0.1058 - accuracy: 0.9665 - val_loss: 0.4265 - val_accuracy: 0.8672\n",
      "Epoch 19/30\n",
      "782/782 [==============================] - 6s 8ms/step - loss: 0.1001 - accuracy: 0.9689 - val_loss: 0.4434 - val_accuracy: 0.8658\n",
      "Epoch 20/30\n",
      "782/782 [==============================] - 6s 8ms/step - loss: 0.0948 - accuracy: 0.9713 - val_loss: 0.4615 - val_accuracy: 0.8647\n",
      "Epoch 21/30\n",
      "782/782 [==============================] - 6s 8ms/step - loss: 0.0899 - accuracy: 0.9734 - val_loss: 0.4798 - val_accuracy: 0.8632\n",
      "Epoch 22/30\n",
      "782/782 [==============================] - 6s 8ms/step - loss: 0.0851 - accuracy: 0.9752 - val_loss: 0.4986 - val_accuracy: 0.8615\n",
      "Epoch 23/30\n",
      "782/782 [==============================] - 6s 8ms/step - loss: 0.0807 - accuracy: 0.9768 - val_loss: 0.5178 - val_accuracy: 0.8608\n",
      "Epoch 24/30\n",
      "782/782 [==============================] - 6s 8ms/step - loss: 0.0768 - accuracy: 0.9785 - val_loss: 0.5377 - val_accuracy: 0.8596\n",
      "Epoch 25/30\n",
      "782/782 [==============================] - 6s 8ms/step - loss: 0.0730 - accuracy: 0.9799 - val_loss: 0.5583 - val_accuracy: 0.8581\n",
      "Epoch 26/30\n",
      "782/782 [==============================] - 6s 8ms/step - loss: 0.0694 - accuracy: 0.9811 - val_loss: 0.5794 - val_accuracy: 0.8574\n",
      "Epoch 27/30\n",
      "782/782 [==============================] - 6s 8ms/step - loss: 0.0659 - accuracy: 0.9825 - val_loss: 0.6012 - val_accuracy: 0.8561\n",
      "Epoch 28/30\n",
      "782/782 [==============================] - 6s 8ms/step - loss: 0.0626 - accuracy: 0.9842 - val_loss: 0.6234 - val_accuracy: 0.8548\n",
      "Epoch 29/30\n",
      "782/782 [==============================] - 6s 8ms/step - loss: 0.0594 - accuracy: 0.9859 - val_loss: 0.6464 - val_accuracy: 0.8538\n",
      "Epoch 30/30\n",
      "782/782 [==============================] - 6s 8ms/step - loss: 0.0563 - accuracy: 0.9872 - val_loss: 0.6708 - val_accuracy: 0.8527\n",
      "CPU times: total: 11min 20s\n",
      "Wall time: 3min 17s\n"
     ]
    },
    {
     "data": {
      "image/png": "[encoded data removed]",
      "text/plain": [
       "<Figure size 1008x288 with 2 Axes>"
      ]
     },
     "metadata": {
      "needs_background": "light"
     },
     "output_type": "display_data"
    }
   ],
   "source": [
    "%%time\n",
    "model = fit_rmdb_sub(embed_d=16, epochs=30, batch_size=32, dense_neuron=6)"
   ]
  },
  {
   "cell_type": "code",
   "execution_count": 105,
   "id": "e1ec92ee-0ba6-403c-ba8e-0e0bb6aa2b6a",
   "metadata": {},
   "outputs": [
    {
     "name": "stdout",
     "output_type": "stream",
     "text": [
      "Model: \"sequential_21\"\n",
      "_________________________________________________________________\n",
      " Layer (type)                Output Shape              Param #   \n",
      "=================================================================\n",
      " embedding_21 (Embedding)    (None, None, 64)          523840    \n",
      "                                                                 \n",
      " global_average_pooling1d_19  (None, 64)               0         \n",
      "  (GlobalAveragePooling1D)                                       \n",
      "                                                                 \n",
      " dense_24 (Dense)            (None, 6)                 390       \n",
      "                                                                 \n",
      " dense_25 (Dense)            (None, 1)                 7         \n",
      "                                                                 \n",
      "=================================================================\n",
      "Total params: 524,237\n",
      "Trainable params: 524,237\n",
      "Non-trainable params: 0\n",
      "_________________________________________________________________\n",
      "Epoch 1/20\n",
      "782/782 [==============================] - 18s 22ms/step - loss: 0.6050 - accuracy: 0.6930 - val_loss: 0.4606 - val_accuracy: 0.8191\n",
      "Epoch 2/20\n",
      "782/782 [==============================] - 17s 22ms/step - loss: 0.3563 - accuracy: 0.8703 - val_loss: 0.3354 - val_accuracy: 0.8728\n",
      "Epoch 3/20\n",
      "782/782 [==============================] - 15s 20ms/step - loss: 0.2664 - accuracy: 0.9025 - val_loss: 0.3138 - val_accuracy: 0.8782\n",
      "Epoch 4/20\n",
      "782/782 [==============================] - 16s 21ms/step - loss: 0.2244 - accuracy: 0.9175 - val_loss: 0.3104 - val_accuracy: 0.8800\n",
      "Epoch 5/20\n",
      "782/782 [==============================] - 17s 21ms/step - loss: 0.1968 - accuracy: 0.9292 - val_loss: 0.3141 - val_accuracy: 0.8808\n",
      "Epoch 6/20\n",
      "782/782 [==============================] - 15s 19ms/step - loss: 0.1761 - accuracy: 0.9370 - val_loss: 0.3224 - val_accuracy: 0.8796\n",
      "Epoch 7/20\n",
      "782/782 [==============================] - 16s 21ms/step - loss: 0.1595 - accuracy: 0.9435 - val_loss: 0.3354 - val_accuracy: 0.8765\n",
      "Epoch 8/20\n",
      "782/782 [==============================] - 17s 22ms/step - loss: 0.1452 - accuracy: 0.9492 - val_loss: 0.3521 - val_accuracy: 0.8750\n",
      "Epoch 9/20\n",
      "782/782 [==============================] - 15s 19ms/step - loss: 0.1330 - accuracy: 0.9539 - val_loss: 0.3724 - val_accuracy: 0.8719\n",
      "Epoch 10/20\n",
      "782/782 [==============================] - 15s 20ms/step - loss: 0.1223 - accuracy: 0.9583 - val_loss: 0.3948 - val_accuracy: 0.8682\n",
      "Epoch 11/20\n",
      "782/782 [==============================] - 16s 21ms/step - loss: 0.1131 - accuracy: 0.9624 - val_loss: 0.4196 - val_accuracy: 0.8649\n",
      "Epoch 12/20\n",
      "782/782 [==============================] - 17s 22ms/step - loss: 0.1049 - accuracy: 0.9658 - val_loss: 0.4464 - val_accuracy: 0.8628\n",
      "Epoch 13/20\n",
      "782/782 [==============================] - 15s 19ms/step - loss: 0.0979 - accuracy: 0.9688 - val_loss: 0.4733 - val_accuracy: 0.8606\n",
      "Epoch 14/20\n",
      "782/782 [==============================] - 16s 21ms/step - loss: 0.0920 - accuracy: 0.9717 - val_loss: 0.4992 - val_accuracy: 0.8588\n",
      "Epoch 15/20\n",
      "782/782 [==============================] - 17s 22ms/step - loss: 0.0869 - accuracy: 0.9739 - val_loss: 0.5259 - val_accuracy: 0.8575\n",
      "Epoch 16/20\n",
      "782/782 [==============================] - 15s 20ms/step - loss: 0.0831 - accuracy: 0.9749 - val_loss: 0.5522 - val_accuracy: 0.8563\n",
      "Epoch 17/20\n",
      "782/782 [==============================] - 16s 21ms/step - loss: 0.0820 - accuracy: 0.9748 - val_loss: 0.5794 - val_accuracy: 0.8546\n",
      "Epoch 18/20\n",
      "782/782 [==============================] - 17s 22ms/step - loss: 0.0904 - accuracy: 0.9684 - val_loss: 0.5985 - val_accuracy: 0.8525\n",
      "Epoch 19/20\n",
      "782/782 [==============================] - 18s 23ms/step - loss: 0.1112 - accuracy: 0.9571 - val_loss: 0.5804 - val_accuracy: 0.8519\n",
      "Epoch 20/20\n",
      "782/782 [==============================] - 19s 24ms/step - loss: 0.1039 - accuracy: 0.9606 - val_loss: 0.5694 - val_accuracy: 0.8520\n",
      "CPU times: total: 22min 35s\n",
      "Wall time: 5min 30s\n"
     ]
    },
    {
     "data": {
      "image/png": "[encoded data removed]",
      "text/plain": [
       "<Figure size 1008x288 with 2 Axes>"
      ]
     },
     "metadata": {
      "needs_background": "light"
     },
     "output_type": "display_data"
    }
   ],
   "source": [
    "%%time\n",
    "model = fit_rmdb_sub(embed_d=64, epochs=20, batch_size=32, dense_neuron=6)"
   ]
  },
  {
   "cell_type": "code",
   "execution_count": 109,
   "id": "9129e34e-efbd-4aa6-862e-d291c0f20bea",
   "metadata": {},
   "outputs": [
    {
     "name": "stdout",
     "output_type": "stream",
     "text": [
      "Model: \"sequential_25\"\n",
      "_________________________________________________________________\n",
      " Layer (type)                Output Shape              Param #   \n",
      "=================================================================\n",
      " embedding_25 (Embedding)    (None, None, 1)           8185      \n",
      "                                                                 \n",
      " global_average_pooling1d_23  (None, 1)                0         \n",
      "  (GlobalAveragePooling1D)                                       \n",
      "                                                                 \n",
      " dense_29 (Dense)            (None, 1)                 2         \n",
      "                                                                 \n",
      "=================================================================\n",
      "Total params: 8,187\n",
      "Trainable params: 8,187\n",
      "Non-trainable params: 0\n",
      "_________________________________________________________________\n",
      "Epoch 1/60\n",
      "782/782 [==============================] - 5s 6ms/step - loss: 0.6916 - accuracy: 0.5658 - val_loss: 0.6891 - val_accuracy: 0.6539\n",
      "Epoch 2/60\n",
      "782/782 [==============================] - 5s 6ms/step - loss: 0.6841 - accuracy: 0.6626 - val_loss: 0.6791 - val_accuracy: 0.7193\n",
      "Epoch 3/60\n",
      "782/782 [==============================] - 4s 6ms/step - loss: 0.6709 - accuracy: 0.7168 - val_loss: 0.6648 - val_accuracy: 0.7492\n",
      "Epoch 4/60\n",
      "782/782 [==============================] - 4s 5ms/step - loss: 0.6540 - accuracy: 0.7476 - val_loss: 0.6481 - val_accuracy: 0.7566\n",
      "Epoch 5/60\n",
      "782/782 [==============================] - 4s 5ms/step - loss: 0.6355 - accuracy: 0.7650 - val_loss: 0.6306 - val_accuracy: 0.7637\n",
      "Epoch 6/60\n",
      "782/782 [==============================] - 4s 5ms/step - loss: 0.6164 - accuracy: 0.7774 - val_loss: 0.6130 - val_accuracy: 0.7697\n",
      "Epoch 7/60\n",
      "782/782 [==============================] - 4s 5ms/step - loss: 0.5975 - accuracy: 0.7869 - val_loss: 0.5957 - val_accuracy: 0.7769\n",
      "Epoch 8/60\n",
      "782/782 [==============================] - 4s 5ms/step - loss: 0.5789 - accuracy: 0.7954 - val_loss: 0.5789 - val_accuracy: 0.7848\n",
      "Epoch 9/60\n",
      "782/782 [==============================] - 4s 5ms/step - loss: 0.5608 - accuracy: 0.8037 - val_loss: 0.5626 - val_accuracy: 0.7932\n",
      "Epoch 10/60\n",
      "782/782 [==============================] - 4s 6ms/step - loss: 0.5433 - accuracy: 0.8126 - val_loss: 0.5468 - val_accuracy: 0.7994\n",
      "Epoch 11/60\n",
      "782/782 [==============================] - 4s 5ms/step - loss: 0.5263 - accuracy: 0.8207 - val_loss: 0.5316 - val_accuracy: 0.8056\n",
      "Epoch 12/60\n",
      "782/782 [==============================] - 4s 5ms/step - loss: 0.5098 - accuracy: 0.8290 - val_loss: 0.5170 - val_accuracy: 0.8129\n",
      "Epoch 13/60\n",
      "782/782 [==============================] - 4s 5ms/step - loss: 0.4940 - accuracy: 0.8364 - val_loss: 0.5029 - val_accuracy: 0.8206\n",
      "Epoch 14/60\n",
      "782/782 [==============================] - 4s 5ms/step - loss: 0.4788 - accuracy: 0.8438 - val_loss: 0.4895 - val_accuracy: 0.8261\n",
      "Epoch 15/60\n",
      "782/782 [==============================] - 4s 5ms/step - loss: 0.4641 - accuracy: 0.8498 - val_loss: 0.4766 - val_accuracy: 0.8318\n",
      "Epoch 16/60\n",
      "782/782 [==============================] - 4s 5ms/step - loss: 0.4502 - accuracy: 0.8561 - val_loss: 0.4645 - val_accuracy: 0.8370\n",
      "Epoch 17/60\n",
      "782/782 [==============================] - 4s 5ms/step - loss: 0.4368 - accuracy: 0.8623 - val_loss: 0.4530 - val_accuracy: 0.8407\n",
      "Epoch 18/60\n",
      "782/782 [==============================] - 4s 5ms/step - loss: 0.4242 - accuracy: 0.8658 - val_loss: 0.4421 - val_accuracy: 0.8446\n",
      "Epoch 19/60\n",
      "782/782 [==============================] - 4s 5ms/step - loss: 0.4122 - accuracy: 0.8695 - val_loss: 0.4320 - val_accuracy: 0.8475\n",
      "Epoch 20/60\n",
      "782/782 [==============================] - 4s 5ms/step - loss: 0.4008 - accuracy: 0.8733 - val_loss: 0.4225 - val_accuracy: 0.8508\n",
      "Epoch 21/60\n",
      "782/782 [==============================] - 4s 5ms/step - loss: 0.3901 - accuracy: 0.8768 - val_loss: 0.4136 - val_accuracy: 0.8534\n",
      "Epoch 22/60\n",
      "782/782 [==============================] - 4s 5ms/step - loss: 0.3800 - accuracy: 0.8788 - val_loss: 0.4053 - val_accuracy: 0.8559\n",
      "Epoch 23/60\n",
      "782/782 [==============================] - 4s 5ms/step - loss: 0.3704 - accuracy: 0.8818 - val_loss: 0.3976 - val_accuracy: 0.8588\n",
      "Epoch 24/60\n",
      "782/782 [==============================] - 5s 6ms/step - loss: 0.3614 - accuracy: 0.8846 - val_loss: 0.3904 - val_accuracy: 0.8612\n",
      "Epoch 25/60\n",
      "782/782 [==============================] - 5s 6ms/step - loss: 0.3528 - accuracy: 0.8868 - val_loss: 0.3838 - val_accuracy: 0.8628\n",
      "Epoch 26/60\n",
      "782/782 [==============================] - 5s 6ms/step - loss: 0.3448 - accuracy: 0.8887 - val_loss: 0.3776 - val_accuracy: 0.8646\n",
      "Epoch 27/60\n",
      "782/782 [==============================] - 4s 6ms/step - loss: 0.3371 - accuracy: 0.8908 - val_loss: 0.3718 - val_accuracy: 0.8656\n",
      "Epoch 28/60\n",
      "782/782 [==============================] - 4s 5ms/step - loss: 0.3299 - accuracy: 0.8925 - val_loss: 0.3665 - val_accuracy: 0.8672\n",
      "Epoch 29/60\n",
      "782/782 [==============================] - 4s 5ms/step - loss: 0.3231 - accuracy: 0.8938 - val_loss: 0.3615 - val_accuracy: 0.8684\n",
      "Epoch 30/60\n",
      "782/782 [==============================] - 4s 5ms/step - loss: 0.3165 - accuracy: 0.8958 - val_loss: 0.3570 - val_accuracy: 0.8691\n",
      "Epoch 31/60\n",
      "782/782 [==============================] - 4s 5ms/step - loss: 0.3104 - accuracy: 0.8974 - val_loss: 0.3527 - val_accuracy: 0.8700\n",
      "Epoch 32/60\n",
      "782/782 [==============================] - 4s 5ms/step - loss: 0.3045 - accuracy: 0.8994 - val_loss: 0.3488 - val_accuracy: 0.8710\n",
      "Epoch 33/60\n",
      "782/782 [==============================] - 4s 5ms/step - loss: 0.2989 - accuracy: 0.9008 - val_loss: 0.3451 - val_accuracy: 0.8720\n",
      "Epoch 34/60\n",
      "782/782 [==============================] - 4s 5ms/step - loss: 0.2935 - accuracy: 0.9023 - val_loss: 0.3417 - val_accuracy: 0.8725\n",
      "Epoch 35/60\n",
      "782/782 [==============================] - 4s 5ms/step - loss: 0.2884 - accuracy: 0.9040 - val_loss: 0.3386 - val_accuracy: 0.8734\n",
      "Epoch 36/60\n",
      "782/782 [==============================] - 4s 6ms/step - loss: 0.2835 - accuracy: 0.9060 - val_loss: 0.3357 - val_accuracy: 0.8741\n",
      "Epoch 37/60\n",
      "782/782 [==============================] - 4s 5ms/step - loss: 0.2788 - accuracy: 0.9073 - val_loss: 0.3330 - val_accuracy: 0.8746\n",
      "Epoch 38/60\n",
      "782/782 [==============================] - 4s 5ms/step - loss: 0.2743 - accuracy: 0.9088 - val_loss: 0.3305 - val_accuracy: 0.8752\n",
      "Epoch 39/60\n",
      "782/782 [==============================] - 4s 5ms/step - loss: 0.2700 - accuracy: 0.9101 - val_loss: 0.3282 - val_accuracy: 0.8757\n",
      "Epoch 40/60\n",
      "782/782 [==============================] - 4s 5ms/step - loss: 0.2658 - accuracy: 0.9111 - val_loss: 0.3260 - val_accuracy: 0.8770\n",
      "Epoch 41/60\n",
      "782/782 [==============================] - 4s 5ms/step - loss: 0.2618 - accuracy: 0.9119 - val_loss: 0.3241 - val_accuracy: 0.8778\n",
      "Epoch 42/60\n",
      "782/782 [==============================] - 4s 5ms/step - loss: 0.2579 - accuracy: 0.9132 - val_loss: 0.3223 - val_accuracy: 0.8784\n",
      "Epoch 43/60\n",
      "782/782 [==============================] - 4s 5ms/step - loss: 0.2542 - accuracy: 0.9143 - val_loss: 0.3206 - val_accuracy: 0.8790\n",
      "Epoch 44/60\n",
      "782/782 [==============================] - 4s 5ms/step - loss: 0.2506 - accuracy: 0.9156 - val_loss: 0.3191 - val_accuracy: 0.8790\n",
      "Epoch 45/60\n",
      "782/782 [==============================] - 4s 5ms/step - loss: 0.2471 - accuracy: 0.9162 - val_loss: 0.3177 - val_accuracy: 0.8792\n",
      "Epoch 46/60\n",
      "782/782 [==============================] - 4s 5ms/step - loss: 0.2438 - accuracy: 0.9175 - val_loss: 0.3164 - val_accuracy: 0.8790\n",
      "Epoch 47/60\n",
      "782/782 [==============================] - 4s 6ms/step - loss: 0.2405 - accuracy: 0.9186 - val_loss: 0.3153 - val_accuracy: 0.8794\n",
      "Epoch 48/60\n",
      "782/782 [==============================] - 4s 6ms/step - loss: 0.2373 - accuracy: 0.9194 - val_loss: 0.3142 - val_accuracy: 0.8797\n",
      "Epoch 49/60\n",
      "782/782 [==============================] - 5s 6ms/step - loss: 0.2342 - accuracy: 0.9203 - val_loss: 0.3133 - val_accuracy: 0.8798\n",
      "Epoch 50/60\n",
      "782/782 [==============================] - 4s 6ms/step - loss: 0.2313 - accuracy: 0.9212 - val_loss: 0.3124 - val_accuracy: 0.8798\n",
      "Epoch 51/60\n",
      "782/782 [==============================] - 5s 6ms/step - loss: 0.2284 - accuracy: 0.9216 - val_loss: 0.3117 - val_accuracy: 0.8803\n",
      "Epoch 52/60\n",
      "782/782 [==============================] - 5s 7ms/step - loss: 0.2255 - accuracy: 0.9227 - val_loss: 0.3110 - val_accuracy: 0.8805\n",
      "Epoch 53/60\n",
      "782/782 [==============================] - 4s 5ms/step - loss: 0.2228 - accuracy: 0.9238 - val_loss: 0.3104 - val_accuracy: 0.8808\n",
      "Epoch 54/60\n",
      "782/782 [==============================] - 4s 6ms/step - loss: 0.2201 - accuracy: 0.9242 - val_loss: 0.3099 - val_accuracy: 0.8809\n",
      "Epoch 55/60\n",
      "782/782 [==============================] - 4s 5ms/step - loss: 0.2175 - accuracy: 0.9250 - val_loss: 0.3095 - val_accuracy: 0.8812\n",
      "Epoch 56/60\n",
      "782/782 [==============================] - 4s 5ms/step - loss: 0.2149 - accuracy: 0.9260 - val_loss: 0.3092 - val_accuracy: 0.8814\n",
      "Epoch 57/60\n",
      "782/782 [==============================] - 4s 5ms/step - loss: 0.2125 - accuracy: 0.9270 - val_loss: 0.3089 - val_accuracy: 0.8814\n",
      "Epoch 58/60\n",
      "782/782 [==============================] - 4s 5ms/step - loss: 0.2100 - accuracy: 0.9280 - val_loss: 0.3087 - val_accuracy: 0.8816\n",
      "Epoch 59/60\n",
      "782/782 [==============================] - 4s 5ms/step - loss: 0.2077 - accuracy: 0.9290 - val_loss: 0.3085 - val_accuracy: 0.8816\n",
      "Epoch 60/60\n",
      "782/782 [==============================] - 4s 5ms/step - loss: 0.2053 - accuracy: 0.9300 - val_loss: 0.3084 - val_accuracy: 0.8814\n",
      "CPU times: total: 6min 59s\n",
      "Wall time: 4min 18s\n"
     ]
    },
    {
     "data": {
      "image/png": "[encoded data removed]",
      "text/plain": [
       "<Figure size 1008x288 with 2 Axes>"
      ]
     },
     "metadata": {
      "needs_background": "light"
     },
     "output_type": "display_data"
    }
   ],
   "source": [
    "%%time\n",
    "model = fit_rmdb_sub(embed_d=1, epochs=60, batch_size=32)"
   ]
  },
  {
   "cell_type": "code",
   "execution_count": 107,
   "id": "9282c41e-2616-4589-98f9-85903a4e1a9c",
   "metadata": {},
   "outputs": [
    {
     "name": "stdout",
     "output_type": "stream",
     "text": [
      "Model: \"sequential_23\"\n",
      "_________________________________________________________________\n",
      " Layer (type)                Output Shape              Param #   \n",
      "=================================================================\n",
      " embedding_23 (Embedding)    (None, None, 16)          130960    \n",
      "                                                                 \n",
      " global_average_pooling1d_21  (None, 16)               0         \n",
      "  (GlobalAveragePooling1D)                                       \n",
      "                                                                 \n",
      " dense_27 (Dense)            (None, 1)                 17        \n",
      "                                                                 \n",
      "=================================================================\n",
      "Total params: 130,977\n",
      "Trainable params: 130,977\n",
      "Non-trainable params: 0\n",
      "_________________________________________________________________\n",
      "Epoch 1/30\n",
      "391/391 [==============================] - 8s 18ms/step - loss: 0.6889 - accuracy: 0.5856 - val_loss: 0.6820 - val_accuracy: 0.6968\n",
      "Epoch 2/30\n",
      "391/391 [==============================] - 7s 17ms/step - loss: 0.6663 - accuracy: 0.6984 - val_loss: 0.6500 - val_accuracy: 0.7442\n",
      "Epoch 3/30\n",
      "391/391 [==============================] - 8s 20ms/step - loss: 0.6244 - accuracy: 0.7517 - val_loss: 0.6072 - val_accuracy: 0.7552\n",
      "Epoch 4/30\n",
      "391/391 [==============================] - 7s 18ms/step - loss: 0.5779 - accuracy: 0.7838 - val_loss: 0.5660 - val_accuracy: 0.7767\n",
      "Epoch 5/30\n",
      "391/391 [==============================] - 6s 16ms/step - loss: 0.5346 - accuracy: 0.8083 - val_loss: 0.5288 - val_accuracy: 0.7978\n",
      "Epoch 6/30\n",
      "391/391 [==============================] - 6s 15ms/step - loss: 0.4958 - accuracy: 0.8298 - val_loss: 0.4960 - val_accuracy: 0.8156\n",
      "Epoch 7/30\n",
      "391/391 [==============================] - 6s 16ms/step - loss: 0.4613 - accuracy: 0.8461 - val_loss: 0.4673 - val_accuracy: 0.8297\n",
      "Epoch 8/30\n",
      "391/391 [==============================] - 7s 19ms/step - loss: 0.4311 - accuracy: 0.8598 - val_loss: 0.4426 - val_accuracy: 0.8402\n",
      "Epoch 9/30\n",
      "391/391 [==============================] - 7s 18ms/step - loss: 0.4048 - accuracy: 0.8691 - val_loss: 0.4217 - val_accuracy: 0.8482\n",
      "Epoch 10/30\n",
      "391/391 [==============================] - 7s 19ms/step - loss: 0.3820 - accuracy: 0.8772 - val_loss: 0.4039 - val_accuracy: 0.8534\n",
      "Epoch 11/30\n",
      "391/391 [==============================] - 7s 18ms/step - loss: 0.3622 - accuracy: 0.8833 - val_loss: 0.3888 - val_accuracy: 0.8582\n",
      "Epoch 12/30\n",
      "391/391 [==============================] - 6s 16ms/step - loss: 0.3448 - accuracy: 0.8875 - val_loss: 0.3760 - val_accuracy: 0.8622\n",
      "Epoch 13/30\n",
      "391/391 [==============================] - 6s 15ms/step - loss: 0.3295 - accuracy: 0.8916 - val_loss: 0.3651 - val_accuracy: 0.8654\n",
      "Epoch 14/30\n",
      "391/391 [==============================] - 7s 18ms/step - loss: 0.3158 - accuracy: 0.8950 - val_loss: 0.3558 - val_accuracy: 0.8682\n",
      "Epoch 15/30\n",
      "391/391 [==============================] - 8s 19ms/step - loss: 0.3036 - accuracy: 0.8988 - val_loss: 0.3478 - val_accuracy: 0.8706\n",
      "Epoch 16/30\n",
      "391/391 [==============================] - 7s 18ms/step - loss: 0.2925 - accuracy: 0.9024 - val_loss: 0.3409 - val_accuracy: 0.8722\n",
      "Epoch 17/30\n",
      "391/391 [==============================] - 7s 19ms/step - loss: 0.2824 - accuracy: 0.9058 - val_loss: 0.3350 - val_accuracy: 0.8734\n",
      "Epoch 18/30\n",
      "391/391 [==============================] - 7s 18ms/step - loss: 0.2732 - accuracy: 0.9090 - val_loss: 0.3300 - val_accuracy: 0.8744\n",
      "Epoch 19/30\n",
      "391/391 [==============================] - 6s 16ms/step - loss: 0.2647 - accuracy: 0.9112 - val_loss: 0.3256 - val_accuracy: 0.8758\n",
      "Epoch 20/30\n",
      "391/391 [==============================] - 6s 15ms/step - loss: 0.2568 - accuracy: 0.9131 - val_loss: 0.3219 - val_accuracy: 0.8770\n",
      "Epoch 21/30\n",
      "391/391 [==============================] - 6s 16ms/step - loss: 0.2495 - accuracy: 0.9146 - val_loss: 0.3188 - val_accuracy: 0.8775\n",
      "Epoch 22/30\n",
      "391/391 [==============================] - 8s 19ms/step - loss: 0.2427 - accuracy: 0.9167 - val_loss: 0.3162 - val_accuracy: 0.8785\n",
      "Epoch 23/30\n",
      "391/391 [==============================] - 7s 18ms/step - loss: 0.2363 - accuracy: 0.9185 - val_loss: 0.3140 - val_accuracy: 0.8788\n",
      "Epoch 24/30\n",
      "391/391 [==============================] - 8s 20ms/step - loss: 0.2302 - accuracy: 0.9201 - val_loss: 0.3122 - val_accuracy: 0.8792\n",
      "Epoch 25/30\n",
      "391/391 [==============================] - 7s 18ms/step - loss: 0.2245 - accuracy: 0.9220 - val_loss: 0.3108 - val_accuracy: 0.8796\n",
      "Epoch 26/30\n",
      "391/391 [==============================] - 7s 18ms/step - loss: 0.2191 - accuracy: 0.9239 - val_loss: 0.3098 - val_accuracy: 0.8800\n",
      "Epoch 27/30\n",
      "391/391 [==============================] - 6s 16ms/step - loss: 0.2140 - accuracy: 0.9256 - val_loss: 0.3090 - val_accuracy: 0.8802\n",
      "Epoch 28/30\n",
      "391/391 [==============================] - 6s 15ms/step - loss: 0.2091 - accuracy: 0.9274 - val_loss: 0.3086 - val_accuracy: 0.8805\n",
      "Epoch 29/30\n",
      "391/391 [==============================] - 6s 15ms/step - loss: 0.2045 - accuracy: 0.9294 - val_loss: 0.3083 - val_accuracy: 0.8802\n",
      "Epoch 30/30\n",
      "391/391 [==============================] - 6s 14ms/step - loss: 0.2001 - accuracy: 0.9307 - val_loss: 0.3084 - val_accuracy: 0.8807\n",
      "CPU times: total: 11min 56s\n",
      "Wall time: 3min 23s\n"
     ]
    },
    {
     "data": {
      "image/png": "[encoded data removed]",
      "text/plain": [
       "<Figure size 1008x288 with 2 Axes>"
      ]
     },
     "metadata": {
      "needs_background": "light"
     },
     "output_type": "display_data"
    }
   ],
   "source": [
    "%%time\n",
    "model = fit_rmdb_sub(embed_d=16, epochs=30, batch_size=64)"
   ]
  },
  {
   "cell_type": "code",
   "execution_count": 108,
   "id": "59a7a2a7-8ebe-4de2-89f6-de9e0f330565",
   "metadata": {},
   "outputs": [
    {
     "name": "stdout",
     "output_type": "stream",
     "text": [
      "Model: \"sequential_24\"\n",
      "_________________________________________________________________\n",
      " Layer (type)                Output Shape              Param #   \n",
      "=================================================================\n",
      " embedding_24 (Embedding)    (None, None, 16)          130960    \n",
      "                                                                 \n",
      " global_average_pooling1d_22  (None, 16)               0         \n",
      "  (GlobalAveragePooling1D)                                       \n",
      "                                                                 \n",
      " dense_28 (Dense)            (None, 1)                 17        \n",
      "                                                                 \n",
      "=================================================================\n",
      "Total params: 130,977\n",
      "Trainable params: 130,977\n",
      "Non-trainable params: 0\n",
      "_________________________________________________________________\n",
      "Epoch 1/30\n",
      "1563/1563 [==============================] - 10s 6ms/step - loss: 0.6597 - accuracy: 0.6662 - val_loss: 0.6046 - val_accuracy: 0.7216\n",
      "Epoch 2/30\n",
      "1563/1563 [==============================] - 10s 6ms/step - loss: 0.5306 - accuracy: 0.8023 - val_loss: 0.4894 - val_accuracy: 0.8040\n",
      "Epoch 3/30\n",
      "1563/1563 [==============================] - 9s 6ms/step - loss: 0.4272 - accuracy: 0.8557 - val_loss: 0.4164 - val_accuracy: 0.8431\n",
      "Epoch 4/30\n",
      "1563/1563 [==============================] - 8s 5ms/step - loss: 0.3609 - accuracy: 0.8798 - val_loss: 0.3734 - val_accuracy: 0.8597\n",
      "Epoch 5/30\n",
      "1563/1563 [==============================] - 10s 7ms/step - loss: 0.3173 - accuracy: 0.8934 - val_loss: 0.3475 - val_accuracy: 0.8681\n",
      "Epoch 6/30\n",
      "1563/1563 [==============================] - 10s 7ms/step - loss: 0.2864 - accuracy: 0.9029 - val_loss: 0.3314 - val_accuracy: 0.8728\n",
      "Epoch 7/30\n",
      "1563/1563 [==============================] - 8s 5ms/step - loss: 0.2628 - accuracy: 0.9098 - val_loss: 0.3214 - val_accuracy: 0.8754\n",
      "Epoch 8/30\n",
      "1563/1563 [==============================] - 9s 6ms/step - loss: 0.2439 - accuracy: 0.9164 - val_loss: 0.3154 - val_accuracy: 0.8777\n",
      "Epoch 9/30\n",
      "1563/1563 [==============================] - 10s 6ms/step - loss: 0.2280 - accuracy: 0.9208 - val_loss: 0.3123 - val_accuracy: 0.8796\n",
      "Epoch 10/30\n",
      "1563/1563 [==============================] - 8s 5ms/step - loss: 0.2144 - accuracy: 0.9258 - val_loss: 0.3113 - val_accuracy: 0.8803\n",
      "Epoch 11/30\n",
      "1563/1563 [==============================] - 9s 6ms/step - loss: 0.2024 - accuracy: 0.9296 - val_loss: 0.3121 - val_accuracy: 0.8814\n",
      "Epoch 12/30\n",
      "1563/1563 [==============================] - 8s 5ms/step - loss: 0.1917 - accuracy: 0.9334 - val_loss: 0.3144 - val_accuracy: 0.8812\n",
      "Epoch 13/30\n",
      "1563/1563 [==============================] - 10s 7ms/step - loss: 0.1821 - accuracy: 0.9371 - val_loss: 0.3178 - val_accuracy: 0.8800\n",
      "Epoch 14/30\n",
      "1563/1563 [==============================] - 10s 6ms/step - loss: 0.1734 - accuracy: 0.9402 - val_loss: 0.3223 - val_accuracy: 0.8786\n",
      "Epoch 15/30\n",
      "1563/1563 [==============================] - 8s 5ms/step - loss: 0.1654 - accuracy: 0.9427 - val_loss: 0.3276 - val_accuracy: 0.8784\n",
      "Epoch 16/30\n",
      "1563/1563 [==============================] - 8s 5ms/step - loss: 0.1580 - accuracy: 0.9455 - val_loss: 0.3338 - val_accuracy: 0.8774\n",
      "Epoch 17/30\n",
      "1563/1563 [==============================] - 10s 6ms/step - loss: 0.1512 - accuracy: 0.9478 - val_loss: 0.3407 - val_accuracy: 0.8764\n",
      "Epoch 18/30\n",
      "1563/1563 [==============================] - 10s 6ms/step - loss: 0.1449 - accuracy: 0.9500 - val_loss: 0.3483 - val_accuracy: 0.8750\n",
      "Epoch 19/30\n",
      "1563/1563 [==============================] - 10s 6ms/step - loss: 0.1391 - accuracy: 0.9526 - val_loss: 0.3564 - val_accuracy: 0.8734\n",
      "Epoch 20/30\n",
      "1563/1563 [==============================] - 8s 5ms/step - loss: 0.1337 - accuracy: 0.9554 - val_loss: 0.3650 - val_accuracy: 0.8726\n",
      "Epoch 21/30\n",
      "1563/1563 [==============================] - 9s 6ms/step - loss: 0.1285 - accuracy: 0.9576 - val_loss: 0.3741 - val_accuracy: 0.8718\n",
      "Epoch 22/30\n",
      "1563/1563 [==============================] - 10s 6ms/step - loss: 0.1237 - accuracy: 0.9594 - val_loss: 0.3836 - val_accuracy: 0.8710\n",
      "Epoch 23/30\n",
      "1563/1563 [==============================] - 8s 5ms/step - loss: 0.1192 - accuracy: 0.9611 - val_loss: 0.3935 - val_accuracy: 0.8696\n",
      "Epoch 24/30\n",
      "1563/1563 [==============================] - 8s 5ms/step - loss: 0.1149 - accuracy: 0.9628 - val_loss: 0.4038 - val_accuracy: 0.8686\n",
      "Epoch 25/30\n",
      "1563/1563 [==============================] - 8s 5ms/step - loss: 0.1109 - accuracy: 0.9643 - val_loss: 0.4144 - val_accuracy: 0.8678\n",
      "Epoch 26/30\n",
      "1563/1563 [==============================] - 9s 6ms/step - loss: 0.1070 - accuracy: 0.9658 - val_loss: 0.4253 - val_accuracy: 0.8668\n",
      "Epoch 27/30\n",
      "1563/1563 [==============================] - 10s 7ms/step - loss: 0.1033 - accuracy: 0.9670 - val_loss: 0.4366 - val_accuracy: 0.8655\n",
      "Epoch 28/30\n",
      "1563/1563 [==============================] - 9s 6ms/step - loss: 0.0998 - accuracy: 0.9684 - val_loss: 0.4481 - val_accuracy: 0.8650\n",
      "Epoch 29/30\n",
      "1563/1563 [==============================] - 8s 5ms/step - loss: 0.0965 - accuracy: 0.9698 - val_loss: 0.4599 - val_accuracy: 0.8638\n",
      "Epoch 30/30\n",
      "1563/1563 [==============================] - 8s 5ms/step - loss: 0.0933 - accuracy: 0.9707 - val_loss: 0.4720 - val_accuracy: 0.8633\n",
      "CPU times: total: 13min 8s\n",
      "Wall time: 4min 32s\n"
     ]
    },
    {
     "data": {
      "image/png": "[encoded data removed]",
      "text/plain": [
       "<Figure size 1008x288 with 2 Axes>"
      ]
     },
     "metadata": {
      "needs_background": "light"
     },
     "output_type": "display_data"
    }
   ],
   "source": [
    "%%time\n",
    "model = fit_rmdb_sub(embed_d=16, epochs=30, batch_size=16)"
   ]
  }
 ],
 "metadata": {
  "kernelspec": {
   "display_name": "Python 3 (ipykernel)",
   "language": "python",
   "name": "python3"
  },
  "language_info": {
   "codemirror_mode": {
    "name": "ipython",
    "version": 3
   },
   "file_extension": ".py",
   "mimetype": "text/x-python",
   "name": "python",
   "nbconvert_exporter": "python",
   "pygments_lexer": "ipython3",
   "version": "3.9.12"
  },
  "widgets": {
   "application/vnd.jupyter.widget-state+json": {
    "state": {
     "01fe04e84ffa4a5e848b3c4062164f56": {
      "model_module": "@jupyter-widgets/controls",
      "model_module_version": "1.5.0",
      "model_name": "DescriptionStyleModel",
      "state": {
       "description_width": ""
      }
     },
     "02f76702d2e24918b0359b7dec6ec60c": {
      "model_module": "@jupyter-widgets/controls",
      "model_module_version": "1.5.0",
      "model_name": "FloatProgressModel",
      "state": {
       "bar_style": "success",
       "layout": "IPY_MODEL_58cf98e14b9743dba1918cb19d1c7940",
       "max": 1,
       "style": "IPY_MODEL_d85beb9394dc47f285dae5ec368b781d",
       "value": 1
      }
     },
     "04ce6783454b4f9a990c0cb160e50d38": {
      "model_module": "@jupyter-widgets/base",
      "model_module_version": "1.2.0",
      "model_name": "LayoutModel",
      "state": {}
     },
     "193d19ffff9b46958e70c3d1f42f80c8": {
      "model_module": "@jupyter-widgets/controls",
      "model_module_version": "1.5.0",
      "model_name": "HTMLModel",
      "state": {
       "layout": "IPY_MODEL_9eb0cce2d1504b03a59ea3b39975ab2f",
       "style": "IPY_MODEL_ded1b62026fc4027a29894a2881e7f6c",
       "value": "Dl Completed...: 100%"
      }
     },
     "1c59602b100c4461b7aa04aa4c909344": {
      "model_module": "@jupyter-widgets/base",
      "model_module_version": "1.2.0",
      "model_name": "LayoutModel",
      "state": {}
     },
     "1d0ea01662fb4390a479e353fb808b74": {
      "model_module": "@jupyter-widgets/controls",
      "model_module_version": "1.5.0",
      "model_name": "DescriptionStyleModel",
      "state": {
       "description_width": ""
      }
     },
     "2285725728884b5d9538fd252eaa4ba8": {
      "model_module": "@jupyter-widgets/controls",
      "model_module_version": "1.5.0",
      "model_name": "DescriptionStyleModel",
      "state": {
       "description_width": ""
      }
     },
     "269732544f3c4a7ca2e5daeb224a69e1": {
      "model_module": "@jupyter-widgets/base",
      "model_module_version": "1.2.0",
      "model_name": "LayoutModel",
      "state": {}
     },
     "28731c0c33dc421d9ac5ed6fb4aed621": {
      "model_module": "@jupyter-widgets/controls",
      "model_module_version": "1.5.0",
      "model_name": "HTMLModel",
      "state": {
       "layout": "IPY_MODEL_c677dd4c94cd4383bceff2d9857ded37",
       "style": "IPY_MODEL_9e4107fdfcbb4c96ad0ee231f7cb711d",
       "value": "Generating unsupervised examples...: "
      }
     },
     "2aa4c28cc45b4087b6d182155ca623d6": {
      "model_module": "@jupyter-widgets/controls",
      "model_module_version": "1.5.0",
      "model_name": "HTMLModel",
      "state": {
       "layout": "IPY_MODEL_37527ee6e5a64d318c95b8f6170f805d",
       "style": "IPY_MODEL_8430836082554121bb055baad004c837",
       "value": "Generating test examples...: "
      }
     },
     "306e16954d7448a1b87d06a2d4d85dc2": {
      "model_module": "@jupyter-widgets/controls",
      "model_module_version": "1.5.0",
      "model_name": "HTMLModel",
      "state": {
       "layout": "IPY_MODEL_a9c938a9593646d2a3a07e86f1a63fbc",
       "style": "IPY_MODEL_aad3b38529d54f1ca3d1c854151076dc",
       "value": " 24975/? [00:51&lt;00:00, 482.76 examples/s]"
      }
     },
     "33700ce0eb4848ab804ffe078f61cdb2": {
      "model_module": "@jupyter-widgets/controls",
      "model_module_version": "1.5.0",
      "model_name": "HTMLModel",
      "state": {
       "layout": "IPY_MODEL_f537b48428db4ec8a73b1bb477bc73fb",
       "style": "IPY_MODEL_d3ae19efc36b440fa36721b57001813b",
       "value": " 24796/25000 [00:00&lt;00:00, 66405.93 examples/s]"
      }
     },
     "344b144960f24b2198deeb0dad0064fb": {
      "model_module": "@jupyter-widgets/base",
      "model_module_version": "1.2.0",
      "model_name": "LayoutModel",
      "state": {
       "width": "20px"
      }
     },
     "3678d87170a14ab1a3bea8451587ba34": {
      "model_module": "@jupyter-widgets/base",
      "model_module_version": "1.2.0",
      "model_name": "LayoutModel",
      "state": {}
     },
     "36e752b8f8294112bd8446cbaab991f2": {
      "model_module": "@jupyter-widgets/base",
      "model_module_version": "1.2.0",
      "model_name": "LayoutModel",
      "state": {
       "width": "20px"
      }
     },
     "37527ee6e5a64d318c95b8f6170f805d": {
      "model_module": "@jupyter-widgets/base",
      "model_module_version": "1.2.0",
      "model_name": "LayoutModel",
      "state": {}
     },
     "3a0043478a39461d999ec43685be9495": {
      "model_module": "@jupyter-widgets/base",
      "model_module_version": "1.2.0",
      "model_name": "LayoutModel",
      "state": {}
     },
     "3c85643458694badbf1637f36d72d24f": {
      "model_module": "@jupyter-widgets/controls",
      "model_module_version": "1.5.0",
      "model_name": "DescriptionStyleModel",
      "state": {
       "description_width": ""
      }
     },
     "3f1e39ca87cd411cba48278b39d8d5ca": {
      "model_module": "@jupyter-widgets/controls",
      "model_module_version": "1.5.0",
      "model_name": "HTMLModel",
      "state": {
       "layout": "IPY_MODEL_e5a84eb6595d4dccbbefc0ec9ba8e5e9",
       "style": "IPY_MODEL_bdf3c22042854399986f8c078b293ff4",
       "value": " 49976/? [01:51&lt;00:00, 418.63 examples/s]"
      }
     },
     "402380d2e7e74871abe187470159255b": {
      "model_module": "@jupyter-widgets/controls",
      "model_module_version": "1.5.0",
      "model_name": "ProgressStyleModel",
      "state": {
       "description_width": ""
      }
     },
     "412f9c7fb66841ed8806f7c01cbf5166": {
      "model_module": "@jupyter-widgets/base",
      "model_module_version": "1.2.0",
      "model_name": "LayoutModel",
      "state": {
       "width": "20px"
      }
     },
     "4251a69c90924974b92f0367ef76a3b6": {
      "model_module": "@jupyter-widgets/base",
      "model_module_version": "1.2.0",
      "model_name": "LayoutModel",
      "state": {}
     },
     "426fba7b02d24a25b218e90275bb8417": {
      "model_module": "@jupyter-widgets/base",
      "model_module_version": "1.2.0",
      "model_name": "LayoutModel",
      "state": {}
     },
     "437f859ac7ca4ddd975931405676ff87": {
      "model_module": "@jupyter-widgets/controls",
      "model_module_version": "1.5.0",
      "model_name": "HTMLModel",
      "state": {
       "layout": "IPY_MODEL_609db3973df44b4c8b92008b5ceba0d7",
       "style": "IPY_MODEL_78e9f04ad6244e8e9456c3175e57ff8e",
       "value": "Shuffling ~\\tensorflow_datasets\\imdb_reviews\\subwords8k\\1.0.0.incompleteGVE4EA\\imdb_reviews-train.tfrecord*...:  77%"
      }
     },
     "4403b8522dd04f68b1704dd517566f6d": {
      "model_module": "@jupyter-widgets/base",
      "model_module_version": "1.2.0",
      "model_name": "LayoutModel",
      "state": {}
     },
     "4795a2fdaf4047e1aa135efac31593f8": {
      "model_module": "@jupyter-widgets/controls",
      "model_module_version": "1.5.0",
      "model_name": "HTMLModel",
      "state": {
       "layout": "IPY_MODEL_807985c7f0734d5baa82d5eda523612e",
       "style": "IPY_MODEL_01fe04e84ffa4a5e848b3c4062164f56",
       "value": " 1/1 [00:00&lt;00:00, 16.00 url/s]"
      }
     },
     "4f2529677154457781ddc43ab7646489": {
      "model_module": "@jupyter-widgets/controls",
      "model_module_version": "1.5.0",
      "model_name": "DescriptionStyleModel",
      "state": {
       "description_width": ""
      }
     },
     "50fbac2e34444925bc2509f309df474d": {
      "model_module": "@jupyter-widgets/base",
      "model_module_version": "1.2.0",
      "model_name": "LayoutModel",
      "state": {}
     },
     "51686fa3a80443ac823d4134a8fd7f39": {
      "model_module": "@jupyter-widgets/controls",
      "model_module_version": "1.5.0",
      "model_name": "HBoxModel",
      "state": {
       "children": [
        "IPY_MODEL_193d19ffff9b46958e70c3d1f42f80c8",
        "IPY_MODEL_92374609f8e547589fc70a87ef43e5df",
        "IPY_MODEL_4795a2fdaf4047e1aa135efac31593f8"
       ],
       "layout": "IPY_MODEL_aee6f3e995df40e49f9de0e646cadc4e"
      }
     },
     "52192288c6254be1a37a33c6678948ba": {
      "model_module": "@jupyter-widgets/controls",
      "model_module_version": "1.5.0",
      "model_name": "FloatProgressModel",
      "state": {
       "bar_style": "info",
       "layout": "IPY_MODEL_36e752b8f8294112bd8446cbaab991f2",
       "max": 1,
       "style": "IPY_MODEL_fbd3d2fe5a7a4e3c8ca266016a4eeacc",
       "value": 1
      }
     },
     "563ce4a76e5646b08e7433136965e2b1": {
      "model_module": "@jupyter-widgets/controls",
      "model_module_version": "1.5.0",
      "model_name": "FloatProgressModel",
      "state": {
       "layout": "IPY_MODEL_58cdde1a40bd4902a3a6bf717fbd064d",
       "max": 3,
       "style": "IPY_MODEL_dd0e69a336d24a26a45daef63fec3957",
       "value": 3
      }
     },
     "58cdde1a40bd4902a3a6bf717fbd064d": {
      "model_module": "@jupyter-widgets/base",
      "model_module_version": "1.2.0",
      "model_name": "LayoutModel",
      "state": {}
     },
     "58cf98e14b9743dba1918cb19d1c7940": {
      "model_module": "@jupyter-widgets/base",
      "model_module_version": "1.2.0",
      "model_name": "LayoutModel",
      "state": {
       "width": "20px"
      }
     },
     "5b38f6a332b64e99bfaed7c0490b2b29": {
      "model_module": "@jupyter-widgets/controls",
      "model_module_version": "1.5.0",
      "model_name": "DescriptionStyleModel",
      "state": {
       "description_width": ""
      }
     },
     "609db3973df44b4c8b92008b5ceba0d7": {
      "model_module": "@jupyter-widgets/base",
      "model_module_version": "1.2.0",
      "model_name": "LayoutModel",
      "state": {}
     },
     "6215865f4f1343d1b6769f8a89cdb824": {
      "model_module": "@jupyter-widgets/base",
      "model_module_version": "1.2.0",
      "model_name": "LayoutModel",
      "state": {}
     },
     "62f4d6114e3c421f92df874a133e1829": {
      "model_module": "@jupyter-widgets/base",
      "model_module_version": "1.2.0",
      "model_name": "LayoutModel",
      "state": {}
     },
     "68cc65cf35c7463c87996bbbd35eedf2": {
      "model_module": "@jupyter-widgets/base",
      "model_module_version": "1.2.0",
      "model_name": "LayoutModel",
      "state": {}
     },
     "6f8ef7da61dd4849bb70451fe79a5897": {
      "model_module": "@jupyter-widgets/base",
      "model_module_version": "1.2.0",
      "model_name": "LayoutModel",
      "state": {}
     },
     "7468dacdeca74319ad6156f6b971b9e2": {
      "model_module": "@jupyter-widgets/base",
      "model_module_version": "1.2.0",
      "model_name": "LayoutModel",
      "state": {
       "width": "20px"
      }
     },
     "74affa08d22141b6a61b8d6ab83e30d9": {
      "model_module": "@jupyter-widgets/controls",
      "model_module_version": "1.5.0",
      "model_name": "ProgressStyleModel",
      "state": {
       "description_width": ""
      }
     },
     "74ec6fd3e545407cbf86ce68d62da5b6": {
      "model_module": "@jupyter-widgets/base",
      "model_module_version": "1.2.0",
      "model_name": "LayoutModel",
      "state": {}
     },
     "76a4e209e13e44ef9479d9a5ea132c87": {
      "model_module": "@jupyter-widgets/controls",
      "model_module_version": "1.5.0",
      "model_name": "HTMLModel",
      "state": {
       "layout": "IPY_MODEL_1c59602b100c4461b7aa04aa4c909344",
       "style": "IPY_MODEL_f17d4e86e9ad453795d0a530bdef1d94",
       "value": " 24961/? [00:57&lt;00:00, 462.38 examples/s]"
      }
     },
     "78e9f04ad6244e8e9456c3175e57ff8e": {
      "model_module": "@jupyter-widgets/controls",
      "model_module_version": "1.5.0",
      "model_name": "DescriptionStyleModel",
      "state": {
       "description_width": ""
      }
     },
     "7c331ec1ff2e4860900fae66b0658d31": {
      "model_module": "@jupyter-widgets/controls",
      "model_module_version": "1.5.0",
      "model_name": "ProgressStyleModel",
      "state": {
       "description_width": ""
      }
     },
     "807985c7f0734d5baa82d5eda523612e": {
      "model_module": "@jupyter-widgets/base",
      "model_module_version": "1.2.0",
      "model_name": "LayoutModel",
      "state": {}
     },
     "8430836082554121bb055baad004c837": {
      "model_module": "@jupyter-widgets/controls",
      "model_module_version": "1.5.0",
      "model_name": "DescriptionStyleModel",
      "state": {
       "description_width": ""
      }
     },
     "8976cf08952d4a59a3555d44cc04d18d": {
      "model_module": "@jupyter-widgets/controls",
      "model_module_version": "1.5.0",
      "model_name": "FloatProgressModel",
      "state": {
       "layout": "IPY_MODEL_74ec6fd3e545407cbf86ce68d62da5b6",
       "max": 50000,
       "style": "IPY_MODEL_a2015aad54714d53ada3171f956f38ad",
       "value": 50000
      }
     },
     "8c9b4991f9ac49e4b18baf1696d503cd": {
      "model_module": "@jupyter-widgets/controls",
      "model_module_version": "1.5.0",
      "model_name": "HTMLModel",
      "state": {
       "layout": "IPY_MODEL_cf4fe6766e984a509ade6de9a4514d4e",
       "style": "IPY_MODEL_3c85643458694badbf1637f36d72d24f",
       "value": " 19215/25000 [00:00&lt;00:00, 66819.90 examples/s]"
      }
     },
     "8d799942c37a4b1e82435623e785e48c": {
      "model_module": "@jupyter-widgets/base",
      "model_module_version": "1.2.0",
      "model_name": "LayoutModel",
      "state": {}
     },
     "92374609f8e547589fc70a87ef43e5df": {
      "model_module": "@jupyter-widgets/controls",
      "model_module_version": "1.5.0",
      "model_name": "FloatProgressModel",
      "state": {
       "bar_style": "success",
       "layout": "IPY_MODEL_344b144960f24b2198deeb0dad0064fb",
       "max": 1,
       "style": "IPY_MODEL_d96239021bdc49849d6c301693699bb0",
       "value": 1
      }
     },
     "93b96497caa3413c8f1a6675dadaf936": {
      "model_module": "@jupyter-widgets/base",
      "model_module_version": "1.2.0",
      "model_name": "LayoutModel",
      "state": {}
     },
     "99522efaf733493db0d5c800a6b81c2b": {
      "model_module": "@jupyter-widgets/base",
      "model_module_version": "1.2.0",
      "model_name": "LayoutModel",
      "state": {}
     },
     "9e4107fdfcbb4c96ad0ee231f7cb711d": {
      "model_module": "@jupyter-widgets/controls",
      "model_module_version": "1.5.0",
      "model_name": "DescriptionStyleModel",
      "state": {
       "description_width": ""
      }
     },
     "9eb0cce2d1504b03a59ea3b39975ab2f": {
      "model_module": "@jupyter-widgets/base",
      "model_module_version": "1.2.0",
      "model_name": "LayoutModel",
      "state": {}
     },
     "a0f8e95c4a6945b298fee9d61b0329a7": {
      "model_module": "@jupyter-widgets/controls",
      "model_module_version": "1.5.0",
      "model_name": "HTMLModel",
      "state": {
       "layout": "IPY_MODEL_99522efaf733493db0d5c800a6b81c2b",
       "style": "IPY_MODEL_5b38f6a332b64e99bfaed7c0490b2b29",
       "value": " 3/3 [03:54&lt;00:00, 84.27s/ splits]"
      }
     },
     "a2015aad54714d53ada3171f956f38ad": {
      "model_module": "@jupyter-widgets/controls",
      "model_module_version": "1.5.0",
      "model_name": "ProgressStyleModel",
      "state": {
       "description_width": ""
      }
     },
     "a64601e4d7c047779ee7d9cfbe3ee139": {
      "model_module": "@jupyter-widgets/controls",
      "model_module_version": "1.5.0",
      "model_name": "HTMLModel",
      "state": {
       "layout": "IPY_MODEL_269732544f3c4a7ca2e5daeb224a69e1",
       "style": "IPY_MODEL_c1f8977fd14a45dc8916faad795c13b0",
       "value": "Shuffling ~\\tensorflow_datasets\\imdb_reviews\\subwords8k\\1.0.0.incompleteGVE4EA\\imdb_reviews-test.tfrecord*...:  99%"
      }
     },
     "a9c938a9593646d2a3a07e86f1a63fbc": {
      "model_module": "@jupyter-widgets/base",
      "model_module_version": "1.2.0",
      "model_name": "LayoutModel",
      "state": {}
     },
     "aad3b38529d54f1ca3d1c854151076dc": {
      "model_module": "@jupyter-widgets/controls",
      "model_module_version": "1.5.0",
      "model_name": "DescriptionStyleModel",
      "state": {
       "description_width": ""
      }
     },
     "aee6f3e995df40e49f9de0e646cadc4e": {
      "model_module": "@jupyter-widgets/base",
      "model_module_version": "1.2.0",
      "model_name": "LayoutModel",
      "state": {}
     },
     "b13d46b563244937bd304b681237c30f": {
      "model_module": "@jupyter-widgets/controls",
      "model_module_version": "1.5.0",
      "model_name": "HTMLModel",
      "state": {
       "layout": "IPY_MODEL_3678d87170a14ab1a3bea8451587ba34",
       "style": "IPY_MODEL_b883368dcaa04409a777309d982b3b86",
       "value": "Generating splits...: 100%"
      }
     },
     "b78aa4b6119b4fc6990ef7f2e9061595": {
      "model_module": "@jupyter-widgets/controls",
      "model_module_version": "1.5.0",
      "model_name": "DescriptionStyleModel",
      "state": {
       "description_width": ""
      }
     },
     "b879d130fffc4c6d83fea8f805766fe6": {
      "model_module": "@jupyter-widgets/controls",
      "model_module_version": "1.5.0",
      "model_name": "HTMLModel",
      "state": {
       "layout": "IPY_MODEL_3a0043478a39461d999ec43685be9495",
       "style": "IPY_MODEL_2285725728884b5d9538fd252eaa4ba8",
       "value": "Generating train examples...: "
      }
     },
     "b883368dcaa04409a777309d982b3b86": {
      "model_module": "@jupyter-widgets/controls",
      "model_module_version": "1.5.0",
      "model_name": "DescriptionStyleModel",
      "state": {
       "description_width": ""
      }
     },
     "b8d57740d64a48c682f9cba68c2897ce": {
      "model_module": "@jupyter-widgets/base",
      "model_module_version": "1.2.0",
      "model_name": "LayoutModel",
      "state": {}
     },
     "bdf3c22042854399986f8c078b293ff4": {
      "model_module": "@jupyter-widgets/controls",
      "model_module_version": "1.5.0",
      "model_name": "DescriptionStyleModel",
      "state": {
       "description_width": ""
      }
     },
     "c1f8977fd14a45dc8916faad795c13b0": {
      "model_module": "@jupyter-widgets/controls",
      "model_module_version": "1.5.0",
      "model_name": "DescriptionStyleModel",
      "state": {
       "description_width": ""
      }
     },
     "c336f3e58111483b91ae3b06b7e97054": {
      "model_module": "@jupyter-widgets/controls",
      "model_module_version": "1.5.0",
      "model_name": "ProgressStyleModel",
      "state": {
       "description_width": ""
      }
     },
     "c677dd4c94cd4383bceff2d9857ded37": {
      "model_module": "@jupyter-widgets/base",
      "model_module_version": "1.2.0",
      "model_name": "LayoutModel",
      "state": {}
     },
     "c6e586474db94f9da0b65b4f41ec2dc5": {
      "model_module": "@jupyter-widgets/controls",
      "model_module_version": "1.5.0",
      "model_name": "FloatProgressModel",
      "state": {
       "layout": "IPY_MODEL_4251a69c90924974b92f0367ef76a3b6",
       "max": 25000,
       "style": "IPY_MODEL_7c331ec1ff2e4860900fae66b0658d31",
       "value": 25000
      }
     },
     "ca10994c697a4776b5147a06ef04a404": {
      "model_module": "@jupyter-widgets/controls",
      "model_module_version": "1.5.0",
      "model_name": "FloatProgressModel",
      "state": {
       "bar_style": "info",
       "layout": "IPY_MODEL_412f9c7fb66841ed8806f7c01cbf5166",
       "max": 1,
       "style": "IPY_MODEL_402380d2e7e74871abe187470159255b",
       "value": 1
      }
     },
     "cf4fe6766e984a509ade6de9a4514d4e": {
      "model_module": "@jupyter-widgets/base",
      "model_module_version": "1.2.0",
      "model_name": "LayoutModel",
      "state": {}
     },
     "d095d2a6b6a34552a80a4a29abd87a22": {
      "model_module": "@jupyter-widgets/controls",
      "model_module_version": "1.5.0",
      "model_name": "HTMLModel",
      "state": {
       "layout": "IPY_MODEL_fe8eab097bfd46b18e7b14b4aa85fcbe",
       "style": "IPY_MODEL_b78aa4b6119b4fc6990ef7f2e9061595",
       "value": " 46599/50000 [00:00&lt;00:00, 70671.61 examples/s]"
      }
     },
     "d3ae19efc36b440fa36721b57001813b": {
      "model_module": "@jupyter-widgets/controls",
      "model_module_version": "1.5.0",
      "model_name": "DescriptionStyleModel",
      "state": {
       "description_width": ""
      }
     },
     "d85beb9394dc47f285dae5ec368b781d": {
      "model_module": "@jupyter-widgets/controls",
      "model_module_version": "1.5.0",
      "model_name": "ProgressStyleModel",
      "state": {
       "description_width": ""
      }
     },
     "d96239021bdc49849d6c301693699bb0": {
      "model_module": "@jupyter-widgets/controls",
      "model_module_version": "1.5.0",
      "model_name": "ProgressStyleModel",
      "state": {
       "description_width": ""
      }
     },
     "dd0e69a336d24a26a45daef63fec3957": {
      "model_module": "@jupyter-widgets/controls",
      "model_module_version": "1.5.0",
      "model_name": "ProgressStyleModel",
      "state": {
       "description_width": ""
      }
     },
     "dda6a6eac3cd49c88c16c54913cb7a49": {
      "model_module": "@jupyter-widgets/controls",
      "model_module_version": "1.5.0",
      "model_name": "HBoxModel",
      "state": {
       "children": [
        "IPY_MODEL_fba65748277e4f73b83c2751241528c1",
        "IPY_MODEL_02f76702d2e24918b0359b7dec6ec60c",
        "IPY_MODEL_e88755c773b54cf88dce06de0291ed85"
       ],
       "layout": "IPY_MODEL_8d799942c37a4b1e82435623e785e48c"
      }
     },
     "ded1b62026fc4027a29894a2881e7f6c": {
      "model_module": "@jupyter-widgets/controls",
      "model_module_version": "1.5.0",
      "model_name": "DescriptionStyleModel",
      "state": {
       "description_width": ""
      }
     },
     "df559fe72f5d42a1be24495e59105b18": {
      "model_module": "@jupyter-widgets/controls",
      "model_module_version": "1.5.0",
      "model_name": "DescriptionStyleModel",
      "state": {
       "description_width": ""
      }
     },
     "e5a84eb6595d4dccbbefc0ec9ba8e5e9": {
      "model_module": "@jupyter-widgets/base",
      "model_module_version": "1.2.0",
      "model_name": "LayoutModel",
      "state": {}
     },
     "e6b68b6a1eec4e0d9964e729cdb67860": {
      "model_module": "@jupyter-widgets/controls",
      "model_module_version": "1.5.0",
      "model_name": "HTMLModel",
      "state": {
       "layout": "IPY_MODEL_6215865f4f1343d1b6769f8a89cdb824",
       "style": "IPY_MODEL_4f2529677154457781ddc43ab7646489",
       "value": "Shuffling ~\\tensorflow_datasets\\imdb_reviews\\subwords8k\\1.0.0.incompleteGVE4EA\\imdb_reviews-unsupervised.tfrecord*...:  93%"
      }
     },
     "e88755c773b54cf88dce06de0291ed85": {
      "model_module": "@jupyter-widgets/controls",
      "model_module_version": "1.5.0",
      "model_name": "HTMLModel",
      "state": {
       "layout": "IPY_MODEL_b8d57740d64a48c682f9cba68c2897ce",
       "style": "IPY_MODEL_1d0ea01662fb4390a479e353fb808b74",
       "value": " 84125825/84125825 [00:00&lt;00:00, 2693670485.99 MiB/s]"
      }
     },
     "eca0046ddf034b2bbea35f3651f603ec": {
      "model_module": "@jupyter-widgets/controls",
      "model_module_version": "1.5.0",
      "model_name": "FloatProgressModel",
      "state": {
       "layout": "IPY_MODEL_04ce6783454b4f9a990c0cb160e50d38",
       "max": 25000,
       "style": "IPY_MODEL_74affa08d22141b6a61b8d6ab83e30d9",
       "value": 25000
      }
     },
     "f059302c1baa43b0970ae37e29209d2a": {
      "model_module": "@jupyter-widgets/controls",
      "model_module_version": "1.5.0",
      "model_name": "FloatProgressModel",
      "state": {
       "bar_style": "info",
       "layout": "IPY_MODEL_7468dacdeca74319ad6156f6b971b9e2",
       "max": 1,
       "style": "IPY_MODEL_c336f3e58111483b91ae3b06b7e97054",
       "value": 1
      }
     },
     "f17d4e86e9ad453795d0a530bdef1d94": {
      "model_module": "@jupyter-widgets/controls",
      "model_module_version": "1.5.0",
      "model_name": "DescriptionStyleModel",
      "state": {
       "description_width": ""
      }
     },
     "f4b9b6b8bb6c48c09a90efa2f08264ff": {
      "model_module": "@jupyter-widgets/base",
      "model_module_version": "1.2.0",
      "model_name": "LayoutModel",
      "state": {}
     },
     "f537b48428db4ec8a73b1bb477bc73fb": {
      "model_module": "@jupyter-widgets/base",
      "model_module_version": "1.2.0",
      "model_name": "LayoutModel",
      "state": {}
     },
     "fba65748277e4f73b83c2751241528c1": {
      "model_module": "@jupyter-widgets/controls",
      "model_module_version": "1.5.0",
      "model_name": "HTMLModel",
      "state": {
       "layout": "IPY_MODEL_50fbac2e34444925bc2509f309df474d",
       "style": "IPY_MODEL_df559fe72f5d42a1be24495e59105b18",
       "value": "Dl Size...: 100%"
      }
     },
     "fbd3d2fe5a7a4e3c8ca266016a4eeacc": {
      "model_module": "@jupyter-widgets/controls",
      "model_module_version": "1.5.0",
      "model_name": "ProgressStyleModel",
      "state": {
       "description_width": ""
      }
     },
     "fe8eab097bfd46b18e7b14b4aa85fcbe": {
      "model_module": "@jupyter-widgets/base",
      "model_module_version": "1.2.0",
      "model_name": "LayoutModel",
      "state": {}
     }
    },
    "version_major": 2,
    "version_minor": 0
   }
  }
 },
 "nbformat": 4,
 "nbformat_minor": 5
}
