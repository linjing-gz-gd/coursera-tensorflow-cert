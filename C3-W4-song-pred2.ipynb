{
 "cells": [
  {
   "cell_type": "code",
   "execution_count": 1,
   "id": "09ed12f7-17c6-4f58-a982-b21bdc89e7b3",
   "metadata": {},
   "outputs": [],
   "source": [
    "import numpy as np\n",
    "import matplotlib.pyplot as plt\n",
    "\n",
    "import tensorflow as tf\n",
    "from tensorflow import keras\n",
    "from tensorflow.keras.preprocessing.text import Tokenizer\n",
    "from tensorflow.keras.preprocessing.sequence import pad_sequences\n",
    "\n",
    "import os\n",
    "\n",
    "import utilities"
   ]
  },
  {
   "cell_type": "code",
   "execution_count": 4,
   "id": "76c6b881-5628-41b5-addc-3aa6dc42ed12",
   "metadata": {},
   "outputs": [],
   "source": [
    "import urllib\n",
    "\n",
    "txt_url = 'https://storage.googleapis.com/tensorflow-1-public/course3/irish-lyrics-eof.txt'\n",
    "txt_local = os.path.join('data', 'irish-lyrics', 'irish-lyrics-eof.txt')\n",
    "\n",
    "if not os.path.exists(txt_local):\n",
    "    urllib.request.urlretrieve(txt_url, txt_local)"
   ]
  },
  {
   "cell_type": "code",
   "execution_count": 5,
   "id": "6cfa992f-ed73-4c55-b72d-07251a2067bb",
   "metadata": {},
   "outputs": [
    {
     "name": "stdout",
     "output_type": "stream",
     "text": [
      "There are 1692 sentences.\n"
     ]
    }
   ],
   "source": [
    "with open(txt_local, 'r') as file:\n",
    "    txt = [l for l in file]\n",
    "    \n",
    "print(f'There are {len(txt)} sentences.')"
   ]
  },
  {
   "cell_type": "code",
   "execution_count": 6,
   "id": "6a467617-5f77-4736-bae7-0ec78995d352",
   "metadata": {},
   "outputs": [
    {
     "name": "stdout",
     "output_type": "stream",
     "text": [
      "There are 2690 words.\n"
     ]
    }
   ],
   "source": [
    "tokenizer = Tokenizer()\n",
    "tokenizer.fit_on_texts(txt)\n",
    "vocab_size = len(tokenizer.word_index) + 1\n",
    "print(f'There are {vocab_size} words.')"
   ]
  },
  {
   "cell_type": "code",
   "execution_count": 7,
   "id": "47670787-f94a-4b2d-94ab-9128f012dfed",
   "metadata": {},
   "outputs": [
    {
     "data": {
      "text/plain": [
       "(12038, 16)"
      ]
     },
     "execution_count": 7,
     "metadata": {},
     "output_type": "execute_result"
    }
   ],
   "source": [
    "seqs = tokenizer.texts_to_sequences(txt)\n",
    "subseqs = sum(([sq[:end+1] for end in range(1, len(sq))] for sq in seqs), start=[])\n",
    "maxlen = max(len(sq) for sq in seqs)\n",
    "padseqs = pad_sequences(subseqs, padding='pre', maxlen=maxlen, truncating='pre')\n",
    "padseqs.shape"
   ]
  },
  {
   "cell_type": "code",
   "execution_count": 41,
   "id": "a84a95f4-d207-4a32-aa05-ba9845409266",
   "metadata": {},
   "outputs": [
    {
     "data": {
      "text/plain": [
       "((10000, 15), (2038, 15))"
      ]
     },
     "execution_count": 41,
     "metadata": {},
     "output_type": "execute_result"
    }
   ],
   "source": [
    "trn_size = 10000\n",
    "trn_ind = np.random.choice(len(padseqs), size=trn_size, replace=False)\n",
    "trn_b = np.zeros([len(padseqs)], dtype=bool)\n",
    "trn_b[trn_ind] = True\n",
    "trn_sq, val_sq = padseqs[trn_b, :-1], padseqs[~trn_b, :-1]\n",
    "trn_lb, val_lb = padseqs[trn_b, -1], padseqs[~trn_b, -1]\n",
    "\n",
    "trn_sq.shape, val_sq.shape"
   ]
  },
  {
   "cell_type": "code",
   "execution_count": 40,
   "id": "f14c7c59-b74f-4473-923d-50723c61ea81",
   "metadata": {},
   "outputs": [],
   "source": [
    "def fit_lyric_pred(embed_d=16, hidden_d=16, lr=0.01, epochs=50, batch=64):\n",
    "    ly = keras.layers\n",
    "    model = keras.models.Sequential([\n",
    "        ly.Embedding(vocab_size, embed_d),\n",
    "        ly.Bidirectional(ly.LSTM(hidden_d)),\n",
    "        ly.Dropout(0.5),\n",
    "        ly.Dense(vocab_size, activation='softmax')\n",
    "    ])\n",
    "    model.summary()\n",
    "    \n",
    "    model.compile(\n",
    "        loss='sparse_categorical_crossentropy',\n",
    "        optimizer=keras.optimizers.Adam(learning_rate=lr),\n",
    "        metrics=['accuracy']\n",
    "    )\n",
    "    \n",
    "    history = model.fit(\n",
    "        trn_sq, trn_lb,\n",
    "        epochs=epochs, batch_size=batch,\n",
    "        validation_data=(val_sq, val_lb)\n",
    "    )\n",
    "    \n",
    "    utilities.plot_train_val_metrics(history, ['loss', 'accuracy'])\n",
    "    \n",
    "    return model"
   ]
  },
  {
   "cell_type": "code",
   "execution_count": 42,
   "id": "e681184e-6929-482a-9250-c6282a2def05",
   "metadata": {
    "scrolled": true,
    "tags": []
   },
   "outputs": [
    {
     "name": "stdout",
     "output_type": "stream",
     "text": [
      "Model: \"sequential_8\"\n",
      "_________________________________________________________________\n",
      " Layer (type)                Output Shape              Param #   \n",
      "=================================================================\n",
      " embedding_8 (Embedding)     (None, None, 16)          43040     \n",
      "                                                                 \n",
      " bidirectional_8 (Bidirectio  (None, 32)               4224      \n",
      " nal)                                                            \n",
      "                                                                 \n",
      " dropout_5 (Dropout)         (None, 32)                0         \n",
      "                                                                 \n",
      " dense_8 (Dense)             (None, 2690)              88770     \n",
      "                                                                 \n",
      "=================================================================\n",
      "Total params: 136,034\n",
      "Trainable params: 136,034\n",
      "Non-trainable params: 0\n",
      "_________________________________________________________________\n",
      "Epoch 1/50\n",
      "157/157 [==============================] - 4s 13ms/step - loss: 6.7642 - accuracy: 0.0648 - val_loss: 6.5564 - val_accuracy: 0.0628\n",
      "Epoch 2/50\n",
      "157/157 [==============================] - 1s 7ms/step - loss: 6.3527 - accuracy: 0.0664 - val_loss: 6.6260 - val_accuracy: 0.0628\n",
      "Epoch 3/50\n",
      "157/157 [==============================] - 1s 7ms/step - loss: 6.2167 - accuracy: 0.0699 - val_loss: 6.6580 - val_accuracy: 0.0682\n",
      "Epoch 4/50\n",
      "157/157 [==============================] - 1s 6ms/step - loss: 6.1009 - accuracy: 0.0794 - val_loss: 6.7069 - val_accuracy: 0.0726\n",
      "Epoch 5/50\n",
      "157/157 [==============================] - 1s 7ms/step - loss: 5.9978 - accuracy: 0.0886 - val_loss: 6.7272 - val_accuracy: 0.0726\n",
      "Epoch 6/50\n",
      "157/157 [==============================] - 1s 6ms/step - loss: 5.8961 - accuracy: 0.0942 - val_loss: 6.7312 - val_accuracy: 0.0790\n",
      "Epoch 7/50\n",
      "157/157 [==============================] - 1s 7ms/step - loss: 5.7972 - accuracy: 0.1010 - val_loss: 6.7418 - val_accuracy: 0.0864\n",
      "Epoch 8/50\n",
      "157/157 [==============================] - 1s 6ms/step - loss: 5.6959 - accuracy: 0.1054 - val_loss: 6.7707 - val_accuracy: 0.0878\n",
      "Epoch 9/50\n",
      "157/157 [==============================] - 1s 6ms/step - loss: 5.5962 - accuracy: 0.1109 - val_loss: 6.7795 - val_accuracy: 0.0908\n",
      "Epoch 10/50\n",
      "157/157 [==============================] - 1s 7ms/step - loss: 5.4968 - accuracy: 0.1169 - val_loss: 6.7979 - val_accuracy: 0.0903\n",
      "Epoch 11/50\n",
      "157/157 [==============================] - 1s 7ms/step - loss: 5.4216 - accuracy: 0.1193 - val_loss: 6.8128 - val_accuracy: 0.0942\n",
      "Epoch 12/50\n",
      "157/157 [==============================] - 1s 7ms/step - loss: 5.3392 - accuracy: 0.1241 - val_loss: 6.8259 - val_accuracy: 0.0952\n",
      "Epoch 13/50\n",
      "157/157 [==============================] - 1s 6ms/step - loss: 5.2644 - accuracy: 0.1318 - val_loss: 6.8353 - val_accuracy: 0.0986\n",
      "Epoch 14/50\n",
      "157/157 [==============================] - 1s 7ms/step - loss: 5.2001 - accuracy: 0.1294 - val_loss: 6.8614 - val_accuracy: 0.1006\n",
      "Epoch 15/50\n",
      "157/157 [==============================] - 1s 6ms/step - loss: 5.1321 - accuracy: 0.1362 - val_loss: 6.8795 - val_accuracy: 0.1011\n",
      "Epoch 16/50\n",
      "157/157 [==============================] - 1s 6ms/step - loss: 5.0773 - accuracy: 0.1386 - val_loss: 6.8947 - val_accuracy: 0.1055\n",
      "Epoch 17/50\n",
      "157/157 [==============================] - 1s 6ms/step - loss: 5.0269 - accuracy: 0.1388 - val_loss: 6.9163 - val_accuracy: 0.1050\n",
      "Epoch 18/50\n",
      "157/157 [==============================] - 1s 6ms/step - loss: 4.9620 - accuracy: 0.1463 - val_loss: 6.9617 - val_accuracy: 0.1030\n",
      "Epoch 19/50\n",
      "157/157 [==============================] - 1s 7ms/step - loss: 4.9047 - accuracy: 0.1449 - val_loss: 7.0124 - val_accuracy: 0.1094\n",
      "Epoch 20/50\n",
      "157/157 [==============================] - 1s 7ms/step - loss: 4.8372 - accuracy: 0.1489 - val_loss: 7.0384 - val_accuracy: 0.1153\n",
      "Epoch 21/50\n",
      "157/157 [==============================] - 1s 7ms/step - loss: 4.8029 - accuracy: 0.1546 - val_loss: 7.0546 - val_accuracy: 0.1109\n",
      "Epoch 22/50\n",
      "157/157 [==============================] - 1s 7ms/step - loss: 4.7501 - accuracy: 0.1539 - val_loss: 7.1426 - val_accuracy: 0.1079\n",
      "Epoch 23/50\n",
      "157/157 [==============================] - 1s 7ms/step - loss: 4.7299 - accuracy: 0.1531 - val_loss: 7.1571 - val_accuracy: 0.1109\n",
      "Epoch 24/50\n",
      "157/157 [==============================] - 1s 6ms/step - loss: 4.6886 - accuracy: 0.1545 - val_loss: 7.2135 - val_accuracy: 0.1084\n",
      "Epoch 25/50\n",
      "157/157 [==============================] - 1s 6ms/step - loss: 4.6343 - accuracy: 0.1630 - val_loss: 7.2035 - val_accuracy: 0.1129\n",
      "Epoch 26/50\n",
      "157/157 [==============================] - 1s 7ms/step - loss: 4.5854 - accuracy: 0.1639 - val_loss: 7.2778 - val_accuracy: 0.1104\n",
      "Epoch 27/50\n",
      "157/157 [==============================] - 1s 7ms/step - loss: 4.5598 - accuracy: 0.1654 - val_loss: 7.3290 - val_accuracy: 0.1124\n",
      "Epoch 28/50\n",
      "157/157 [==============================] - 1s 7ms/step - loss: 4.5222 - accuracy: 0.1620 - val_loss: 7.4047 - val_accuracy: 0.1133\n",
      "Epoch 29/50\n",
      "157/157 [==============================] - 1s 7ms/step - loss: 4.4791 - accuracy: 0.1704 - val_loss: 7.3966 - val_accuracy: 0.1070\n",
      "Epoch 30/50\n",
      "157/157 [==============================] - 1s 6ms/step - loss: 4.4408 - accuracy: 0.1711 - val_loss: 7.5062 - val_accuracy: 0.1109\n",
      "Epoch 31/50\n",
      "157/157 [==============================] - 1s 7ms/step - loss: 4.4147 - accuracy: 0.1658 - val_loss: 7.4935 - val_accuracy: 0.1050\n",
      "Epoch 32/50\n",
      "157/157 [==============================] - 1s 6ms/step - loss: 4.3928 - accuracy: 0.1686 - val_loss: 7.5606 - val_accuracy: 0.1079\n",
      "Epoch 33/50\n",
      "157/157 [==============================] - 1s 6ms/step - loss: 4.3456 - accuracy: 0.1793 - val_loss: 7.6102 - val_accuracy: 0.1060\n",
      "Epoch 34/50\n",
      "157/157 [==============================] - 1s 6ms/step - loss: 4.3163 - accuracy: 0.1807 - val_loss: 7.6452 - val_accuracy: 0.1133\n",
      "Epoch 35/50\n",
      "157/157 [==============================] - 1s 7ms/step - loss: 4.2571 - accuracy: 0.1802 - val_loss: 7.7321 - val_accuracy: 0.1089\n",
      "Epoch 36/50\n",
      "157/157 [==============================] - 1s 7ms/step - loss: 4.2682 - accuracy: 0.1785 - val_loss: 7.7020 - val_accuracy: 0.1109\n",
      "Epoch 37/50\n",
      "157/157 [==============================] - 1s 6ms/step - loss: 4.2193 - accuracy: 0.1840 - val_loss: 7.8048 - val_accuracy: 0.1104\n",
      "Epoch 38/50\n",
      "157/157 [==============================] - 1s 6ms/step - loss: 4.2041 - accuracy: 0.1853 - val_loss: 7.8581 - val_accuracy: 0.1099\n",
      "Epoch 39/50\n",
      "157/157 [==============================] - 1s 6ms/step - loss: 4.1510 - accuracy: 0.1891 - val_loss: 7.9021 - val_accuracy: 0.1065\n",
      "Epoch 40/50\n",
      "157/157 [==============================] - 1s 6ms/step - loss: 4.1234 - accuracy: 0.1921 - val_loss: 7.9640 - val_accuracy: 0.1070\n",
      "Epoch 41/50\n",
      "157/157 [==============================] - 1s 6ms/step - loss: 4.1222 - accuracy: 0.1912 - val_loss: 8.0064 - val_accuracy: 0.1114\n",
      "Epoch 42/50\n",
      "157/157 [==============================] - 1s 7ms/step - loss: 4.0694 - accuracy: 0.1983 - val_loss: 8.0935 - val_accuracy: 0.1104\n",
      "Epoch 43/50\n",
      "157/157 [==============================] - 1s 7ms/step - loss: 4.0479 - accuracy: 0.1973 - val_loss: 8.1278 - val_accuracy: 0.1129\n",
      "Epoch 44/50\n",
      "157/157 [==============================] - 1s 6ms/step - loss: 4.0340 - accuracy: 0.1962 - val_loss: 8.1509 - val_accuracy: 0.1079\n",
      "Epoch 45/50\n",
      "157/157 [==============================] - 1s 6ms/step - loss: 4.0104 - accuracy: 0.1989 - val_loss: 8.1437 - val_accuracy: 0.1129\n",
      "Epoch 46/50\n",
      "157/157 [==============================] - 1s 6ms/step - loss: 3.9840 - accuracy: 0.1973 - val_loss: 8.2759 - val_accuracy: 0.1089\n",
      "Epoch 47/50\n",
      "157/157 [==============================] - 1s 6ms/step - loss: 3.9663 - accuracy: 0.2023 - val_loss: 8.3226 - val_accuracy: 0.1163\n",
      "Epoch 48/50\n",
      "157/157 [==============================] - 1s 6ms/step - loss: 3.9324 - accuracy: 0.2086 - val_loss: 8.4407 - val_accuracy: 0.1138\n",
      "Epoch 49/50\n",
      "157/157 [==============================] - 1s 7ms/step - loss: 3.9313 - accuracy: 0.2081 - val_loss: 8.4326 - val_accuracy: 0.1099\n",
      "Epoch 50/50\n",
      "157/157 [==============================] - 1s 7ms/step - loss: 3.8440 - accuracy: 0.2124 - val_loss: 8.5182 - val_accuracy: 0.1109\n",
      "CPU times: total: 1min 16s\n",
      "Wall time: 54.2 s\n"
     ]
    },
    {
     "data": {
      "image/png": "[encoded data removed]",
      "text/plain": [
       "<Figure size 1008x288 with 2 Axes>"
      ]
     },
     "metadata": {
      "needs_background": "light"
     },
     "output_type": "display_data"
    }
   ],
   "source": [
    "%%time\n",
    "model = fit_lyric_pred()"
   ]
  },
  {
   "cell_type": "code",
   "execution_count": 21,
   "id": "0443365a-8096-4fbc-9fec-2b78e7b33f88",
   "metadata": {},
   "outputs": [],
   "source": [
    "def next_n_words(model, seedtxt, n=1, top=1, tokenizer=tokenizer):\n",
    "    sqs = tokenizer.texts_to_sequences([seedtxt])\n",
    "    sqs = pad_sequences(sqs, padding='pre', maxlen=maxlen, truncating='pre')\n",
    "    words = []\n",
    "    for _ in range(n):\n",
    "        prob = model.predict(sqs, verbose=0)[0]\n",
    "        heap = utilities.Heap(enumerate(prob), get_value=lambda x: x[1])\n",
    "        k = np.random.choice(top) + 1\n",
    "        for _ in range(k):\n",
    "            item = heap.pop()\n",
    "        sqs[0] = *sqs[0, 1:], item[0]\n",
    "        words.append(tokenizer.index_word[item[0]])\n",
    "        \n",
    "    return words"
   ]
  },
  {
   "cell_type": "code",
   "execution_count": 43,
   "id": "25c015df-044c-47c9-a1b3-5128823b906a",
   "metadata": {},
   "outputs": [
    {
     "name": "stdout",
     "output_type": "stream",
     "text": [
      "town and and fast and the day they i love i all the old of the old woman did say the old of the banks of the green ones the green silver the blue banks town of the green ones the green day the green morning town of the old old sea fair morning town of and in the old on the green girl the sea the night of the sea is the world and the green we to the the green the sea fair of the crossroads i was in the pale broad woman above as i was in\n",
      "\n",
      "has in in my own native mother against the sinking o so i wind from here from someone my bride my bride gone my i love i i found to me my love and i said no more love love i love more someone gone i love an i had i i love easy my love you love more love so i sinking love my eyes twinkle my eyes i sinking mccarthy gone wind i love love my love a moonshiny stuff gone and i am goes from my smile from my bride my love so love my love you\n"
     ]
    }
   ],
   "source": [
    "seedtxt = 'help me obi-wan kinobi youre my only hope'\n",
    "words = next_n_words(model, seedtxt, n=100, top=1)\n",
    "print(' '.join(words))\n",
    "print('')\n",
    "print(' '.join(next_n_words(model2, seedtxt, n=100, top=3)))"
   ]
  },
  {
   "cell_type": "code",
   "execution_count": 44,
   "id": "f9dc4722-ea62-43ad-a27d-c6293786a91b",
   "metadata": {
    "scrolled": true,
    "tags": []
   },
   "outputs": [
    {
     "name": "stdout",
     "output_type": "stream",
     "text": [
      "Model: \"sequential_9\"\n",
      "_________________________________________________________________\n",
      " Layer (type)                Output Shape              Param #   \n",
      "=================================================================\n",
      " embedding_9 (Embedding)     (None, None, 100)         269000    \n",
      "                                                                 \n",
      " bidirectional_9 (Bidirectio  (None, 300)              301200    \n",
      " nal)                                                            \n",
      "                                                                 \n",
      " dropout_6 (Dropout)         (None, 300)               0         \n",
      "                                                                 \n",
      " dense_9 (Dense)             (None, 2690)              809690    \n",
      "                                                                 \n",
      "=================================================================\n",
      "Total params: 1,379,890\n",
      "Trainable params: 1,379,890\n",
      "Non-trainable params: 0\n",
      "_________________________________________________________________\n",
      "Epoch 1/50\n",
      "157/157 [==============================] - 3s 11ms/step - loss: 6.7141 - accuracy: 0.0665 - val_loss: 6.5193 - val_accuracy: 0.0721\n",
      "Epoch 2/50\n",
      "157/157 [==============================] - 1s 8ms/step - loss: 6.2056 - accuracy: 0.0871 - val_loss: 6.5507 - val_accuracy: 0.0844\n",
      "Epoch 3/50\n",
      "157/157 [==============================] - 1s 8ms/step - loss: 5.8430 - accuracy: 0.1123 - val_loss: 6.5734 - val_accuracy: 0.0927\n",
      "Epoch 4/50\n",
      "157/157 [==============================] - 1s 8ms/step - loss: 5.3950 - accuracy: 0.1456 - val_loss: 6.6257 - val_accuracy: 0.1124\n",
      "Epoch 5/50\n",
      "157/157 [==============================] - 1s 8ms/step - loss: 4.9879 - accuracy: 0.1722 - val_loss: 6.7618 - val_accuracy: 0.1153\n",
      "Epoch 6/50\n",
      "157/157 [==============================] - 1s 8ms/step - loss: 4.5430 - accuracy: 0.2056 - val_loss: 6.8230 - val_accuracy: 0.1153\n",
      "Epoch 7/50\n",
      "157/157 [==============================] - 1s 8ms/step - loss: 4.1749 - accuracy: 0.2366 - val_loss: 7.0199 - val_accuracy: 0.1246\n",
      "Epoch 8/50\n",
      "157/157 [==============================] - 1s 8ms/step - loss: 3.7964 - accuracy: 0.2760 - val_loss: 7.2721 - val_accuracy: 0.1276\n",
      "Epoch 9/50\n",
      "157/157 [==============================] - 1s 8ms/step - loss: 3.4886 - accuracy: 0.3081 - val_loss: 7.3298 - val_accuracy: 0.1315\n",
      "Epoch 10/50\n",
      "157/157 [==============================] - 1s 8ms/step - loss: 3.1872 - accuracy: 0.3415 - val_loss: 7.4986 - val_accuracy: 0.1325\n",
      "Epoch 11/50\n",
      "157/157 [==============================] - 1s 7ms/step - loss: 2.9878 - accuracy: 0.3756 - val_loss: 7.6689 - val_accuracy: 0.1359\n",
      "Epoch 12/50\n",
      "157/157 [==============================] - 1s 8ms/step - loss: 2.7858 - accuracy: 0.4007 - val_loss: 7.8272 - val_accuracy: 0.1266\n",
      "Epoch 13/50\n",
      "157/157 [==============================] - 1s 8ms/step - loss: 2.6027 - accuracy: 0.4304 - val_loss: 7.9403 - val_accuracy: 0.1359\n",
      "Epoch 14/50\n",
      "157/157 [==============================] - 1s 8ms/step - loss: 2.4857 - accuracy: 0.4473 - val_loss: 8.0768 - val_accuracy: 0.1354\n",
      "Epoch 15/50\n",
      "157/157 [==============================] - 1s 8ms/step - loss: 2.3464 - accuracy: 0.4768 - val_loss: 8.2996 - val_accuracy: 0.1374\n",
      "Epoch 16/50\n",
      "157/157 [==============================] - 1s 7ms/step - loss: 2.2677 - accuracy: 0.4797 - val_loss: 8.3845 - val_accuracy: 0.1281\n",
      "Epoch 17/50\n",
      "157/157 [==============================] - 1s 7ms/step - loss: 2.1412 - accuracy: 0.5016 - val_loss: 8.5552 - val_accuracy: 0.1295\n",
      "Epoch 18/50\n",
      "157/157 [==============================] - 1s 7ms/step - loss: 2.1325 - accuracy: 0.5057 - val_loss: 8.6147 - val_accuracy: 0.1310\n",
      "Epoch 19/50\n",
      "157/157 [==============================] - 1s 8ms/step - loss: 2.0604 - accuracy: 0.5176 - val_loss: 8.6891 - val_accuracy: 0.1335\n",
      "Epoch 20/50\n",
      "157/157 [==============================] - 1s 7ms/step - loss: 1.9791 - accuracy: 0.5284 - val_loss: 8.8659 - val_accuracy: 0.1340\n",
      "Epoch 21/50\n",
      "157/157 [==============================] - 1s 7ms/step - loss: 1.9325 - accuracy: 0.5409 - val_loss: 8.9502 - val_accuracy: 0.1384\n",
      "Epoch 22/50\n",
      "157/157 [==============================] - 1s 7ms/step - loss: 1.8616 - accuracy: 0.5537 - val_loss: 9.1061 - val_accuracy: 0.1335\n",
      "Epoch 23/50\n",
      "157/157 [==============================] - 1s 7ms/step - loss: 1.8267 - accuracy: 0.5581 - val_loss: 9.1915 - val_accuracy: 0.1369\n",
      "Epoch 24/50\n",
      "157/157 [==============================] - 1s 7ms/step - loss: 1.7962 - accuracy: 0.5658 - val_loss: 9.2914 - val_accuracy: 0.1364\n",
      "Epoch 25/50\n",
      "157/157 [==============================] - 1s 7ms/step - loss: 1.7485 - accuracy: 0.5688 - val_loss: 9.3125 - val_accuracy: 0.1325\n",
      "Epoch 26/50\n",
      "157/157 [==============================] - 1s 8ms/step - loss: 1.7301 - accuracy: 0.5753 - val_loss: 9.4208 - val_accuracy: 0.1364\n",
      "Epoch 27/50\n",
      "157/157 [==============================] - 1s 8ms/step - loss: 1.7046 - accuracy: 0.5845 - val_loss: 9.5509 - val_accuracy: 0.1349\n",
      "Epoch 28/50\n",
      "157/157 [==============================] - 1s 7ms/step - loss: 1.6452 - accuracy: 0.5911 - val_loss: 9.6892 - val_accuracy: 0.1340\n",
      "Epoch 29/50\n",
      "157/157 [==============================] - 1s 7ms/step - loss: 1.6183 - accuracy: 0.6053 - val_loss: 9.7277 - val_accuracy: 0.1354\n",
      "Epoch 30/50\n",
      "157/157 [==============================] - 1s 8ms/step - loss: 1.6848 - accuracy: 0.5861 - val_loss: 9.6782 - val_accuracy: 0.1315\n",
      "Epoch 31/50\n",
      "157/157 [==============================] - 1s 8ms/step - loss: 1.7239 - accuracy: 0.5724 - val_loss: 9.6912 - val_accuracy: 0.1398\n",
      "Epoch 32/50\n",
      "157/157 [==============================] - 1s 8ms/step - loss: 1.6727 - accuracy: 0.5833 - val_loss: 9.8646 - val_accuracy: 0.1286\n",
      "Epoch 33/50\n",
      "157/157 [==============================] - 1s 8ms/step - loss: 1.6018 - accuracy: 0.6008 - val_loss: 9.9828 - val_accuracy: 0.1359\n",
      "Epoch 34/50\n",
      "157/157 [==============================] - 1s 8ms/step - loss: 1.5752 - accuracy: 0.6054 - val_loss: 10.0131 - val_accuracy: 0.1281\n",
      "Epoch 35/50\n",
      "157/157 [==============================] - 1s 8ms/step - loss: 1.5751 - accuracy: 0.6095 - val_loss: 10.0908 - val_accuracy: 0.1349\n",
      "Epoch 36/50\n",
      "157/157 [==============================] - 1s 8ms/step - loss: 1.5317 - accuracy: 0.6146 - val_loss: 10.1587 - val_accuracy: 0.1251\n",
      "Epoch 37/50\n",
      "157/157 [==============================] - 1s 8ms/step - loss: 1.5764 - accuracy: 0.6045 - val_loss: 10.2928 - val_accuracy: 0.1290\n",
      "Epoch 38/50\n",
      "157/157 [==============================] - 1s 8ms/step - loss: 1.6016 - accuracy: 0.6018 - val_loss: 10.3679 - val_accuracy: 0.1300\n",
      "Epoch 39/50\n",
      "157/157 [==============================] - 1s 8ms/step - loss: 1.5990 - accuracy: 0.6031 - val_loss: 10.4851 - val_accuracy: 0.1335\n",
      "Epoch 40/50\n",
      "157/157 [==============================] - 1s 8ms/step - loss: 1.5880 - accuracy: 0.6027 - val_loss: 10.4385 - val_accuracy: 0.1398\n",
      "Epoch 41/50\n",
      "157/157 [==============================] - 1s 8ms/step - loss: 1.5814 - accuracy: 0.5990 - val_loss: 10.5564 - val_accuracy: 0.1394\n",
      "Epoch 42/50\n",
      "157/157 [==============================] - 1s 8ms/step - loss: 1.5469 - accuracy: 0.6125 - val_loss: 10.6894 - val_accuracy: 0.1344\n",
      "Epoch 43/50\n",
      "157/157 [==============================] - 1s 8ms/step - loss: 1.5594 - accuracy: 0.6097 - val_loss: 10.6745 - val_accuracy: 0.1344\n",
      "Epoch 44/50\n",
      "157/157 [==============================] - 1s 7ms/step - loss: 1.5132 - accuracy: 0.6190 - val_loss: 10.7554 - val_accuracy: 0.1320\n",
      "Epoch 45/50\n",
      "157/157 [==============================] - 1s 8ms/step - loss: 1.5255 - accuracy: 0.6169 - val_loss: 10.8231 - val_accuracy: 0.1349\n",
      "Epoch 46/50\n",
      "157/157 [==============================] - 1s 7ms/step - loss: 1.5577 - accuracy: 0.6068 - val_loss: 10.8621 - val_accuracy: 0.1344\n",
      "Epoch 47/50\n",
      "157/157 [==============================] - 1s 7ms/step - loss: 1.4989 - accuracy: 0.6211 - val_loss: 10.8496 - val_accuracy: 0.1394\n",
      "Epoch 48/50\n",
      "157/157 [==============================] - 1s 8ms/step - loss: 1.4728 - accuracy: 0.6261 - val_loss: 11.0481 - val_accuracy: 0.1413\n",
      "Epoch 49/50\n",
      "157/157 [==============================] - 1s 8ms/step - loss: 1.4965 - accuracy: 0.6194 - val_loss: 11.0960 - val_accuracy: 0.1374\n",
      "Epoch 50/50\n",
      "157/157 [==============================] - 1s 8ms/step - loss: 1.5218 - accuracy: 0.6191 - val_loss: 11.1220 - val_accuracy: 0.1394\n",
      "CPU times: total: 1min 19s\n",
      "Wall time: 1min 1s\n"
     ]
    },
    {
     "data": {
      "image/png": "[encoded data removed]",
      "text/plain": [
       "<Figure size 1008x288 with 2 Axes>"
      ]
     },
     "metadata": {
      "needs_background": "light"
     },
     "output_type": "display_data"
    }
   ],
   "source": [
    "%%time\n",
    "model2 = fit_lyric_pred(embed_d=100, hidden_d=150)"
   ]
  },
  {
   "cell_type": "code",
   "execution_count": 45,
   "id": "0f881e2f-30e5-400b-8ffc-a6421e449d0a",
   "metadata": {},
   "outputs": [
    {
     "name": "stdout",
     "output_type": "stream",
     "text": [
      "in the sea is the month of may wind gone love gone and love the love gone and love love gone and gone and right eyes and right sinking love gone right right in the town of right sinking love gone love gone and love the right love in love love gone and right eyes on sinking right gone and love gone and love gone and gone and right eyes and love right right in the right eyes and love right eyes on gone and love and gone and love gone love gone and right eyes on your eyes love\n",
      "\n",
      "in erin my dear little town they may steer eyes there wind right gone in here gone by the sinking funds when love gone gone gone and love love here in bowlin your eyes part eyes this love the right sinking both gone of love and gone in gone and love love here gone love love the right sinking funds now love right sinking right gone in right gone in this right eyes on gone by love here love sinking funds when gone gone and sinking funds love sinking love the love wind unseen wind nor rain gone and now\n"
     ]
    }
   ],
   "source": [
    "print(' '.join(next_n_words(model2, seedtxt, n=100, top=1)))\n",
    "print('')\n",
    "print(' '.join(next_n_words(model2, seedtxt, n=100, top=3)))"
   ]
  }
 ],
 "metadata": {
  "kernelspec": {
   "display_name": "Python 3 (ipykernel)",
   "language": "python",
   "name": "python3"
  },
  "language_info": {
   "codemirror_mode": {
    "name": "ipython",
    "version": 3
   },
   "file_extension": ".py",
   "mimetype": "text/x-python",
   "name": "python",
   "nbconvert_exporter": "python",
   "pygments_lexer": "ipython3",
   "version": "3.9.12"
  },
  "widgets": {
   "application/vnd.jupyter.widget-state+json": {
    "state": {},
    "version_major": 2,
    "version_minor": 0
   }
  }
 },
 "nbformat": 4,
 "nbformat_minor": 5
}
