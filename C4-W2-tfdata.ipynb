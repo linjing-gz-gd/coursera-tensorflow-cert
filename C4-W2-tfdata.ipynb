{
 "cells": [
  {
   "cell_type": "code",
   "execution_count": 1,
   "id": "ab5e0f2e-e96c-4ac3-a327-b93ad86167b0",
   "metadata": {},
   "outputs": [],
   "source": [
    "import tensorflow as tf"
   ]
  },
  {
   "cell_type": "code",
   "execution_count": 9,
   "id": "f9c7aff2-8b15-4a8e-a6cb-3dd0ed44224a",
   "metadata": {},
   "outputs": [
    {
     "name": "stdout",
     "output_type": "stream",
     "text": [
      "[0, 1, 2, 3, 4, 5, 6, 7, 8, 9]\n"
     ]
    },
    {
     "data": {
      "text/plain": [
       "tensorflow.python.data.ops.dataset_ops.RangeDataset"
      ]
     },
     "execution_count": 9,
     "metadata": {},
     "output_type": "execute_result"
    }
   ],
   "source": [
    "dataset = tf.data.Dataset.range(10)\n",
    "\n",
    "print([val.numpy() for val in dataset])\n",
    "type(dataset)"
   ]
  },
  {
   "cell_type": "code",
   "execution_count": 31,
   "id": "0930a66e-946b-4f1c-85e4-b46f010ec408",
   "metadata": {},
   "outputs": [
    {
     "name": "stdout",
     "output_type": "stream",
     "text": [
      "<class 'tensorflow.python.data.ops.dataset_ops.WindowDataset'>\n",
      "[0, 1, 2, 3, 4]\n",
      "[1, 2, 3, 4, 5]\n",
      "[2, 3, 4, 5, 6]\n",
      "[3, 4, 5, 6, 7]\n",
      "[4, 5, 6, 7, 8]\n",
      "[5, 6, 7, 8, 9]\n",
      "[6, 7, 8, 9]\n",
      "[7, 8, 9]\n",
      "[8, 9]\n",
      "[9]\n",
      "<class 'tensorflow.python.data.ops.dataset_ops._VariantDataset'>\n"
     ]
    }
   ],
   "source": [
    "dataset = tf.data.Dataset.range(10).window(size=5, shift=1)\n",
    "\n",
    "print(type(dataset))\n",
    "for pt in dataset:\n",
    "    print([x.numpy() for x in pt])\n",
    "print(type(pt))"
   ]
  },
  {
   "cell_type": "code",
   "execution_count": 32,
   "id": "0d12048d-b34a-470b-828a-96b9aca15ed2",
   "metadata": {},
   "outputs": [
    {
     "name": "stdout",
     "output_type": "stream",
     "text": [
      "<class 'tensorflow.python.data.ops.dataset_ops.WindowDataset'>\n",
      "[0, 1, 2, 3, 4]\n",
      "[1, 2, 3, 4, 5]\n",
      "[2, 3, 4, 5, 6]\n",
      "[3, 4, 5, 6, 7]\n",
      "[4, 5, 6, 7, 8]\n",
      "[5, 6, 7, 8, 9]\n",
      "<class 'tensorflow.python.data.ops.dataset_ops._VariantDataset'>\n"
     ]
    }
   ],
   "source": [
    "dataset = tf.data.Dataset.range(10).window(size=5, shift=1, drop_remainder=True)\n",
    "\n",
    "print(type(dataset))\n",
    "for pt in dataset:\n",
    "    print([x.numpy() for x in pt])\n",
    "print(type(pt))"
   ]
  },
  {
   "cell_type": "code",
   "execution_count": 8,
   "id": "c1103c74-1400-405f-9688-b942eaba19cb",
   "metadata": {},
   "outputs": [
    {
     "data": {
      "text/plain": [
       "tensorflow.python.data.ops.dataset_ops.WindowDataset"
      ]
     },
     "execution_count": 8,
     "metadata": {},
     "output_type": "execute_result"
    }
   ],
   "source": [
    "type(dataset)"
   ]
  },
  {
   "cell_type": "code",
   "execution_count": 29,
   "id": "d64bda8b-21ac-4f67-b93e-748b9ab40e39",
   "metadata": {},
   "outputs": [
    {
     "name": "stdout",
     "output_type": "stream",
     "text": [
      "<class 'tensorflow.python.data.ops.dataset_ops.FlatMapDataset'>\n",
      "[0 1 2 3 4]\n",
      "[1 2 3 4 5]\n",
      "[2 3 4 5 6]\n",
      "[3 4 5 6 7]\n",
      "[4 5 6 7 8]\n",
      "[5 6 7 8 9]\n",
      "<class 'tensorflow.python.framework.ops.EagerTensor'>\n"
     ]
    }
   ],
   "source": [
    "dataset = tf.data.Dataset.range(10).window(size=5, shift=1, drop_remainder=True)\n",
    "dataset = dataset.flat_map(lambda w: w.batch(5))\n",
    "\n",
    "print(type(dataset))\n",
    "for pt in dataset:\n",
    "    print(pt.numpy())\n",
    "print(type(pt))"
   ]
  },
  {
   "cell_type": "code",
   "execution_count": 37,
   "id": "d3024791-e401-483f-8e1b-90c07ec7a25c",
   "metadata": {},
   "outputs": [
    {
     "name": "stdout",
     "output_type": "stream",
     "text": [
      "<class 'tensorflow.python.data.ops.dataset_ops.MapDataset'>\n",
      "x=[0 1 2 3], y=4\n",
      "x=[1 2 3 4], y=5\n",
      "x=[2 3 4 5], y=6\n",
      "x=[3 4 5 6], y=7\n",
      "x=[4 5 6 7], y=8\n",
      "x=[5 6 7 8], y=9\n",
      "<class 'tensorflow.python.framework.ops.EagerTensor'>\n",
      "<class 'tensorflow.python.framework.ops.EagerTensor'>\n"
     ]
    }
   ],
   "source": [
    "dataset = tf.data.Dataset.range(10).window(size=5, shift=1, drop_remainder=True)\n",
    "dataset = dataset.flat_map(lambda w: w.batch(5))\n",
    "dataset = dataset.map(lambda w: (w[:-1], w[-1]))\n",
    "\n",
    "print(type(dataset))\n",
    "for x, y in dataset:\n",
    "    print(f'x={x.numpy()}, y={y.numpy()}')\n",
    "print(type(x))\n",
    "print(type(y))"
   ]
  },
  {
   "cell_type": "code",
   "execution_count": 38,
   "id": "64214d3b-48bf-4c65-810e-00a037680f06",
   "metadata": {},
   "outputs": [
    {
     "name": "stdout",
     "output_type": "stream",
     "text": [
      "<class 'tensorflow.python.data.ops.dataset_ops.ShuffleDataset'>\n",
      "x=[5 6 7 8], y=9\n",
      "x=[0 1 2 3], y=4\n",
      "x=[1 2 3 4], y=5\n",
      "x=[4 5 6 7], y=8\n",
      "x=[2 3 4 5], y=6\n",
      "x=[3 4 5 6], y=7\n"
     ]
    }
   ],
   "source": [
    "dataset = dataset.shuffle(buffer_size=10)\n",
    "\n",
    "print(type(dataset))\n",
    "for x, y in dataset:\n",
    "    print(f'x={x.numpy()}, y={y.numpy()}')"
   ]
  },
  {
   "cell_type": "code",
   "execution_count": 39,
   "id": "c445318f-9c88-4cde-ada0-b43c39ab34ef",
   "metadata": {},
   "outputs": [
    {
     "name": "stdout",
     "output_type": "stream",
     "text": [
      "<class 'tensorflow.python.data.ops.dataset_ops.PrefetchDataset'>\n",
      "x=[[3 4 5 6]\n",
      " [1 2 3 4]], y=[7 5]\n",
      "x=[[0 1 2 3]\n",
      " [4 5 6 7]], y=[4 8]\n",
      "x=[[2 3 4 5]\n",
      " [5 6 7 8]], y=[6 9]\n"
     ]
    }
   ],
   "source": [
    "dataset = dataset.batch(2).prefetch(1)\n",
    "\n",
    "print(type(dataset))\n",
    "for x, y in dataset:\n",
    "    print(f'x={x.numpy()}, y={y.numpy()}')"
   ]
  }
 ],
 "metadata": {
  "kernelspec": {
   "display_name": "Python 3 (ipykernel)",
   "language": "python",
   "name": "python3"
  },
  "language_info": {
   "codemirror_mode": {
    "name": "ipython",
    "version": 3
   },
   "file_extension": ".py",
   "mimetype": "text/x-python",
   "name": "python",
   "nbconvert_exporter": "python",
   "pygments_lexer": "ipython3",
   "version": "3.9.12"
  },
  "widgets": {
   "application/vnd.jupyter.widget-state+json": {
    "state": {},
    "version_major": 2,
    "version_minor": 0
   }
  }
 },
 "nbformat": 4,
 "nbformat_minor": 5
}
