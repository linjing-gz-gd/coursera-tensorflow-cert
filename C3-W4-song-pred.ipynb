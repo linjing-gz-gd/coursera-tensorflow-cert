{
 "cells": [
  {
   "cell_type": "code",
   "execution_count": 1,
   "id": "fdf7a1c9-652a-46db-8f82-f863dddbf305",
   "metadata": {},
   "outputs": [],
   "source": [
    "import numpy as np\n",
    "import matplotlib.pyplot as plt\n",
    "\n",
    "import tensorflow as tf\n",
    "from tensorflow import keras\n",
    "\n",
    "from tensorflow.keras.preprocessing.text import Tokenizer\n",
    "from tensorflow.keras.preprocessing.sequence import pad_sequences\n",
    "\n",
    "import utilities"
   ]
  },
  {
   "cell_type": "code",
   "execution_count": 4,
   "id": "88658b91-396f-4d76-b704-973611513f1d",
   "metadata": {},
   "outputs": [],
   "source": [
    "data = '''In the town of Athy one Jeremy Lanigan\n",
    "Battered away til he hadnt a pound.\n",
    "His father died and made him a man again\n",
    "Left him a farm and ten acres of ground.\n",
    "He gave a grand party for friends and relations\n",
    "Who didnt forget him when come to the wall,\n",
    "And if youll but listen Ill make your eyes glisten\n",
    "Of the rows and the ructions of Lanigans Ball.\n",
    "Myself to be sure got free invitation,\n",
    "For all the nice girls and boys I might ask,\n",
    "And just in a minute both friends and relations\n",
    "Were dancing round merry as bees round a cask.\n",
    "Judy ODaly, that nice little milliner,\n",
    "She tipped me a wink for to give her a call,\n",
    "And I soon arrived with Peggy McGilligan\n",
    "Just in time for Lanigans Ball.\n",
    "There were lashings of punch and wine for the ladies,\n",
    "Potatoes and cakes; there was bacon and tea,\n",
    "There were the Nolans, Dolans, OGradys\n",
    "Courting the girls and dancing away.\n",
    "Songs they went round as plenty as water,\n",
    "The harp that once sounded in Taras old hall,\n",
    "Sweet Nelly Gray and The Rat Catchers Daughter,\n",
    "All singing together at Lanigans Ball.\n",
    "They were doing all kinds of nonsensical polkas\n",
    "All round the room in a whirligig.\n",
    "Julia and I, we banished their nonsense\n",
    "And tipped them the twist of a reel and a jig.\n",
    "Ach mavrone, how the girls got all mad at me\n",
    "Danced til youd think the ceiling would fall.\n",
    "For I spent three weeks at Brooks Academy\n",
    "Learning new steps for Lanigans Ball.\n",
    "Three long weeks I spent up in Dublin,\n",
    "Three long weeks to learn nothing at all,\n",
    "Three long weeks I spent up in Dublin,\n",
    "Learning new steps for Lanigans Ball.\n",
    "She stepped out and I stepped in again,\n",
    "I stepped out and she stepped in again,\n",
    "She stepped out and I stepped in again,\n",
    "Learning new steps for Lanigans Ball.\n",
    "Boys were all merry and the girls they were hearty\n",
    "And danced all around in couples and groups,\n",
    "Til an accident happened, young Terrance McCarthy\n",
    "Put his right leg through miss Finnertys hoops.\n",
    "Poor creature fainted and cried Meelia murther,\n",
    "Called for her brothers and gathered them all.\n",
    "Carmody swore that hed go no further\n",
    "Til he had satisfaction at Lanigans Ball.\n",
    "In the midst of the row miss Kerrigan fainted,\n",
    "Her cheeks at the same time as red as a rose.\n",
    "Some of the lads declared she was painted,\n",
    "She took a small drop too much, I suppose.\n",
    "Her sweetheart, Ned Morgan, so powerful and able,\n",
    "When he saw his fair colleen stretched out by the wall,\n",
    "Tore the left leg from under the table\n",
    "And smashed all the Chaneys at Lanigans Ball.\n",
    "Boys, oh boys, twas then there were runctions.\n",
    "Myself got a lick from big Phelim McHugh.\n",
    "I soon replied to his introduction\n",
    "And kicked up a terrible hullabaloo.\n",
    "Old Casey, the piper, was near being strangled.\n",
    "They squeezed up his pipes, bellows, chanters and all.\n",
    "The girls, in their ribbons, they got all entangled\n",
    "And that put an end to Lanigans Ball.'''"
   ]
  },
  {
   "cell_type": "code",
   "execution_count": 5,
   "id": "8c66b5e9-3101-43eb-a6e8-7c1dbc877419",
   "metadata": {},
   "outputs": [
    {
     "data": {
      "text/plain": [
       "64"
      ]
     },
     "execution_count": 5,
     "metadata": {},
     "output_type": "execute_result"
    }
   ],
   "source": [
    "corpus = data.lower().split('\\n')\n",
    "len(corpus)"
   ]
  },
  {
   "cell_type": "code",
   "execution_count": 6,
   "id": "822367c4-9c5e-47f7-a856-c0bb75d9c2f3",
   "metadata": {},
   "outputs": [
    {
     "name": "stdout",
     "output_type": "stream",
     "text": [
      "total number of words: 263\n"
     ]
    }
   ],
   "source": [
    "tokenizer = Tokenizer()\n",
    "tokenizer.fit_on_texts(corpus)\n",
    "\n",
    "vocab_size = len(tokenizer.word_index) + 1\n",
    "print('total number of words:', vocab_size)"
   ]
  },
  {
   "cell_type": "code",
   "execution_count": 19,
   "id": "d51ae887-b226-495f-aae3-be8a3105f7b0",
   "metadata": {},
   "outputs": [
    {
     "name": "stdout",
     "output_type": "stream",
     "text": [
      "(453, 11)\n"
     ]
    }
   ],
   "source": [
    "seqs = tokenizer.texts_to_sequences(corpus)\n",
    "maxlen = max(len(sq) for sq in seqs)\n",
    "\n",
    "padseqs = []\n",
    "for sq in seqs:\n",
    "    subs = [sq[:end+1] for end in range(1, len(sq))]\n",
    "    padseqs.extend(pad_sequences(subs, padding='pre', maxlen=maxlen))\n",
    "    \n",
    "padseqs = np.array(padseqs)\n",
    "print(padseqs.shape)"
   ]
  },
  {
   "cell_type": "code",
   "execution_count": 29,
   "id": "5b84422d-30ef-406a-aa99-b0d71149a955",
   "metadata": {},
   "outputs": [],
   "source": [
    "trn_sq, trn_lb = padseqs[:, :-1], padseqs[:, -1]\n",
    "trn_lb = keras.utils.to_categorical(trn_lb, num_classes=vocab_size)"
   ]
  }
 ],
 "metadata": {
  "kernelspec": {
   "display_name": "Python 3 (ipykernel)",
   "language": "python",
   "name": "python3"
  },
  "language_info": {
   "codemirror_mode": {
    "name": "ipython",
    "version": 3
   },
   "file_extension": ".py",
   "mimetype": "text/x-python",
   "name": "python",
   "nbconvert_exporter": "python",
   "pygments_lexer": "ipython3",
   "version": "3.9.12"
  },
  "widgets": {
   "application/vnd.jupyter.widget-state+json": {
    "state": {},
    "version_major": 2,
    "version_minor": 0
   }
  }
 },
 "nbformat": 4,
 "nbformat_minor": 5
}
