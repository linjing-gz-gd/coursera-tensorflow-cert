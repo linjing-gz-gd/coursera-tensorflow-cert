{
 "cells": [
  {
   "cell_type": "code",
   "execution_count": 4,
   "id": "c17f665b-6b3f-46cb-ad13-b3af8261438d",
   "metadata": {},
   "outputs": [],
   "source": [
    "import numpy as np\n",
    "import matplotlib.pyplot as plt\n",
    "\n",
    "import tensorflow as tf\n",
    "from tensorflow import keras\n",
    "import tensorflow_datasets as tfds\n",
    "\n",
    "from tensorflow.keras.preprocessing.text import Tokenizer\n",
    "from tensorflow.keras.preprocessing.sequence import pad_sequences\n",
    "\n",
    "import os\n",
    "\n",
    "import utilities"
   ]
  },
  {
   "cell_type": "code",
   "execution_count": 5,
   "id": "a56be211-23da-4443-ae3d-81fc02b9f169",
   "metadata": {},
   "outputs": [
    {
     "name": "stdout",
     "output_type": "stream",
     "text": [
      "\u001b[1mDownloading and preparing dataset Unknown size (download: Unknown size, generated: Unknown size, total: Unknown size) to ~\\tensorflow_datasets\\imdb_reviews\\plain_text\\1.0.0...\u001b[0m\n"
     ]
    },
    {
     "data": {
      "application/vnd.jupyter.widget-view+json": {
       "model_id": "a7d6a0ca6b2a4321a2df390e97669150",
       "version_major": 2,
       "version_minor": 0
      },
      "text/plain": [
       "Dl Completed...: 0 url [00:00, ? url/s]"
      ]
     },
     "metadata": {},
     "output_type": "display_data"
    },
    {
     "data": {
      "application/vnd.jupyter.widget-view+json": {
       "model_id": "6a3b6a085c1f4f11b696d52048170f3b",
       "version_major": 2,
       "version_minor": 0
      },
      "text/plain": [
       "Dl Size...: 0 MiB [00:00, ? MiB/s]"
      ]
     },
     "metadata": {},
     "output_type": "display_data"
    },
    {
     "data": {
      "application/vnd.jupyter.widget-view+json": {
       "model_id": "",
       "version_major": 2,
       "version_minor": 0
      },
      "text/plain": [
       "Generating splits...:   0%|          | 0/3 [00:00<?, ? splits/s]"
      ]
     },
     "metadata": {},
     "output_type": "display_data"
    },
    {
     "data": {
      "application/vnd.jupyter.widget-view+json": {
       "model_id": "",
       "version_major": 2,
       "version_minor": 0
      },
      "text/plain": [
       "Generating train examples...: 0 examples [00:00, ? examples/s]"
      ]
     },
     "metadata": {},
     "output_type": "display_data"
    },
    {
     "data": {
      "application/vnd.jupyter.widget-view+json": {
       "model_id": "",
       "version_major": 2,
       "version_minor": 0
      },
      "text/plain": [
       "Shuffling ~\\tensorflow_datasets\\imdb_reviews\\plain_text\\1.0.0.incompleteWQEI89\\imdb_reviews-train.tfrecord*...…"
      ]
     },
     "metadata": {},
     "output_type": "display_data"
    },
    {
     "data": {
      "application/vnd.jupyter.widget-view+json": {
       "model_id": "",
       "version_major": 2,
       "version_minor": 0
      },
      "text/plain": [
       "Generating test examples...: 0 examples [00:00, ? examples/s]"
      ]
     },
     "metadata": {},
     "output_type": "display_data"
    },
    {
     "data": {
      "application/vnd.jupyter.widget-view+json": {
       "model_id": "",
       "version_major": 2,
       "version_minor": 0
      },
      "text/plain": [
       "Shuffling ~\\tensorflow_datasets\\imdb_reviews\\plain_text\\1.0.0.incompleteWQEI89\\imdb_reviews-test.tfrecord*...:…"
      ]
     },
     "metadata": {},
     "output_type": "display_data"
    },
    {
     "data": {
      "application/vnd.jupyter.widget-view+json": {
       "model_id": "",
       "version_major": 2,
       "version_minor": 0
      },
      "text/plain": [
       "Generating unsupervised examples...: 0 examples [00:00, ? examples/s]"
      ]
     },
     "metadata": {},
     "output_type": "display_data"
    },
    {
     "data": {
      "application/vnd.jupyter.widget-view+json": {
       "model_id": "",
       "version_major": 2,
       "version_minor": 0
      },
      "text/plain": [
       "Shuffling ~\\tensorflow_datasets\\imdb_reviews\\plain_text\\1.0.0.incompleteWQEI89\\imdb_reviews-unsupervised.tfrec…"
      ]
     },
     "metadata": {},
     "output_type": "display_data"
    },
    {
     "name": "stdout",
     "output_type": "stream",
     "text": [
      "\u001b[1mDataset imdb_reviews downloaded and prepared to ~\\tensorflow_datasets\\imdb_reviews\\plain_text\\1.0.0. Subsequent calls will reuse this data.\u001b[0m\n"
     ]
    }
   ],
   "source": [
    "imdb, info = tfds.load('imdb_reviews', with_info=True, as_supervised=True)"
   ]
  },
  {
   "cell_type": "code",
   "execution_count": 12,
   "id": "62e293b8-320f-4aca-992f-0ecd2b9296b8",
   "metadata": {},
   "outputs": [],
   "source": [
    "trn_txt, trn_lb = [], []\n",
    "for x, lb in imdb['train']:\n",
    "    trn_txt.append(x.numpy().decode('utf-8'))\n",
    "    trn_lb.append(lb.numpy())\n",
    "    \n",
    "val_txt, val_lb = [], []\n",
    "for x, lb in imdb['test']:\n",
    "    val_txt.append(x.numpy().decode('utf-8'))\n",
    "    val_lb.append(lb.numpy())\n",
    "    \n",
    "trn_lb = np.array(trn_lb)\n",
    "val_lb = np.array(val_lb)"
   ]
  },
  {
   "cell_type": "code",
   "execution_count": null,
   "id": "78cef4d6-8c05-413b-9427-03263658e5a7",
   "metadata": {},
   "outputs": [],
   "source": [
    "def fit_imdb(vocab_size=10000, embed_d=16, maxlen=120)\n",
    "    tokenizer = Tokenizer(num_words=vocab_size)\n",
    "    tokenizer.fit_on_texts(trn_txt, oov_token='<OOV>')\n",
    "    \n",
    "    trn_seq = tokenizer.text_to_sequence(trn_txt)\n",
    "    val_seq = tokenizer.text_to_sequence(val_txt)"
   ]
  }
 ],
 "metadata": {
  "kernelspec": {
   "display_name": "Python 3 (ipykernel)",
   "language": "python",
   "name": "python3"
  },
  "language_info": {
   "codemirror_mode": {
    "name": "ipython",
    "version": 3
   },
   "file_extension": ".py",
   "mimetype": "text/x-python",
   "name": "python",
   "nbconvert_exporter": "python",
   "pygments_lexer": "ipython3",
   "version": "3.9.12"
  },
  "widgets": {
   "application/vnd.jupyter.widget-state+json": {
    "state": {
     "01d2644ed9a84210a476745364da338b": {
      "model_module": "@jupyter-widgets/controls",
      "model_module_version": "1.5.0",
      "model_name": "DescriptionStyleModel",
      "state": {
       "description_width": ""
      }
     },
     "07803c5c89274813988b1dabbb0a1033": {
      "model_module": "@jupyter-widgets/controls",
      "model_module_version": "1.5.0",
      "model_name": "HTMLModel",
      "state": {
       "layout": "IPY_MODEL_8fda9823018f4b1fb3c4b86c47ec669a",
       "style": "IPY_MODEL_bedec98086e24545a60d59f252793337",
       "value": "Dl Size...: 100%"
      }
     },
     "09e9a4a871d145759158a036a11a4122": {
      "model_module": "@jupyter-widgets/controls",
      "model_module_version": "1.5.0",
      "model_name": "FloatProgressModel",
      "state": {
       "layout": "IPY_MODEL_ed65c78ce9f24b8d9b95417893e0cafb",
       "max": 25000,
       "style": "IPY_MODEL_b6e1c056dd8a4c5d95d3b3698cfe015b",
       "value": 25000
      }
     },
     "0c17dc7ca6e54de4a1a694ade1252768": {
      "model_module": "@jupyter-widgets/controls",
      "model_module_version": "1.5.0",
      "model_name": "DescriptionStyleModel",
      "state": {
       "description_width": ""
      }
     },
     "1039b80dea26437296ba7964597b2927": {
      "model_module": "@jupyter-widgets/base",
      "model_module_version": "1.2.0",
      "model_name": "LayoutModel",
      "state": {}
     },
     "1ff6f83eeb194975a4749904d4db196e": {
      "model_module": "@jupyter-widgets/controls",
      "model_module_version": "1.5.0",
      "model_name": "HTMLModel",
      "state": {
       "layout": "IPY_MODEL_e4deef47acce4d04b1ed8a48758a504e",
       "style": "IPY_MODEL_41b3e442868c44e580be45d0c4929d76",
       "value": " 20922/25000 [00:00&lt;00:00, 108065.24 examples/s]"
      }
     },
     "2672b7a67a2e467ca6bbe7fcb1034454": {
      "model_module": "@jupyter-widgets/controls",
      "model_module_version": "1.5.0",
      "model_name": "HTMLModel",
      "state": {
       "layout": "IPY_MODEL_e05b0ce53eca4301945b90d80ee4e1ed",
       "style": "IPY_MODEL_d29e8ed78b934e9bb85f259df6177c5f",
       "value": " 80/80 [03:52&lt;00:00,  2.67s/ MiB]"
      }
     },
     "2c11e650402c418c8947ad90f0820ace": {
      "model_module": "@jupyter-widgets/base",
      "model_module_version": "1.2.0",
      "model_name": "LayoutModel",
      "state": {}
     },
     "2f336e6be7cd47b0991766c8eeb3cd67": {
      "model_module": "@jupyter-widgets/base",
      "model_module_version": "1.2.0",
      "model_name": "LayoutModel",
      "state": {}
     },
     "2ff5ebb2750345808cd5ead4e0a4488a": {
      "model_module": "@jupyter-widgets/base",
      "model_module_version": "1.2.0",
      "model_name": "LayoutModel",
      "state": {}
     },
     "305ec879d0ae4fe7be7b9b554a20a84c": {
      "model_module": "@jupyter-widgets/base",
      "model_module_version": "1.2.0",
      "model_name": "LayoutModel",
      "state": {}
     },
     "306e65b5b130479fbad6bdca801364e7": {
      "model_module": "@jupyter-widgets/base",
      "model_module_version": "1.2.0",
      "model_name": "LayoutModel",
      "state": {}
     },
     "353e7f2a788e4985bf735239637aaa19": {
      "model_module": "@jupyter-widgets/controls",
      "model_module_version": "1.5.0",
      "model_name": "ProgressStyleModel",
      "state": {
       "description_width": ""
      }
     },
     "365f81e8267743d0b96c74dd673e5d2c": {
      "model_module": "@jupyter-widgets/controls",
      "model_module_version": "1.5.0",
      "model_name": "FloatProgressModel",
      "state": {
       "layout": "IPY_MODEL_c606b44598a64514a8cbecf69e7f4b30",
       "max": 50000,
       "style": "IPY_MODEL_5f3e64f8479043ab933e5593220d7e8d",
       "value": 50000
      }
     },
     "39470684dac246ef85efe1300d6242eb": {
      "model_module": "@jupyter-widgets/base",
      "model_module_version": "1.2.0",
      "model_name": "LayoutModel",
      "state": {}
     },
     "3caa80f31a014f6ea55dacf42cc5a1ee": {
      "model_module": "@jupyter-widgets/base",
      "model_module_version": "1.2.0",
      "model_name": "LayoutModel",
      "state": {}
     },
     "3dbb292d893f429882453e74c7dcd8a3": {
      "model_module": "@jupyter-widgets/base",
      "model_module_version": "1.2.0",
      "model_name": "LayoutModel",
      "state": {}
     },
     "3ff7f167b27e4525b7a90eca8c7dbaa9": {
      "model_module": "@jupyter-widgets/base",
      "model_module_version": "1.2.0",
      "model_name": "LayoutModel",
      "state": {}
     },
     "41b3e442868c44e580be45d0c4929d76": {
      "model_module": "@jupyter-widgets/controls",
      "model_module_version": "1.5.0",
      "model_name": "DescriptionStyleModel",
      "state": {
       "description_width": ""
      }
     },
     "4621747656f3404fbeade52facf63b58": {
      "model_module": "@jupyter-widgets/controls",
      "model_module_version": "1.5.0",
      "model_name": "FloatProgressModel",
      "state": {
       "bar_style": "info",
       "layout": "IPY_MODEL_7f2533aeccdb4a72bc3d5c8740dbbe9d",
       "max": 1,
       "style": "IPY_MODEL_900cf069541a448b9c303351a297e9a1",
       "value": 1
      }
     },
     "490dde376f904a0788a4a33a758fecf0": {
      "model_module": "@jupyter-widgets/base",
      "model_module_version": "1.2.0",
      "model_name": "LayoutModel",
      "state": {}
     },
     "4bfb04c64e874c80979dbfd6c6f6f287": {
      "model_module": "@jupyter-widgets/controls",
      "model_module_version": "1.5.0",
      "model_name": "DescriptionStyleModel",
      "state": {
       "description_width": ""
      }
     },
     "4c8cb781cbf248fd8eeb0e7868187dfa": {
      "model_module": "@jupyter-widgets/controls",
      "model_module_version": "1.5.0",
      "model_name": "DescriptionStyleModel",
      "state": {
       "description_width": ""
      }
     },
     "51edcc47b5aa48a3aea06584c4a3f344": {
      "model_module": "@jupyter-widgets/controls",
      "model_module_version": "1.5.0",
      "model_name": "FloatProgressModel",
      "state": {
       "layout": "IPY_MODEL_9999bf9642d141a2abf1b339af1bf686",
       "max": 25000,
       "style": "IPY_MODEL_353e7f2a788e4985bf735239637aaa19",
       "value": 25000
      }
     },
     "5279f174095340d68a33c538b03d190c": {
      "model_module": "@jupyter-widgets/controls",
      "model_module_version": "1.5.0",
      "model_name": "HTMLModel",
      "state": {
       "layout": "IPY_MODEL_c66243b61c36438da695bc0460dbf064",
       "style": "IPY_MODEL_888160c57709403288ec90d5834cb751",
       "value": "Generating unsupervised examples...: "
      }
     },
     "5bf03cb0c26742cc80e4637f8d5984da": {
      "model_module": "@jupyter-widgets/controls",
      "model_module_version": "1.5.0",
      "model_name": "FloatProgressModel",
      "state": {
       "bar_style": "info",
       "layout": "IPY_MODEL_ce1bc717653449bba444eaca2be5de1f",
       "max": 1,
       "style": "IPY_MODEL_64f5653817d641cda9a58c6593252e21",
       "value": 1
      }
     },
     "5f2c0f64ad7f4d308b24973ecc8d1c54": {
      "model_module": "@jupyter-widgets/base",
      "model_module_version": "1.2.0",
      "model_name": "LayoutModel",
      "state": {}
     },
     "5f3e64f8479043ab933e5593220d7e8d": {
      "model_module": "@jupyter-widgets/controls",
      "model_module_version": "1.5.0",
      "model_name": "ProgressStyleModel",
      "state": {
       "description_width": ""
      }
     },
     "64f5653817d641cda9a58c6593252e21": {
      "model_module": "@jupyter-widgets/controls",
      "model_module_version": "1.5.0",
      "model_name": "ProgressStyleModel",
      "state": {
       "description_width": ""
      }
     },
     "6a3b6a085c1f4f11b696d52048170f3b": {
      "model_module": "@jupyter-widgets/controls",
      "model_module_version": "1.5.0",
      "model_name": "HBoxModel",
      "state": {
       "children": [
        "IPY_MODEL_07803c5c89274813988b1dabbb0a1033",
        "IPY_MODEL_e421ab7845e54cb9b54877063797b882",
        "IPY_MODEL_2672b7a67a2e467ca6bbe7fcb1034454"
       ],
       "layout": "IPY_MODEL_e1de4d5936a346c294ab9220fb817b95"
      }
     },
     "6a455bcf557847839904e558131c2a42": {
      "model_module": "@jupyter-widgets/base",
      "model_module_version": "1.2.0",
      "model_name": "LayoutModel",
      "state": {}
     },
     "6ada22aa772e425c9a5e593ba284e4fa": {
      "model_module": "@jupyter-widgets/controls",
      "model_module_version": "1.5.0",
      "model_name": "DescriptionStyleModel",
      "state": {
       "description_width": ""
      }
     },
     "791e3c3e42624d05bb210bedae982716": {
      "model_module": "@jupyter-widgets/controls",
      "model_module_version": "1.5.0",
      "model_name": "HTMLModel",
      "state": {
       "layout": "IPY_MODEL_306e65b5b130479fbad6bdca801364e7",
       "style": "IPY_MODEL_0c17dc7ca6e54de4a1a694ade1252768",
       "value": "Generating test examples...: "
      }
     },
     "7d7efac4579b40bd8d3f1fcb78cfbcb7": {
      "model_module": "@jupyter-widgets/controls",
      "model_module_version": "1.5.0",
      "model_name": "HTMLModel",
      "state": {
       "layout": "IPY_MODEL_305ec879d0ae4fe7be7b9b554a20a84c",
       "style": "IPY_MODEL_c44f8e9f549c479c88039217288e525b",
       "value": " 1/1 [03:52&lt;00:00, 232.61s/ url]"
      }
     },
     "7f2533aeccdb4a72bc3d5c8740dbbe9d": {
      "model_module": "@jupyter-widgets/base",
      "model_module_version": "1.2.0",
      "model_name": "LayoutModel",
      "state": {
       "width": "20px"
      }
     },
     "82886c532c86458f9cbd55f1a227edff": {
      "model_module": "@jupyter-widgets/base",
      "model_module_version": "1.2.0",
      "model_name": "LayoutModel",
      "state": {
       "width": "20px"
      }
     },
     "84c0dbc32d8b47fda519645d3cfbef09": {
      "model_module": "@jupyter-widgets/base",
      "model_module_version": "1.2.0",
      "model_name": "LayoutModel",
      "state": {}
     },
     "888160c57709403288ec90d5834cb751": {
      "model_module": "@jupyter-widgets/controls",
      "model_module_version": "1.5.0",
      "model_name": "DescriptionStyleModel",
      "state": {
       "description_width": ""
      }
     },
     "896614c876cd4a46a24b3da3fcc6eee7": {
      "model_module": "@jupyter-widgets/controls",
      "model_module_version": "1.5.0",
      "model_name": "FloatProgressModel",
      "state": {
       "bar_style": "info",
       "layout": "IPY_MODEL_e45b3a0431714ad5bace84f242739de4",
       "max": 1,
       "style": "IPY_MODEL_dfdb99305f42434aaf61c07e1ac352ef",
       "value": 1
      }
     },
     "8a637d113f38457e91e905349006f80c": {
      "model_module": "@jupyter-widgets/base",
      "model_module_version": "1.2.0",
      "model_name": "LayoutModel",
      "state": {}
     },
     "8fda9823018f4b1fb3c4b86c47ec669a": {
      "model_module": "@jupyter-widgets/base",
      "model_module_version": "1.2.0",
      "model_name": "LayoutModel",
      "state": {}
     },
     "900cf069541a448b9c303351a297e9a1": {
      "model_module": "@jupyter-widgets/controls",
      "model_module_version": "1.5.0",
      "model_name": "ProgressStyleModel",
      "state": {
       "description_width": ""
      }
     },
     "9036ee377f404ab0b86f6a2a14d5eca5": {
      "model_module": "@jupyter-widgets/controls",
      "model_module_version": "1.5.0",
      "model_name": "HTMLModel",
      "state": {
       "layout": "IPY_MODEL_39470684dac246ef85efe1300d6242eb",
       "style": "IPY_MODEL_4bfb04c64e874c80979dbfd6c6f6f287",
       "value": " 49693/? [00:10&lt;00:00, 5430.49 examples/s]"
      }
     },
     "92cd6dced63c49cfb1f71aa1539e564e": {
      "model_module": "@jupyter-widgets/base",
      "model_module_version": "1.2.0",
      "model_name": "LayoutModel",
      "state": {}
     },
     "993cedabb04c427ca7da08a2437c11b8": {
      "model_module": "@jupyter-widgets/base",
      "model_module_version": "1.2.0",
      "model_name": "LayoutModel",
      "state": {}
     },
     "9999bf9642d141a2abf1b339af1bf686": {
      "model_module": "@jupyter-widgets/base",
      "model_module_version": "1.2.0",
      "model_name": "LayoutModel",
      "state": {}
     },
     "9acec847cee6411084ecc000a6d8c333": {
      "model_module": "@jupyter-widgets/base",
      "model_module_version": "1.2.0",
      "model_name": "LayoutModel",
      "state": {}
     },
     "9b0ee1b855af41feb0409bd06cfa9d7a": {
      "model_module": "@jupyter-widgets/controls",
      "model_module_version": "1.5.0",
      "model_name": "DescriptionStyleModel",
      "state": {
       "description_width": ""
      }
     },
     "a0946d2356a3459a87fc0778c1c29260": {
      "model_module": "@jupyter-widgets/controls",
      "model_module_version": "1.5.0",
      "model_name": "ProgressStyleModel",
      "state": {
       "description_width": ""
      }
     },
     "a48f2d109cf24c06bec0a7b1f0107d6e": {
      "model_module": "@jupyter-widgets/controls",
      "model_module_version": "1.5.0",
      "model_name": "DescriptionStyleModel",
      "state": {
       "description_width": ""
      }
     },
     "a7d6a0ca6b2a4321a2df390e97669150": {
      "model_module": "@jupyter-widgets/controls",
      "model_module_version": "1.5.0",
      "model_name": "HBoxModel",
      "state": {
       "children": [
        "IPY_MODEL_f1efd68224eb4dcdb9a0e39dc5a9d914",
        "IPY_MODEL_a9a9189aab074f65a260ed3745b961e0",
        "IPY_MODEL_7d7efac4579b40bd8d3f1fcb78cfbcb7"
       ],
       "layout": "IPY_MODEL_1039b80dea26437296ba7964597b2927"
      }
     },
     "a7ddfc0408a94e87adb98e2fa45851c8": {
      "model_module": "@jupyter-widgets/controls",
      "model_module_version": "1.5.0",
      "model_name": "ProgressStyleModel",
      "state": {
       "description_width": ""
      }
     },
     "a98deeb191474d93ae11497b50d3ef6a": {
      "model_module": "@jupyter-widgets/controls",
      "model_module_version": "1.5.0",
      "model_name": "HTMLModel",
      "state": {
       "layout": "IPY_MODEL_3dbb292d893f429882453e74c7dcd8a3",
       "style": "IPY_MODEL_c9f4784779774a5588fc8d69a08b16df",
       "value": " 40328/50000 [00:00&lt;00:00, 131317.39 examples/s]"
      }
     },
     "a9a9189aab074f65a260ed3745b961e0": {
      "model_module": "@jupyter-widgets/controls",
      "model_module_version": "1.5.0",
      "model_name": "FloatProgressModel",
      "state": {
       "bar_style": "success",
       "layout": "IPY_MODEL_82886c532c86458f9cbd55f1a227edff",
       "max": 1,
       "style": "IPY_MODEL_a7ddfc0408a94e87adb98e2fa45851c8",
       "value": 1
      }
     },
     "ae30df48dc1a4ece983b5679229d33d8": {
      "model_module": "@jupyter-widgets/controls",
      "model_module_version": "1.5.0",
      "model_name": "HTMLModel",
      "state": {
       "layout": "IPY_MODEL_ef14524aa9554b1e8d92bb998ec856b4",
       "style": "IPY_MODEL_d80cfce671d94fb098815ac91a6f0c61",
       "value": " 3/3 [00:26&lt;00:00,  9.36s/ splits]"
      }
     },
     "b5425ac152f54e29888d7716d3a7e2bf": {
      "model_module": "@jupyter-widgets/controls",
      "model_module_version": "1.5.0",
      "model_name": "HTMLModel",
      "state": {
       "layout": "IPY_MODEL_84c0dbc32d8b47fda519645d3cfbef09",
       "style": "IPY_MODEL_a48f2d109cf24c06bec0a7b1f0107d6e",
       "value": "Generating splits...: 100%"
      }
     },
     "b6e1c056dd8a4c5d95d3b3698cfe015b": {
      "model_module": "@jupyter-widgets/controls",
      "model_module_version": "1.5.0",
      "model_name": "ProgressStyleModel",
      "state": {
       "description_width": ""
      }
     },
     "b8a435b47c8e4f009ffcb68cb05d8181": {
      "model_module": "@jupyter-widgets/controls",
      "model_module_version": "1.5.0",
      "model_name": "HTMLModel",
      "state": {
       "layout": "IPY_MODEL_92cd6dced63c49cfb1f71aa1539e564e",
       "style": "IPY_MODEL_6ada22aa772e425c9a5e593ba284e4fa",
       "value": " 24588/? [00:04&lt;00:00, 5470.71 examples/s]"
      }
     },
     "bedec98086e24545a60d59f252793337": {
      "model_module": "@jupyter-widgets/controls",
      "model_module_version": "1.5.0",
      "model_name": "DescriptionStyleModel",
      "state": {
       "description_width": ""
      }
     },
     "bf20d1f0998d4c0c8ffe184e943a838e": {
      "model_module": "@jupyter-widgets/controls",
      "model_module_version": "1.5.0",
      "model_name": "HTMLModel",
      "state": {
       "layout": "IPY_MODEL_9acec847cee6411084ecc000a6d8c333",
       "style": "IPY_MODEL_f3bf11c240f445e49ba7ebca619f1545",
       "value": "Generating train examples...: "
      }
     },
     "bfb7c6f73e144226bf49c76b3d8b45e0": {
      "model_module": "@jupyter-widgets/controls",
      "model_module_version": "1.5.0",
      "model_name": "HTMLModel",
      "state": {
       "layout": "IPY_MODEL_d472b74607c54ea1b3030f9f1d645d8f",
       "style": "IPY_MODEL_eea0be96a08e411994ab71a5247f7bc2",
       "value": "Shuffling ~\\tensorflow_datasets\\imdb_reviews\\plain_text\\1.0.0.incompleteWQEI89\\imdb_reviews-train.tfrecord*...:  84%"
      }
     },
     "c44f8e9f549c479c88039217288e525b": {
      "model_module": "@jupyter-widgets/controls",
      "model_module_version": "1.5.0",
      "model_name": "DescriptionStyleModel",
      "state": {
       "description_width": ""
      }
     },
     "c5c7b293a1cc49c49b278537e4534858": {
      "model_module": "@jupyter-widgets/controls",
      "model_module_version": "1.5.0",
      "model_name": "ProgressStyleModel",
      "state": {
       "description_width": ""
      }
     },
     "c606b44598a64514a8cbecf69e7f4b30": {
      "model_module": "@jupyter-widgets/base",
      "model_module_version": "1.2.0",
      "model_name": "LayoutModel",
      "state": {}
     },
     "c66243b61c36438da695bc0460dbf064": {
      "model_module": "@jupyter-widgets/base",
      "model_module_version": "1.2.0",
      "model_name": "LayoutModel",
      "state": {}
     },
     "c958b46180de40f5b124436c7328ef29": {
      "model_module": "@jupyter-widgets/controls",
      "model_module_version": "1.5.0",
      "model_name": "HTMLModel",
      "state": {
       "layout": "IPY_MODEL_3caa80f31a014f6ea55dacf42cc5a1ee",
       "style": "IPY_MODEL_d04c42d985514947859ab49db63e4d75",
       "value": " 25000/25000 [00:00&lt;00:00, 111651.16 examples/s]"
      }
     },
     "c9f4784779774a5588fc8d69a08b16df": {
      "model_module": "@jupyter-widgets/controls",
      "model_module_version": "1.5.0",
      "model_name": "DescriptionStyleModel",
      "state": {
       "description_width": ""
      }
     },
     "ce070e7e628441c081f75ec99b4a9751": {
      "model_module": "@jupyter-widgets/base",
      "model_module_version": "1.2.0",
      "model_name": "LayoutModel",
      "state": {}
     },
     "ce1bc717653449bba444eaca2be5de1f": {
      "model_module": "@jupyter-widgets/base",
      "model_module_version": "1.2.0",
      "model_name": "LayoutModel",
      "state": {
       "width": "20px"
      }
     },
     "d04c42d985514947859ab49db63e4d75": {
      "model_module": "@jupyter-widgets/controls",
      "model_module_version": "1.5.0",
      "model_name": "DescriptionStyleModel",
      "state": {
       "description_width": ""
      }
     },
     "d29e8ed78b934e9bb85f259df6177c5f": {
      "model_module": "@jupyter-widgets/controls",
      "model_module_version": "1.5.0",
      "model_name": "DescriptionStyleModel",
      "state": {
       "description_width": ""
      }
     },
     "d472b74607c54ea1b3030f9f1d645d8f": {
      "model_module": "@jupyter-widgets/base",
      "model_module_version": "1.2.0",
      "model_name": "LayoutModel",
      "state": {}
     },
     "d80cfce671d94fb098815ac91a6f0c61": {
      "model_module": "@jupyter-widgets/controls",
      "model_module_version": "1.5.0",
      "model_name": "DescriptionStyleModel",
      "state": {
       "description_width": ""
      }
     },
     "dea8b118e8be444cb17e50cd6b011346": {
      "model_module": "@jupyter-widgets/controls",
      "model_module_version": "1.5.0",
      "model_name": "DescriptionStyleModel",
      "state": {
       "description_width": ""
      }
     },
     "dfdb99305f42434aaf61c07e1ac352ef": {
      "model_module": "@jupyter-widgets/controls",
      "model_module_version": "1.5.0",
      "model_name": "ProgressStyleModel",
      "state": {
       "description_width": ""
      }
     },
     "e05b0ce53eca4301945b90d80ee4e1ed": {
      "model_module": "@jupyter-widgets/base",
      "model_module_version": "1.2.0",
      "model_name": "LayoutModel",
      "state": {}
     },
     "e0cd0bf0af964bf6ad8c36e9774bc11a": {
      "model_module": "@jupyter-widgets/controls",
      "model_module_version": "1.5.0",
      "model_name": "HTMLModel",
      "state": {
       "layout": "IPY_MODEL_2c11e650402c418c8947ad90f0820ace",
       "style": "IPY_MODEL_4c8cb781cbf248fd8eeb0e7868187dfa",
       "value": " 24831/? [00:05&lt;00:00, 5371.07 examples/s]"
      }
     },
     "e1de4d5936a346c294ab9220fb817b95": {
      "model_module": "@jupyter-widgets/base",
      "model_module_version": "1.2.0",
      "model_name": "LayoutModel",
      "state": {}
     },
     "e421ab7845e54cb9b54877063797b882": {
      "model_module": "@jupyter-widgets/controls",
      "model_module_version": "1.5.0",
      "model_name": "FloatProgressModel",
      "state": {
       "bar_style": "success",
       "layout": "IPY_MODEL_f66e658cf34c4f88a53833577017e929",
       "max": 1,
       "style": "IPY_MODEL_c5c7b293a1cc49c49b278537e4534858",
       "value": 1
      }
     },
     "e45b3a0431714ad5bace84f242739de4": {
      "model_module": "@jupyter-widgets/base",
      "model_module_version": "1.2.0",
      "model_name": "LayoutModel",
      "state": {
       "width": "20px"
      }
     },
     "e4deef47acce4d04b1ed8a48758a504e": {
      "model_module": "@jupyter-widgets/base",
      "model_module_version": "1.2.0",
      "model_name": "LayoutModel",
      "state": {}
     },
     "ebf618ff732842999f87cd36b1ec3213": {
      "model_module": "@jupyter-widgets/base",
      "model_module_version": "1.2.0",
      "model_name": "LayoutModel",
      "state": {}
     },
     "ed65c78ce9f24b8d9b95417893e0cafb": {
      "model_module": "@jupyter-widgets/base",
      "model_module_version": "1.2.0",
      "model_name": "LayoutModel",
      "state": {}
     },
     "eea0be96a08e411994ab71a5247f7bc2": {
      "model_module": "@jupyter-widgets/controls",
      "model_module_version": "1.5.0",
      "model_name": "DescriptionStyleModel",
      "state": {
       "description_width": ""
      }
     },
     "ef14524aa9554b1e8d92bb998ec856b4": {
      "model_module": "@jupyter-widgets/base",
      "model_module_version": "1.2.0",
      "model_name": "LayoutModel",
      "state": {}
     },
     "f17099272df044e8a7f2b5fb328d6802": {
      "model_module": "@jupyter-widgets/controls",
      "model_module_version": "1.5.0",
      "model_name": "HTMLModel",
      "state": {
       "layout": "IPY_MODEL_2ff5ebb2750345808cd5ead4e0a4488a",
       "style": "IPY_MODEL_01d2644ed9a84210a476745364da338b",
       "value": "Shuffling ~\\tensorflow_datasets\\imdb_reviews\\plain_text\\1.0.0.incompleteWQEI89\\imdb_reviews-test.tfrecord*...: 100%"
      }
     },
     "f1efd68224eb4dcdb9a0e39dc5a9d914": {
      "model_module": "@jupyter-widgets/controls",
      "model_module_version": "1.5.0",
      "model_name": "HTMLModel",
      "state": {
       "layout": "IPY_MODEL_993cedabb04c427ca7da08a2437c11b8",
       "style": "IPY_MODEL_dea8b118e8be444cb17e50cd6b011346",
       "value": "Dl Completed...: 100%"
      }
     },
     "f3bf11c240f445e49ba7ebca619f1545": {
      "model_module": "@jupyter-widgets/controls",
      "model_module_version": "1.5.0",
      "model_name": "DescriptionStyleModel",
      "state": {
       "description_width": ""
      }
     },
     "f66e658cf34c4f88a53833577017e929": {
      "model_module": "@jupyter-widgets/base",
      "model_module_version": "1.2.0",
      "model_name": "LayoutModel",
      "state": {
       "width": "20px"
      }
     },
     "f97fa01d8136409195d63c3452621893": {
      "model_module": "@jupyter-widgets/controls",
      "model_module_version": "1.5.0",
      "model_name": "HTMLModel",
      "state": {
       "layout": "IPY_MODEL_fd13d56e352346088081fcae2f3d3cac",
       "style": "IPY_MODEL_9b0ee1b855af41feb0409bd06cfa9d7a",
       "value": "Shuffling ~\\tensorflow_datasets\\imdb_reviews\\plain_text\\1.0.0.incompleteWQEI89\\imdb_reviews-unsupervised.tfrecord*...:  81%"
      }
     },
     "fcacac32d2134c69b59f7d9eac6faa14": {
      "model_module": "@jupyter-widgets/controls",
      "model_module_version": "1.5.0",
      "model_name": "FloatProgressModel",
      "state": {
       "layout": "IPY_MODEL_ebf618ff732842999f87cd36b1ec3213",
       "max": 3,
       "style": "IPY_MODEL_a0946d2356a3459a87fc0778c1c29260",
       "value": 3
      }
     },
     "fd13d56e352346088081fcae2f3d3cac": {
      "model_module": "@jupyter-widgets/base",
      "model_module_version": "1.2.0",
      "model_name": "LayoutModel",
      "state": {}
     }
    },
    "version_major": 2,
    "version_minor": 0
   }
  }
 },
 "nbformat": 4,
 "nbformat_minor": 5
}
