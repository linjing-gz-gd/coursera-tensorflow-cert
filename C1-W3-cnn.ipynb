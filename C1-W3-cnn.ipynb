{
 "cells": [
  {
   "cell_type": "code",
   "execution_count": 1,
   "id": "51c0b245-d33e-4692-9f00-03775382b285",
   "metadata": {},
   "outputs": [],
   "source": [
    "import numpy as np\n",
    "import matplotlib.pyplot as plt\n",
    "import tensorflow as tf\n",
    "from tensorflow import keras"
   ]
  },
  {
   "cell_type": "code",
   "execution_count": 3,
   "id": "65e9d12a-ad51-4881-b7f9-cba1637a1b61",
   "metadata": {},
   "outputs": [
    {
     "data": {
      "text/plain": [
       "module"
      ]
     },
     "execution_count": 3,
     "metadata": {},
     "output_type": "execute_result"
    }
   ],
   "source": [
    "fmnist = keras.datasets.fashion_mnist\n",
    "type(fmnist)"
   ]
  },
  {
   "cell_type": "code",
   "execution_count": 15,
   "id": "2f435f50-a357-4f2c-9103-575afbe6961f",
   "metadata": {},
   "outputs": [],
   "source": [
    "(train_im, train_lb), (test_im, test_lb) = fmnist.load_data()\n",
    "\n",
    "train_im = train_im / 255.\n",
    "test_im = test_im / 255."
   ]
  },
  {
   "cell_type": "code",
   "execution_count": 18,
   "id": "33e98af7-e9e1-4440-a932-a7894c0d6f58",
   "metadata": {},
   "outputs": [
    {
     "name": "stdout",
     "output_type": "stream",
     "text": [
      "\n",
      "Training:\n",
      "\n",
      "Epoch 1/5\n",
      "1875/1875 [==============================] - 3s 2ms/step - loss: 0.5040 - accuracy: 0.8238\n",
      "Epoch 2/5\n",
      "1875/1875 [==============================] - 3s 2ms/step - loss: 0.3771 - accuracy: 0.8645\n",
      "Epoch 3/5\n",
      "1875/1875 [==============================] - 3s 2ms/step - loss: 0.3385 - accuracy: 0.8771\n",
      "Epoch 4/5\n",
      "1875/1875 [==============================] - 3s 2ms/step - loss: 0.3122 - accuracy: 0.8861\n",
      "Epoch 5/5\n",
      "1875/1875 [==============================] - 3s 2ms/step - loss: 0.2962 - accuracy: 0.8909\n",
      "\n",
      "Testing:\n",
      "\n",
      "313/313 [==============================] - 1s 1ms/step - loss: 0.3520 - accuracy: 0.8713\n",
      "CPU times: total: 39.3 s\n",
      "Wall time: 16.8 s\n"
     ]
    },
    {
     "data": {
      "text/plain": [
       "[0.35199832916259766, 0.8712999820709229]"
      ]
     },
     "execution_count": 18,
     "metadata": {},
     "output_type": "execute_result"
    }
   ],
   "source": [
    "%%time\n",
    "\n",
    "model = keras.Sequential([\n",
    "    keras.layers.Flatten(),\n",
    "    keras.layers.Dense(128, activation=tf.nn.relu),\n",
    "    keras.layers.Dense(10, activation=tf.nn.softmax)\n",
    "])\n",
    "model.compile(\n",
    "    optimizer='adam',\n",
    "    loss='sparse_categorical_crossentropy',\n",
    "    metrics=['accuracy']\n",
    ")\n",
    "print(f'\\nTraining:\\n')\n",
    "model.fit(train_im, train_lb, epochs=5)\n",
    "\n",
    "print(f'\\nTesting:\\n')\n",
    "model.evaluate(test_im, test_lb)"
   ]
  },
  {
   "cell_type": "code",
   "execution_count": 19,
   "id": "c801865c-2cc1-4ba3-96f3-347e49413495",
   "metadata": {},
   "outputs": [
    {
     "name": "stdout",
     "output_type": "stream",
     "text": [
      "Model: \"sequential_3\"\n",
      "_________________________________________________________________\n",
      " Layer (type)                Output Shape              Param #   \n",
      "=================================================================\n",
      " conv2d (Conv2D)             (None, 26, 26, 32)        320       \n",
      "                                                                 \n",
      " max_pooling2d (MaxPooling2D  (None, 13, 13, 32)       0         \n",
      " )                                                               \n",
      "                                                                 \n",
      " conv2d_1 (Conv2D)           (None, 11, 11, 32)        9248      \n",
      "                                                                 \n",
      " max_pooling2d_1 (MaxPooling  (None, 5, 5, 32)         0         \n",
      " 2D)                                                             \n",
      "                                                                 \n",
      " flatten_3 (Flatten)         (None, 800)               0         \n",
      "                                                                 \n",
      " dense_6 (Dense)             (None, 128)               102528    \n",
      "                                                                 \n",
      " dense_7 (Dense)             (None, 10)                1290      \n",
      "                                                                 \n",
      "=================================================================\n",
      "Total params: 113,386\n",
      "Trainable params: 113,386\n",
      "Non-trainable params: 0\n",
      "_________________________________________________________________\n",
      "\n",
      "Training:\n",
      "\n",
      "Epoch 1/5\n",
      "1875/1875 [==============================] - 24s 13ms/step - loss: 0.4687 - accuracy: 0.8322\n",
      "Epoch 2/5\n",
      "1875/1875 [==============================] - 23s 12ms/step - loss: 0.3151 - accuracy: 0.8854\n",
      "Epoch 3/5\n",
      "1875/1875 [==============================] - 23s 12ms/step - loss: 0.2721 - accuracy: 0.8994\n",
      "Epoch 4/5\n",
      "1875/1875 [==============================] - 23s 12ms/step - loss: 0.2423 - accuracy: 0.9092\n",
      "Epoch 5/5\n",
      "1875/1875 [==============================] - 24s 13ms/step - loss: 0.2175 - accuracy: 0.9188\n",
      "\n",
      "Testing:\n",
      "\n",
      "313/313 [==============================] - 2s 5ms/step - loss: 0.2968 - accuracy: 0.8923\n",
      "CPU times: total: 9min 13s\n",
      "Wall time: 1min 59s\n"
     ]
    },
    {
     "data": {
      "text/plain": [
       "[0.2968398630619049, 0.892300009727478]"
      ]
     },
     "execution_count": 19,
     "metadata": {},
     "output_type": "execute_result"
    }
   ],
   "source": [
    "%%time\n",
    "\n",
    "model = keras.Sequential([\n",
    "    keras.layers.Conv2D(32, (3, 3), activation='relu', input_shape=(28, 28, 1)),\n",
    "    keras.layers.MaxPooling2D(2, 2),\n",
    "    keras.layers.Conv2D(32, (3, 3), activation='relu'),\n",
    "    keras.layers.MaxPooling2D(2, 2),\n",
    "    keras.layers.Flatten(),\n",
    "    keras.layers.Dense(128, activation=tf.nn.relu),\n",
    "    keras.layers.Dense(10, activation=tf.nn.softmax)\n",
    "])\n",
    "model.summary()\n",
    "\n",
    "model.compile(\n",
    "    optimizer='adam',\n",
    "    loss='sparse_categorical_crossentropy',\n",
    "    metrics=['accuracy']\n",
    ")\n",
    "\n",
    "print(f'\\nTraining:\\n')\n",
    "model.fit(train_im, train_lb, epochs=5)\n",
    "\n",
    "print(f'\\nTesting:\\n')\n",
    "model.evaluate(test_im, test_lb)"
   ]
  },
  {
   "cell_type": "code",
   "execution_count": 20,
   "id": "f89c1b57-c768-49d1-a703-ae41b76010ca",
   "metadata": {},
   "outputs": [
    {
     "name": "stdout",
     "output_type": "stream",
     "text": [
      "Model: \"sequential_4\"\n",
      "_________________________________________________________________\n",
      " Layer (type)                Output Shape              Param #   \n",
      "=================================================================\n",
      " conv2d_2 (Conv2D)           (None, 26, 26, 32)        320       \n",
      "                                                                 \n",
      " max_pooling2d_2 (MaxPooling  (None, 13, 13, 32)       0         \n",
      " 2D)                                                             \n",
      "                                                                 \n",
      " conv2d_3 (Conv2D)           (None, 11, 11, 32)        9248      \n",
      "                                                                 \n",
      " max_pooling2d_3 (MaxPooling  (None, 5, 5, 32)         0         \n",
      " 2D)                                                             \n",
      "                                                                 \n",
      " flatten_4 (Flatten)         (None, 800)               0         \n",
      "                                                                 \n",
      " dense_8 (Dense)             (None, 128)               102528    \n",
      "                                                                 \n",
      " dense_9 (Dense)             (None, 10)                1290      \n",
      "                                                                 \n",
      "=================================================================\n",
      "Total params: 113,386\n",
      "Trainable params: 113,386\n",
      "Non-trainable params: 0\n",
      "_________________________________________________________________\n",
      "\n",
      "Training:\n",
      "\n",
      "Epoch 1/15\n",
      "1875/1875 [==============================] - 25s 13ms/step - loss: 0.4663 - accuracy: 0.8321\n",
      "Epoch 2/15\n",
      "1875/1875 [==============================] - 27s 14ms/step - loss: 0.3151 - accuracy: 0.8846\n",
      "Epoch 3/15\n",
      "1875/1875 [==============================] - 27s 14ms/step - loss: 0.2705 - accuracy: 0.8994\n",
      "Epoch 4/15\n",
      "1875/1875 [==============================] - 28s 15ms/step - loss: 0.2388 - accuracy: 0.9112\n",
      "Epoch 5/15\n",
      "1875/1875 [==============================] - 28s 15ms/step - loss: 0.2151 - accuracy: 0.9199\n",
      "Epoch 6/15\n",
      "1875/1875 [==============================] - 25s 13ms/step - loss: 0.1923 - accuracy: 0.9273\n",
      "Epoch 7/15\n",
      "1875/1875 [==============================] - 30s 16ms/step - loss: 0.1742 - accuracy: 0.9347\n",
      "Epoch 8/15\n",
      "1875/1875 [==============================] - 25s 13ms/step - loss: 0.1588 - accuracy: 0.9404\n",
      "Epoch 9/15\n",
      "1875/1875 [==============================] - 27s 15ms/step - loss: 0.1454 - accuracy: 0.9454\n",
      "Epoch 10/15\n",
      "1875/1875 [==============================] - 27s 15ms/step - loss: 0.1315 - accuracy: 0.9505\n",
      "Epoch 11/15\n",
      "1875/1875 [==============================] - 27s 14ms/step - loss: 0.1187 - accuracy: 0.9558\n",
      "Epoch 12/15\n",
      "1875/1875 [==============================] - 27s 14ms/step - loss: 0.1088 - accuracy: 0.9597\n",
      "Epoch 13/15\n",
      "1875/1875 [==============================] - 25s 14ms/step - loss: 0.0998 - accuracy: 0.9626\n",
      "Epoch 14/15\n",
      "1875/1875 [==============================] - 28s 15ms/step - loss: 0.0888 - accuracy: 0.9664\n",
      "Epoch 15/15\n",
      "1875/1875 [==============================] - 27s 14ms/step - loss: 0.0835 - accuracy: 0.9678\n",
      "\n",
      "Testing:\n",
      "\n",
      "313/313 [==============================] - 2s 5ms/step - loss: 0.3475 - accuracy: 0.9034\n",
      "CPU times: total: 30min 56s\n",
      "Wall time: 6min 46s\n"
     ]
    },
    {
     "data": {
      "text/plain": [
       "[0.3475169837474823, 0.9034000039100647]"
      ]
     },
     "execution_count": 20,
     "metadata": {},
     "output_type": "execute_result"
    }
   ],
   "source": [
    "%%time\n",
    "\n",
    "model = keras.Sequential([\n",
    "    keras.layers.Conv2D(32, (3, 3), activation='relu', input_shape=(28, 28, 1)),\n",
    "    keras.layers.MaxPooling2D(2, 2),\n",
    "    keras.layers.Conv2D(32, (3, 3), activation='relu'),\n",
    "    keras.layers.MaxPooling2D(2, 2),\n",
    "    keras.layers.Flatten(),\n",
    "    keras.layers.Dense(128, activation=tf.nn.relu),\n",
    "    keras.layers.Dense(10, activation=tf.nn.softmax)\n",
    "])\n",
    "model.summary()\n",
    "\n",
    "model.compile(\n",
    "    optimizer='adam',\n",
    "    loss='sparse_categorical_crossentropy',\n",
    "    metrics=['accuracy']\n",
    ")\n",
    "\n",
    "print(f'\\nTraining:\\n')\n",
    "model.fit(train_im, train_lb, epochs=15)\n",
    "\n",
    "print(f'\\nTesting:\\n')\n",
    "model.evaluate(test_im, test_lb)"
   ]
  },
  {
   "cell_type": "code",
   "execution_count": 26,
   "id": "7c9f13bb-7c9e-49d0-8b56-d956b70fab2b",
   "metadata": {},
   "outputs": [
    {
     "name": "stdout",
     "output_type": "stream",
     "text": [
      "[9 2 1 1 6 1 4 6 5 7 4 5 7 3 4 1 2 4 8 0 2 5 7 9 1 4 6 0 9 3 8 8 3 3 8 0 7\n",
      " 5 7 9 6 1 3 7 6 7 2 1 2 2 4 4 5 8 2 2 8 4 8 0 7 7 8 5 1 1 2 3 9 8 7 0 2 6\n",
      " 2 3 1 2 8 4 1 8 5 9 5 0 3 2 0 6 5 3 6 7 1 8 0 1 4 2]\n"
     ]
    }
   ],
   "source": [
    "print(test_lb[:100])"
   ]
  },
  {
   "cell_type": "code",
   "execution_count": 53,
   "id": "a177f61e-3db5-4da9-8798-4074fec702f1",
   "metadata": {},
   "outputs": [],
   "source": [
    "def view_conv(imgs, conv):\n",
    "    conv_model = keras.models.Model(\n",
    "        inputs=model.inputs,\n",
    "        outputs=[l.output for l in model.layers][0:4]\n",
    "    )\n",
    "    ls_out = conv_model.predict(test_im[imgs][:, :, :, np.newaxis])\n",
    "    \n",
    "    fig, axs = plt.subplots(\n",
    "        len(imgs), 4, sharex='col', sharey='col', figsize=[10, len(imgs)*3]\n",
    "    )\n",
    "    for j, l_out in enumerate(ls_out):\n",
    "        for i, l in enumerate(l_out):\n",
    "            axs[i, j].imshow(l[:, :, conv], cmap='inferno')"
   ]
  },
  {
   "cell_type": "code",
   "execution_count": 57,
   "id": "dcc05b0f-521e-4c75-8ecb-4e1f9e065e29",
   "metadata": {},
   "outputs": [
    {
     "data": {
      "text/plain": [
       "(array([ 0, 23, 28, 39, 68, 83], dtype=int64),)"
      ]
     },
     "execution_count": 57,
     "metadata": {},
     "output_type": "execute_result"
    }
   ],
   "source": [
    "np.where(test_lb[:100]==9)"
   ]
  },
  {
   "cell_type": "code",
   "execution_count": 55,
   "id": "2f83bf30-e0f1-4c53-a223-eb29f0437bb6",
   "metadata": {},
   "outputs": [
    {
     "name": "stdout",
     "output_type": "stream",
     "text": [
      "1/1 [==============================] - 0s 62ms/step\n"
     ]
    },
    {
     "data": {
      "image/png": "[encoded data removed]",
      "text/plain": [
       "<Figure size 720x648 with 12 Axes>"
      ]
     },
     "metadata": {
      "needs_background": "light"
     },
     "output_type": "display_data"
    }
   ],
   "source": [
    "view_conv([0, 23, 28], 2)"
   ]
  },
  {
   "cell_type": "code",
   "execution_count": 58,
   "id": "59c58bbe-d2f1-4c8f-8d4e-9fea06d4230c",
   "metadata": {},
   "outputs": [
    {
     "data": {
      "text/plain": [
       "(array([ 2,  3,  5, 15, 24, 41, 47, 64, 65, 76, 80, 94, 97], dtype=int64),)"
      ]
     },
     "execution_count": 58,
     "metadata": {},
     "output_type": "execute_result"
    }
   ],
   "source": [
    "np.where(test_lb[:100]==1)"
   ]
  },
  {
   "cell_type": "code",
   "execution_count": 63,
   "id": "4fcf4f1b-dd42-4821-8c57-09a7b83259c2",
   "metadata": {},
   "outputs": [
    {
     "name": "stdout",
     "output_type": "stream",
     "text": [
      "1/1 [==============================] - 0s 69ms/step\n"
     ]
    },
    {
     "data": {
      "image/png": "[encoded data removed]",
      "text/plain": [
       "<Figure size 720x648 with 12 Axes>"
      ]
     },
     "metadata": {
      "needs_background": "light"
     },
     "output_type": "display_data"
    }
   ],
   "source": [
    "view_conv([2, 3, 5], 0)"
   ]
  },
  {
   "cell_type": "code",
   "execution_count": 64,
   "id": "259783c6-27c9-4ff7-b893-601a812cf5b7",
   "metadata": {},
   "outputs": [
    {
     "data": {
      "text/plain": [
       "(array([ 1, 16, 20, 46, 48, 49, 54, 55, 66, 72, 74, 77, 87, 99],\n",
       "       dtype=int64),)"
      ]
     },
     "execution_count": 64,
     "metadata": {},
     "output_type": "execute_result"
    }
   ],
   "source": [
    "np.where(test_lb[:100]==2)"
   ]
  },
  {
   "cell_type": "code",
   "execution_count": 72,
   "id": "6d20f69a-5ac1-40d5-971d-c7fb4e001b5b",
   "metadata": {},
   "outputs": [
    {
     "name": "stdout",
     "output_type": "stream",
     "text": [
      "1/1 [==============================] - 0s 58ms/step\n"
     ]
    },
    {
     "data": {
      "image/png": "[encoded data removed]",
      "text/plain": [
       "<Figure size 720x648 with 12 Axes>"
      ]
     },
     "metadata": {
      "needs_background": "light"
     },
     "output_type": "display_data"
    }
   ],
   "source": [
    "view_conv([1, 16, 20], 9)"
   ]
  },
  {
   "cell_type": "code",
   "execution_count": 75,
   "id": "821b1d57-6b7d-4e38-a8e7-c1fe2d173675",
   "metadata": {},
   "outputs": [
    {
     "name": "stdout",
     "output_type": "stream",
     "text": [
      "1/1 [==============================] - 0s 61ms/step\n"
     ]
    },
    {
     "data": {
      "image/png": "[encoded data removed]",
      "text/plain": [
       "<Figure size 720x648 with 12 Axes>"
      ]
     },
     "metadata": {
      "needs_background": "light"
     },
     "output_type": "display_data"
    }
   ],
   "source": [
    "view_conv(np.where(test_lb==3)[0][:3], 16)"
   ]
  },
  {
   "cell_type": "markdown",
   "id": "80b2cf9f-0c77-4e2b-b712-38fe6c79642e",
   "metadata": {},
   "source": [
    "## Exercise 1: Number of filters"
   ]
  },
  {
   "cell_type": "code",
   "execution_count": 77,
   "id": "3fc69a09-9f3b-4bc5-a901-d79cc8895f08",
   "metadata": {},
   "outputs": [
    {
     "name": "stdout",
     "output_type": "stream",
     "text": [
      "Model: \"sequential_6\"\n",
      "_________________________________________________________________\n",
      " Layer (type)                Output Shape              Param #   \n",
      "=================================================================\n",
      " conv2d_6 (Conv2D)           (None, 26, 26, 16)        160       \n",
      "                                                                 \n",
      " max_pooling2d_6 (MaxPooling  (None, 13, 13, 16)       0         \n",
      " 2D)                                                             \n",
      "                                                                 \n",
      " conv2d_7 (Conv2D)           (None, 11, 11, 16)        2320      \n",
      "                                                                 \n",
      " max_pooling2d_7 (MaxPooling  (None, 5, 5, 16)         0         \n",
      " 2D)                                                             \n",
      "                                                                 \n",
      " flatten_6 (Flatten)         (None, 400)               0         \n",
      "                                                                 \n",
      " dense_12 (Dense)            (None, 128)               51328     \n",
      "                                                                 \n",
      " dense_13 (Dense)            (None, 10)                1290      \n",
      "                                                                 \n",
      "=================================================================\n",
      "Total params: 55,098\n",
      "Trainable params: 55,098\n",
      "Non-trainable params: 0\n",
      "_________________________________________________________________\n",
      "\n",
      "Training:\n",
      "\n",
      "Epoch 1/5\n",
      "1875/1875 [==============================] - 17s 9ms/step - loss: 0.5122 - accuracy: 0.8149\n",
      "Epoch 2/5\n",
      "1875/1875 [==============================] - 17s 9ms/step - loss: 0.3529 - accuracy: 0.8722\n",
      "Epoch 3/5\n",
      "1875/1875 [==============================] - 16s 9ms/step - loss: 0.3105 - accuracy: 0.8860\n",
      "Epoch 4/5\n",
      "1875/1875 [==============================] - 17s 9ms/step - loss: 0.2822 - accuracy: 0.8959\n",
      "Epoch 5/5\n",
      "1875/1875 [==============================] - 18s 10ms/step - loss: 0.2601 - accuracy: 0.9033\n",
      "\n",
      "Testing:\n",
      "\n",
      "313/313 [==============================] - 1s 3ms/step - loss: 0.2947 - accuracy: 0.8951\n",
      "CPU times: total: 5min 23s\n",
      "Wall time: 1min 25s\n"
     ]
    },
    {
     "data": {
      "text/plain": [
       "[0.29470470547676086, 0.8950999975204468]"
      ]
     },
     "execution_count": 77,
     "metadata": {},
     "output_type": "execute_result"
    }
   ],
   "source": [
    "%%time\n",
    "\n",
    "model = keras.Sequential([\n",
    "    keras.layers.Conv2D(16, (3, 3), activation='relu', input_shape=(28, 28, 1)),\n",
    "    keras.layers.MaxPooling2D(2, 2),\n",
    "    keras.layers.Conv2D(16, (3, 3), activation='relu'),\n",
    "    keras.layers.MaxPooling2D(2, 2),\n",
    "    keras.layers.Flatten(),\n",
    "    keras.layers.Dense(128, activation=tf.nn.relu),\n",
    "    keras.layers.Dense(10, activation=tf.nn.softmax)\n",
    "])\n",
    "model.summary()\n",
    "\n",
    "model.compile(\n",
    "    optimizer='adam',\n",
    "    loss='sparse_categorical_crossentropy',\n",
    "    metrics=['accuracy']\n",
    ")\n",
    "\n",
    "print(f'\\nTraining:\\n')\n",
    "model.fit(train_im, train_lb, epochs=5)\n",
    "\n",
    "print(f'\\nTesting:\\n')\n",
    "model.evaluate(test_im, test_lb)"
   ]
  },
  {
   "cell_type": "code",
   "execution_count": 78,
   "id": "d0cd06e9-f667-4e63-a258-b65aafb13dca",
   "metadata": {},
   "outputs": [
    {
     "name": "stdout",
     "output_type": "stream",
     "text": [
      "Model: \"sequential_7\"\n",
      "_________________________________________________________________\n",
      " Layer (type)                Output Shape              Param #   \n",
      "=================================================================\n",
      " conv2d_8 (Conv2D)           (None, 26, 26, 64)        640       \n",
      "                                                                 \n",
      " max_pooling2d_8 (MaxPooling  (None, 13, 13, 64)       0         \n",
      " 2D)                                                             \n",
      "                                                                 \n",
      " conv2d_9 (Conv2D)           (None, 11, 11, 64)        36928     \n",
      "                                                                 \n",
      " max_pooling2d_9 (MaxPooling  (None, 5, 5, 64)         0         \n",
      " 2D)                                                             \n",
      "                                                                 \n",
      " flatten_7 (Flatten)         (None, 1600)              0         \n",
      "                                                                 \n",
      " dense_14 (Dense)            (None, 128)               204928    \n",
      "                                                                 \n",
      " dense_15 (Dense)            (None, 10)                1290      \n",
      "                                                                 \n",
      "=================================================================\n",
      "Total params: 243,786\n",
      "Trainable params: 243,786\n",
      "Non-trainable params: 0\n",
      "_________________________________________________________________\n",
      "\n",
      "Training:\n",
      "\n",
      "Epoch 1/5\n",
      "1875/1875 [==============================] - 50s 26ms/step - loss: 0.4341 - accuracy: 0.8411\n",
      "Epoch 2/5\n",
      "1875/1875 [==============================] - 50s 27ms/step - loss: 0.2923 - accuracy: 0.8942\n",
      "Epoch 3/5\n",
      "1875/1875 [==============================] - 51s 27ms/step - loss: 0.2458 - accuracy: 0.9083\n",
      "Epoch 4/5\n",
      "1875/1875 [==============================] - 51s 27ms/step - loss: 0.2137 - accuracy: 0.9192\n",
      "Epoch 5/5\n",
      "1875/1875 [==============================] - 51s 27ms/step - loss: 0.1876 - accuracy: 0.9309\n",
      "\n",
      "Testing:\n",
      "\n",
      "313/313 [==============================] - 3s 8ms/step - loss: 0.2465 - accuracy: 0.9135\n",
      "CPU times: total: 21min 15s\n",
      "Wall time: 4min 15s\n"
     ]
    },
    {
     "data": {
      "text/plain": [
       "[0.2464715540409088, 0.9135000109672546]"
      ]
     },
     "execution_count": 78,
     "metadata": {},
     "output_type": "execute_result"
    }
   ],
   "source": [
    "%%time\n",
    "\n",
    "model = keras.Sequential([\n",
    "    keras.layers.Conv2D(64, (3, 3), activation='relu', input_shape=(28, 28, 1)),\n",
    "    keras.layers.MaxPooling2D(2, 2),\n",
    "    keras.layers.Conv2D(64, (3, 3), activation='relu'),\n",
    "    keras.layers.MaxPooling2D(2, 2),\n",
    "    keras.layers.Flatten(),\n",
    "    keras.layers.Dense(128, activation=tf.nn.relu),\n",
    "    keras.layers.Dense(10, activation=tf.nn.softmax)\n",
    "])\n",
    "model.summary()\n",
    "\n",
    "model.compile(\n",
    "    optimizer='adam',\n",
    "    loss='sparse_categorical_crossentropy',\n",
    "    metrics=['accuracy']\n",
    ")\n",
    "\n",
    "print(f'\\nTraining:\\n')\n",
    "model.fit(train_im, train_lb, epochs=5)\n",
    "\n",
    "print(f'\\nTesting:\\n')\n",
    "model.evaluate(test_im, test_lb)"
   ]
  },
  {
   "cell_type": "markdown",
   "id": "de9f91e7-8e2e-4606-aedd-597870fa8aeb",
   "metadata": {},
   "source": [
    "## Exercise 2: Fewer convolution layers"
   ]
  },
  {
   "cell_type": "code",
   "execution_count": 79,
   "id": "7442d0e0-e803-474d-b22c-25757e9074f8",
   "metadata": {},
   "outputs": [
    {
     "name": "stdout",
     "output_type": "stream",
     "text": [
      "Model: \"sequential_8\"\n",
      "_________________________________________________________________\n",
      " Layer (type)                Output Shape              Param #   \n",
      "=================================================================\n",
      " conv2d_10 (Conv2D)          (None, 26, 26, 32)        320       \n",
      "                                                                 \n",
      " max_pooling2d_10 (MaxPoolin  (None, 13, 13, 32)       0         \n",
      " g2D)                                                            \n",
      "                                                                 \n",
      " flatten_8 (Flatten)         (None, 5408)              0         \n",
      "                                                                 \n",
      " dense_16 (Dense)            (None, 128)               692352    \n",
      "                                                                 \n",
      " dense_17 (Dense)            (None, 10)                1290      \n",
      "                                                                 \n",
      "=================================================================\n",
      "Total params: 693,962\n",
      "Trainable params: 693,962\n",
      "Non-trainable params: 0\n",
      "_________________________________________________________________\n",
      "\n",
      "Training:\n",
      "\n",
      "Epoch 1/5\n",
      "1875/1875 [==============================] - 22s 11ms/step - loss: 0.3945 - accuracy: 0.8601\n",
      "Epoch 2/5\n",
      "1875/1875 [==============================] - 21s 11ms/step - loss: 0.2667 - accuracy: 0.9033\n",
      "Epoch 3/5\n",
      "1875/1875 [==============================] - 22s 12ms/step - loss: 0.2208 - accuracy: 0.9174\n",
      "Epoch 4/5\n",
      "1875/1875 [==============================] - 23s 12ms/step - loss: 0.1885 - accuracy: 0.9301\n",
      "Epoch 5/5\n",
      "1875/1875 [==============================] - 23s 12ms/step - loss: 0.1593 - accuracy: 0.9412\n",
      "\n",
      "Testing:\n",
      "\n",
      "313/313 [==============================] - 1s 4ms/step - loss: 0.2501 - accuracy: 0.9149\n",
      "CPU times: total: 8min 19s\n",
      "Wall time: 1min 53s\n"
     ]
    },
    {
     "data": {
      "text/plain": [
       "[0.25005313754081726, 0.914900004863739]"
      ]
     },
     "execution_count": 79,
     "metadata": {},
     "output_type": "execute_result"
    }
   ],
   "source": [
    "%%time\n",
    "\n",
    "model = keras.Sequential([\n",
    "    keras.layers.Conv2D(32, (3, 3), activation='relu', input_shape=(28, 28, 1)),\n",
    "    keras.layers.MaxPooling2D(2, 2),\n",
    "    keras.layers.Flatten(),\n",
    "    keras.layers.Dense(128, activation=tf.nn.relu),\n",
    "    keras.layers.Dense(10, activation=tf.nn.softmax)\n",
    "])\n",
    "model.summary()\n",
    "\n",
    "model.compile(\n",
    "    optimizer='adam',\n",
    "    loss='sparse_categorical_crossentropy',\n",
    "    metrics=['accuracy']\n",
    ")\n",
    "\n",
    "print(f'\\nTraining:\\n')\n",
    "model.fit(train_im, train_lb, epochs=5)\n",
    "\n",
    "print(f'\\nTesting:\\n')\n",
    "model.evaluate(test_im, test_lb)"
   ]
  },
  {
   "cell_type": "markdown",
   "id": "d6dbb856-9594-41bf-a6b1-a91311c8fa4e",
   "metadata": {
    "tags": []
   },
   "source": [
    "## Exercise 3: More convolution layers"
   ]
  },
  {
   "cell_type": "code",
   "execution_count": 80,
   "id": "8e4fb77c-a2d5-433c-bb53-a49e6f521ad5",
   "metadata": {},
   "outputs": [
    {
     "name": "stdout",
     "output_type": "stream",
     "text": [
      "Model: \"sequential_9\"\n",
      "_________________________________________________________________\n",
      " Layer (type)                Output Shape              Param #   \n",
      "=================================================================\n",
      " conv2d_11 (Conv2D)          (None, 26, 26, 32)        320       \n",
      "                                                                 \n",
      " max_pooling2d_11 (MaxPoolin  (None, 13, 13, 32)       0         \n",
      " g2D)                                                            \n",
      "                                                                 \n",
      " conv2d_12 (Conv2D)          (None, 11, 11, 32)        9248      \n",
      "                                                                 \n",
      " max_pooling2d_12 (MaxPoolin  (None, 5, 5, 32)         0         \n",
      " g2D)                                                            \n",
      "                                                                 \n",
      " conv2d_13 (Conv2D)          (None, 3, 3, 32)          9248      \n",
      "                                                                 \n",
      " max_pooling2d_13 (MaxPoolin  (None, 1, 1, 32)         0         \n",
      " g2D)                                                            \n",
      "                                                                 \n",
      " flatten_9 (Flatten)         (None, 32)                0         \n",
      "                                                                 \n",
      " dense_18 (Dense)            (None, 128)               4224      \n",
      "                                                                 \n",
      " dense_19 (Dense)            (None, 10)                1290      \n",
      "                                                                 \n",
      "=================================================================\n",
      "Total params: 24,330\n",
      "Trainable params: 24,330\n",
      "Non-trainable params: 0\n",
      "_________________________________________________________________\n",
      "\n",
      "Training:\n",
      "\n",
      "Epoch 1/5\n",
      "1875/1875 [==============================] - 24s 13ms/step - loss: 0.6271 - accuracy: 0.7689\n",
      "Epoch 2/5\n",
      "1875/1875 [==============================] - 24s 13ms/step - loss: 0.4283 - accuracy: 0.8416\n",
      "Epoch 3/5\n",
      "1875/1875 [==============================] - 27s 14ms/step - loss: 0.3682 - accuracy: 0.8630\n",
      "Epoch 4/5\n",
      "1875/1875 [==============================] - 32s 17ms/step - loss: 0.3360 - accuracy: 0.8765\n",
      "Epoch 5/5\n",
      "1875/1875 [==============================] - 26s 14ms/step - loss: 0.3111 - accuracy: 0.8845\n",
      "\n",
      "Testing:\n",
      "\n",
      "313/313 [==============================] - 2s 5ms/step - loss: 0.3551 - accuracy: 0.8730\n",
      "CPU times: total: 9min 34s\n",
      "Wall time: 2min 15s\n"
     ]
    },
    {
     "data": {
      "text/plain": [
       "[0.3551141321659088, 0.8730000257492065]"
      ]
     },
     "execution_count": 80,
     "metadata": {},
     "output_type": "execute_result"
    }
   ],
   "source": [
    "%%time\n",
    "\n",
    "model = keras.Sequential([\n",
    "    keras.layers.Conv2D(32, (3, 3), activation='relu', input_shape=(28, 28, 1)),\n",
    "    keras.layers.MaxPooling2D(2, 2),\n",
    "    keras.layers.Conv2D(32, (3, 3), activation='relu'),\n",
    "    keras.layers.MaxPooling2D(2, 2),\n",
    "    keras.layers.Conv2D(32, (3, 3), activation='relu'),\n",
    "    keras.layers.MaxPooling2D(2, 2),\n",
    "    keras.layers.Flatten(),\n",
    "    keras.layers.Dense(128, activation=tf.nn.relu),\n",
    "    keras.layers.Dense(10, activation=tf.nn.softmax)\n",
    "])\n",
    "model.summary()\n",
    "\n",
    "model.compile(\n",
    "    optimizer='adam',\n",
    "    loss='sparse_categorical_crossentropy',\n",
    "    metrics=['accuracy']\n",
    ")\n",
    "\n",
    "print(f'\\nTraining:\\n')\n",
    "model.fit(train_im, train_lb, epochs=5)\n",
    "\n",
    "print(f'\\nTesting:\\n')\n",
    "model.evaluate(test_im, test_lb)"
   ]
  },
  {
   "cell_type": "markdown",
   "id": "5dc2ca17-3817-49a9-a354-db4da93a2f0e",
   "metadata": {},
   "source": [
    "## Exercise 5: Early stopping by callbacks"
   ]
  },
  {
   "cell_type": "code",
   "execution_count": 82,
   "id": "0e3c4e7c-2c56-4023-b83c-20e7e4094f00",
   "metadata": {},
   "outputs": [],
   "source": [
    "class MyCallback(keras.callbacks.Callback):\n",
    "    def __init__(self, ac_cap=1):\n",
    "        super().__init__()\n",
    "        self.ac_cap = ac_cap\n",
    "        \n",
    "    def on_epoch_end(self, epoch, logs={}):\n",
    "        if logs.get('accuracy', 0) >= self.ac_cap:\n",
    "            print(f'\\n\\nReached {self.ac_cap*100:.1f}% accuracy so cancel training!\\n')\n",
    "            self.model.stop_training = True"
   ]
  },
  {
   "cell_type": "code",
   "execution_count": 83,
   "id": "3906cf4c-0e7c-4a58-8853-dde4841fa8c1",
   "metadata": {},
   "outputs": [
    {
     "name": "stdout",
     "output_type": "stream",
     "text": [
      "Model: \"sequential_10\"\n",
      "_________________________________________________________________\n",
      " Layer (type)                Output Shape              Param #   \n",
      "=================================================================\n",
      " conv2d_14 (Conv2D)          (None, 26, 26, 32)        320       \n",
      "                                                                 \n",
      " max_pooling2d_14 (MaxPoolin  (None, 13, 13, 32)       0         \n",
      " g2D)                                                            \n",
      "                                                                 \n",
      " flatten_10 (Flatten)        (None, 5408)              0         \n",
      "                                                                 \n",
      " dense_20 (Dense)            (None, 128)               692352    \n",
      "                                                                 \n",
      " dense_21 (Dense)            (None, 10)                1290      \n",
      "                                                                 \n",
      "=================================================================\n",
      "Total params: 693,962\n",
      "Trainable params: 693,962\n",
      "Non-trainable params: 0\n",
      "_________________________________________________________________\n",
      "\n",
      "Training:\n",
      "\n",
      "Epoch 1/5\n",
      "1875/1875 [==============================] - 23s 12ms/step - loss: 0.3848 - accuracy: 0.8644\n",
      "Epoch 2/5\n",
      "1875/1875 [==============================] - 23s 12ms/step - loss: 0.2606 - accuracy: 0.9053\n",
      "Epoch 3/5\n",
      "1874/1875 [============================>.] - ETA: 0s - loss: 0.2159 - accuracy: 0.9210\n",
      "\n",
      "Reached 92.0% accuracy so cancel training!\n",
      "\n",
      "1875/1875 [==============================] - 22s 12ms/step - loss: 0.2160 - accuracy: 0.9209\n",
      "\n",
      "Testing:\n",
      "\n",
      "313/313 [==============================] - 1s 4ms/step - loss: 0.2668 - accuracy: 0.9028\n",
      "CPU times: total: 5min 2s\n",
      "Wall time: 1min 10s\n"
     ]
    },
    {
     "data": {
      "text/plain": [
       "[0.2668384909629822, 0.9028000235557556]"
      ]
     },
     "execution_count": 83,
     "metadata": {},
     "output_type": "execute_result"
    }
   ],
   "source": [
    "%%time\n",
    "\n",
    "model = keras.Sequential([\n",
    "    keras.layers.Conv2D(32, (3, 3), activation='relu', input_shape=(28, 28, 1)),\n",
    "    keras.layers.MaxPooling2D(2, 2),\n",
    "    keras.layers.Flatten(),\n",
    "    keras.layers.Dense(128, activation=tf.nn.relu),\n",
    "    keras.layers.Dense(10, activation=tf.nn.softmax)\n",
    "])\n",
    "model.summary()\n",
    "\n",
    "model.compile(\n",
    "    optimizer='adam',\n",
    "    loss='sparse_categorical_crossentropy',\n",
    "    metrics=['accuracy']\n",
    ")\n",
    "\n",
    "print(f'\\nTraining:\\n')\n",
    "model.fit(train_im, train_lb, epochs=5, callbacks=[MyCallback(ac_cap=0.92)])\n",
    "\n",
    "print(f'\\nTesting:\\n')\n",
    "model.evaluate(test_im, test_lb)"
   ]
  }
 ],
 "metadata": {
  "kernelspec": {
   "display_name": "Python 3 (ipykernel)",
   "language": "python",
   "name": "python3"
  },
  "language_info": {
   "codemirror_mode": {
    "name": "ipython",
    "version": 3
   },
   "file_extension": ".py",
   "mimetype": "text/x-python",
   "name": "python",
   "nbconvert_exporter": "python",
   "pygments_lexer": "ipython3",
   "version": "3.9.12"
  },
  "widgets": {
   "application/vnd.jupyter.widget-state+json": {
    "state": {},
    "version_major": 2,
    "version_minor": 0
   }
  }
 },
 "nbformat": 4,
 "nbformat_minor": 5
}
