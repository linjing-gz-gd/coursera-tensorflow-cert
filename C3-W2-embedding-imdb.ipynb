{
 "cells": [
  {
   "cell_type": "code",
   "execution_count": 4,
   "id": "e8140020-37f6-4821-b7d0-5fb784cfcebe",
   "metadata": {},
   "outputs": [],
   "source": [
    "import numpy as np\n",
    "import matplotlib.pyplot as plt\n",
    "\n",
    "import tensorflow as tf\n",
    "from tensorflow import keras\n",
    "import tensorflow_datasets as tfds\n",
    "\n",
    "from tensorflow.keras.preprocessing.text import Tokenizer\n",
    "from tensorflow.keras.preprocessing.sequence import pad_sequences\n",
    "\n",
    "import os"
   ]
  },
  {
   "cell_type": "code",
   "execution_count": 6,
   "id": "802712e2-19ba-4d57-8566-3e2c284772c9",
   "metadata": {},
   "outputs": [
    {
     "name": "stdout",
     "output_type": "stream",
     "text": [
      "\u001b[1mDownloading and preparing dataset Unknown size (download: Unknown size, generated: Unknown size, total: Unknown size) to ~\\tensorflow_datasets\\imdb_reviews\\plain_text\\1.0.0...\u001b[0m\n"
     ]
    },
    {
     "data": {
      "application/vnd.jupyter.widget-view+json": {
       "model_id": "95ef7f41020f4534811caeac1e30eb62",
       "version_major": 2,
       "version_minor": 0
      },
      "text/plain": [
       "Dl Completed...: 0 url [00:00, ? url/s]"
      ]
     },
     "metadata": {},
     "output_type": "display_data"
    },
    {
     "data": {
      "application/vnd.jupyter.widget-view+json": {
       "model_id": "efbade5581154ad0878240db023a98e7",
       "version_major": 2,
       "version_minor": 0
      },
      "text/plain": [
       "Dl Size...: 0 MiB [00:00, ? MiB/s]"
      ]
     },
     "metadata": {},
     "output_type": "display_data"
    },
    {
     "data": {
      "application/vnd.jupyter.widget-view+json": {
       "model_id": "",
       "version_major": 2,
       "version_minor": 0
      },
      "text/plain": [
       "Generating splits...:   0%|          | 0/3 [00:00<?, ? splits/s]"
      ]
     },
     "metadata": {},
     "output_type": "display_data"
    },
    {
     "data": {
      "application/vnd.jupyter.widget-view+json": {
       "model_id": "",
       "version_major": 2,
       "version_minor": 0
      },
      "text/plain": [
       "Generating train examples...: 0 examples [00:00, ? examples/s]"
      ]
     },
     "metadata": {},
     "output_type": "display_data"
    },
    {
     "data": {
      "application/vnd.jupyter.widget-view+json": {
       "model_id": "",
       "version_major": 2,
       "version_minor": 0
      },
      "text/plain": [
       "Shuffling ~\\tensorflow_datasets\\imdb_reviews\\plain_text\\1.0.0.incompleteQN7CFI\\imdb_reviews-train.tfrecord*...…"
      ]
     },
     "metadata": {},
     "output_type": "display_data"
    },
    {
     "data": {
      "application/vnd.jupyter.widget-view+json": {
       "model_id": "",
       "version_major": 2,
       "version_minor": 0
      },
      "text/plain": [
       "Generating test examples...: 0 examples [00:00, ? examples/s]"
      ]
     },
     "metadata": {},
     "output_type": "display_data"
    },
    {
     "data": {
      "application/vnd.jupyter.widget-view+json": {
       "model_id": "",
       "version_major": 2,
       "version_minor": 0
      },
      "text/plain": [
       "Shuffling ~\\tensorflow_datasets\\imdb_reviews\\plain_text\\1.0.0.incompleteQN7CFI\\imdb_reviews-test.tfrecord*...:…"
      ]
     },
     "metadata": {},
     "output_type": "display_data"
    },
    {
     "data": {
      "application/vnd.jupyter.widget-view+json": {
       "model_id": "",
       "version_major": 2,
       "version_minor": 0
      },
      "text/plain": [
       "Generating unsupervised examples...: 0 examples [00:00, ? examples/s]"
      ]
     },
     "metadata": {},
     "output_type": "display_data"
    },
    {
     "data": {
      "application/vnd.jupyter.widget-view+json": {
       "model_id": "",
       "version_major": 2,
       "version_minor": 0
      },
      "text/plain": [
       "Shuffling ~\\tensorflow_datasets\\imdb_reviews\\plain_text\\1.0.0.incompleteQN7CFI\\imdb_reviews-unsupervised.tfrec…"
      ]
     },
     "metadata": {},
     "output_type": "display_data"
    },
    {
     "name": "stdout",
     "output_type": "stream",
     "text": [
      "\u001b[1mDataset imdb_reviews downloaded and prepared to ~\\tensorflow_datasets\\imdb_reviews\\plain_text\\1.0.0. Subsequent calls will reuse this data.\u001b[0m\n"
     ]
    }
   ],
   "source": [
    "imdb, info = tfds.load('imdb_reviews', with_info=True, as_supervised=True)"
   ]
  },
  {
   "cell_type": "code",
   "execution_count": 7,
   "id": "aa5b0bfe-5f64-4829-ba03-820c5661d9d2",
   "metadata": {},
   "outputs": [
    {
     "name": "stdout",
     "output_type": "stream",
     "text": [
      "tfds.core.DatasetInfo(\n",
      "    name='imdb_reviews',\n",
      "    full_name='imdb_reviews/plain_text/1.0.0',\n",
      "    description=\"\"\"\n",
      "    Large Movie Review Dataset.\n",
      "    This is a dataset for binary sentiment classification containing substantially more data than previous benchmark datasets. We provide a set of 25,000 highly polar movie reviews for training, and 25,000 for testing. There is additional unlabeled data for use as well.\n",
      "    \"\"\",\n",
      "    config_description=\"\"\"\n",
      "    Plain text\n",
      "    \"\"\",\n",
      "    homepage='http://ai.stanford.edu/~amaas/data/sentiment/',\n",
      "    data_path='~\\\\tensorflow_datasets\\\\imdb_reviews\\\\plain_text\\\\1.0.0',\n",
      "    file_format=tfrecord,\n",
      "    download_size=80.23 MiB,\n",
      "    dataset_size=129.83 MiB,\n",
      "    features=FeaturesDict({\n",
      "        'label': ClassLabel(shape=(), dtype=tf.int64, num_classes=2),\n",
      "        'text': Text(shape=(), dtype=tf.string),\n",
      "    }),\n",
      "    supervised_keys=('text', 'label'),\n",
      "    disable_shuffling=False,\n",
      "    splits={\n",
      "        'test': <SplitInfo num_examples=25000, num_shards=1>,\n",
      "        'train': <SplitInfo num_examples=25000, num_shards=1>,\n",
      "        'unsupervised': <SplitInfo num_examples=50000, num_shards=1>,\n",
      "    },\n",
      "    citation=\"\"\"@InProceedings{maas-EtAl:2011:ACL-HLT2011,\n",
      "      author    = {Maas, Andrew L.  and  Daly, Raymond E.  and  Pham, Peter T.  and  Huang, Dan  and  Ng, Andrew Y.  and  Potts, Christopher},\n",
      "      title     = {Learning Word Vectors for Sentiment Analysis},\n",
      "      booktitle = {Proceedings of the 49th Annual Meeting of the Association for Computational Linguistics: Human Language Technologies},\n",
      "      month     = {June},\n",
      "      year      = {2011},\n",
      "      address   = {Portland, Oregon, USA},\n",
      "      publisher = {Association for Computational Linguistics},\n",
      "      pages     = {142--150},\n",
      "      url       = {http://www.aclweb.org/anthology/P11-1015}\n",
      "    }\"\"\",\n",
      ")\n"
     ]
    }
   ],
   "source": [
    "print(info)"
   ]
  },
  {
   "cell_type": "code",
   "execution_count": 8,
   "id": "e92b9729-0568-4995-ac80-7ec4000917d0",
   "metadata": {},
   "outputs": [
    {
     "name": "stdout",
     "output_type": "stream",
     "text": [
      "{Split('train'): <PrefetchDataset element_spec=(TensorSpec(shape=(), dtype=tf.string, name=None), TensorSpec(shape=(), dtype=tf.int64, name=None))>, Split('test'): <PrefetchDataset element_spec=(TensorSpec(shape=(), dtype=tf.string, name=None), TensorSpec(shape=(), dtype=tf.int64, name=None))>, Split('unsupervised'): <PrefetchDataset element_spec=(TensorSpec(shape=(), dtype=tf.string, name=None), TensorSpec(shape=(), dtype=tf.int64, name=None))>}\n"
     ]
    }
   ],
   "source": [
    "print(imdb)"
   ]
  },
  {
   "cell_type": "code",
   "execution_count": 9,
   "id": "696c0bf4-0731-44d4-b35e-71e1170d407a",
   "metadata": {},
   "outputs": [
    {
     "data": {
      "text/plain": [
       "(dict, tensorflow_datasets.core.dataset_info.DatasetInfo)"
      ]
     },
     "execution_count": 9,
     "metadata": {},
     "output_type": "execute_result"
    }
   ],
   "source": [
    "type(imdb), type(info)"
   ]
  },
  {
   "cell_type": "code",
   "execution_count": 12,
   "id": "73844073-eb76-4e2c-8a5f-4e3721f918dc",
   "metadata": {},
   "outputs": [
    {
     "name": "stdout",
     "output_type": "stream",
     "text": [
      "[Split('train'), Split('test'), Split('unsupervised')]\n"
     ]
    }
   ],
   "source": [
    "print(list(imdb.keys()))"
   ]
  },
  {
   "cell_type": "code",
   "execution_count": 13,
   "id": "ae91e937-bf9e-4526-bde4-7f06771a81f7",
   "metadata": {},
   "outputs": [
    {
     "data": {
      "text/plain": [
       "tensorflow_datasets.core.splits.Split"
      ]
     },
     "execution_count": 13,
     "metadata": {},
     "output_type": "execute_result"
    }
   ],
   "source": [
    "type(list(imdb.keys())[0])"
   ]
  },
  {
   "cell_type": "code",
   "execution_count": 20,
   "id": "b2e656b8-3622-4a3d-bdda-7a8203b3dea4",
   "metadata": {},
   "outputs": [
    {
     "name": "stdout",
     "output_type": "stream",
     "text": [
      "(<tf.Tensor: shape=(), dtype=string, numpy=b\"This was an absolutely terrible movie. Don't be lured in by Christopher Walken or Michael Ironside. Both are great actors, but this must simply be their worst role in history. Even their great acting could not redeem this movie's ridiculous storyline. This movie is an early nineties US propaganda piece. The most pathetic scenes were those when the Columbian rebels were making their cases for revolutions. Maria Conchita Alonso appeared phony, and her pseudo-love affair with Walken was nothing but a pathetic emotional plug in a movie that was devoid of any real meaning. I am disappointed that there are movies like this, ruining actor's like Christopher Walken's good name. I could barely sit through it.\">, <tf.Tensor: shape=(), dtype=int64, numpy=0>)\n",
      "(<tf.Tensor: shape=(), dtype=string, numpy=b'I have been known to fall asleep during films, but this is usually due to a combination of things including, really tired, being warm and comfortable on the sette and having just eaten a lot. However on this occasion I fell asleep because the film was rubbish. The plot development was constant. Constantly slow and boring. Things seemed to happen, but with no explanation of what was causing them or why. I admit, I may have missed part of the film, but i watched the majority of it and everything just seemed to happen of its own accord without any real concern for anything else. I cant recommend this film at all.'>, <tf.Tensor: shape=(), dtype=int64, numpy=0>)\n"
     ]
    }
   ],
   "source": [
    "for example in imdb['train'].take(2):\n",
    "    print(example)"
   ]
  },
  {
   "cell_type": "code",
   "execution_count": 21,
   "id": "fe14ef95-d696-4ab8-9bb9-e3ea819a9047",
   "metadata": {},
   "outputs": [
    {
     "name": "stdout",
     "output_type": "stream",
     "text": [
      "tf.Tensor(b'I have been known to fall asleep during films, but this is usually due to a combination of things including, really tired, being warm and comfortable on the sette and having just eaten a lot. However on this occasion I fell asleep because the film was rubbish. The plot development was constant. Constantly slow and boring. Things seemed to happen, but with no explanation of what was causing them or why. I admit, I may have missed part of the film, but i watched the majority of it and everything just seemed to happen of its own accord without any real concern for anything else. I cant recommend this film at all.', shape=(), dtype=string)\n",
      "tf.Tensor(0, shape=(), dtype=int64)\n"
     ]
    }
   ],
   "source": [
    "print(example[0])\n",
    "print(example[1])"
   ]
  },
  {
   "cell_type": "code",
   "execution_count": 22,
   "id": "e032f725-e95b-4a47-94d9-e292be03c753",
   "metadata": {},
   "outputs": [
    {
     "data": {
      "text/plain": [
       "tensorflow.python.data.ops.dataset_ops.PrefetchDataset"
      ]
     },
     "execution_count": 22,
     "metadata": {},
     "output_type": "execute_result"
    }
   ],
   "source": [
    "type(imdb['train'])"
   ]
  },
  {
   "cell_type": "code",
   "execution_count": 24,
   "id": "f1965be8-a636-43c2-aee3-8cf85945a901",
   "metadata": {},
   "outputs": [],
   "source": [
    "trn_txs, trn_lbs = [], []\n",
    "tst_txs, tst_lbs = [], []\n",
    "\n",
    "for tx, lb in imdb['train']:\n",
    "    trn_txs.append(tx.numpy().decode('utf8'))\n",
    "    trn_lbs.append(lb.numpy())\n",
    "    \n",
    "for tx, lb in imdb['test']:\n",
    "    tst_txs.append(tx.numpy().decode('utf8'))\n",
    "    tst_lbs.append(lb.numpy())\n",
    "\n",
    "trn_lbs = np.array(trn_lbs)\n",
    "tst_lbs = np.array(tst_lbs)"
   ]
  },
  {
   "cell_type": "code",
   "execution_count": 25,
   "id": "5106d83d-a5e1-4724-8b31-4eb3edd1715b",
   "metadata": {},
   "outputs": [],
   "source": [
    "num_words = 10000\n",
    "maxlen = 120\n",
    "embed_d = 16"
   ]
  },
  {
   "cell_type": "code",
   "execution_count": 26,
   "id": "9faacb5c-1a1a-44ff-9335-59c02182a7f0",
   "metadata": {},
   "outputs": [],
   "source": [
    "tokenizer = Tokenizer(num_words=num_words, oov_token='<OOV>')\n",
    "tokenizer.fit_on_texts(trn_txs)\n",
    "\n",
    "trn_sqs = tokenizer.texts_to_sequences(trn_txs)\n",
    "trn_sqs = pad_sequences(trn_sqs, padding='post', maxlen=maxlen, truncating='post')\n",
    "\n",
    "tst_sqs = tokenizer.texts_to_sequences(tst_txs)\n",
    "tst_sqs = pad_sequences(tst_sqs, padding='post', maxlen=maxlen, truncating='post')"
   ]
  },
  {
   "cell_type": "code",
   "execution_count": 31,
   "id": "d930aeab-f94c-44f7-8d71-2d1f51661aa4",
   "metadata": {},
   "outputs": [
    {
     "name": "stdout",
     "output_type": "stream",
     "text": [
      "Model: \"sequential_1\"\n",
      "_________________________________________________________________\n",
      " Layer (type)                Output Shape              Param #   \n",
      "=================================================================\n",
      " embedding_1 (Embedding)     (None, 120, 16)           160000    \n",
      "                                                                 \n",
      " flatten_1 (Flatten)         (None, 1920)              0         \n",
      "                                                                 \n",
      " dense_2 (Dense)             (None, 6)                 11526     \n",
      "                                                                 \n",
      " dense_3 (Dense)             (None, 1)                 7         \n",
      "                                                                 \n",
      "=================================================================\n",
      "Total params: 171,533\n",
      "Trainable params: 171,533\n",
      "Non-trainable params: 0\n",
      "_________________________________________________________________\n"
     ]
    }
   ],
   "source": [
    "model = keras.models.Sequential([\n",
    "    keras.layers.Embedding(num_words, embed_d, input_length=maxlen),\n",
    "    keras.layers.Flatten(),\n",
    "    keras.layers.Dense(6, activation='relu'),\n",
    "    keras.layers.Dense(1, activation='sigmoid'),\n",
    "])\n",
    "\n",
    "model.summary()\n",
    "\n",
    "model.compile(loss='binary_crossentropy', optimizer='adam', metrics=['accuracy'])"
   ]
  },
  {
   "cell_type": "code",
   "execution_count": 32,
   "id": "be1e74e3-6ca4-4e72-974c-4b8ff40d9e44",
   "metadata": {},
   "outputs": [
    {
     "name": "stdout",
     "output_type": "stream",
     "text": [
      "Epoch 1/10\n",
      "782/782 [==============================] - 4s 4ms/step - loss: 0.4865 - accuracy: 0.7482 - val_loss: 0.4071 - val_accuracy: 0.8152\n",
      "Epoch 2/10\n",
      "782/782 [==============================] - 3s 4ms/step - loss: 0.2397 - accuracy: 0.9066 - val_loss: 0.4041 - val_accuracy: 0.8205\n",
      "Epoch 3/10\n",
      "782/782 [==============================] - 3s 4ms/step - loss: 0.0962 - accuracy: 0.9750 - val_loss: 0.5120 - val_accuracy: 0.8073\n",
      "Epoch 4/10\n",
      "782/782 [==============================] - 3s 4ms/step - loss: 0.0251 - accuracy: 0.9968 - val_loss: 0.5936 - val_accuracy: 0.8095\n",
      "Epoch 5/10\n",
      "782/782 [==============================] - 3s 4ms/step - loss: 0.0065 - accuracy: 0.9994 - val_loss: 0.6813 - val_accuracy: 0.8081\n",
      "Epoch 6/10\n",
      "782/782 [==============================] - 3s 4ms/step - loss: 0.0024 - accuracy: 0.9999 - val_loss: 0.7377 - val_accuracy: 0.8110\n",
      "Epoch 7/10\n",
      "782/782 [==============================] - 3s 4ms/step - loss: 0.0012 - accuracy: 0.9999 - val_loss: 0.7916 - val_accuracy: 0.8101\n",
      "Epoch 8/10\n",
      "782/782 [==============================] - 3s 4ms/step - loss: 5.1385e-04 - accuracy: 1.0000 - val_loss: 0.8402 - val_accuracy: 0.8111\n",
      "Epoch 9/10\n",
      "782/782 [==============================] - 3s 4ms/step - loss: 2.8015e-04 - accuracy: 1.0000 - val_loss: 0.8838 - val_accuracy: 0.8118\n",
      "Epoch 10/10\n",
      "782/782 [==============================] - 3s 4ms/step - loss: 1.6901e-04 - accuracy: 1.0000 - val_loss: 0.9298 - val_accuracy: 0.8117\n",
      "CPU times: total: 1min 8s\n",
      "Wall time: 28.9 s\n"
     ]
    }
   ],
   "source": [
    "%%time\n",
    "\n",
    "history = model.fit(trn_sqs, trn_lbs, epochs=10, validation_data=(tst_sqs, tst_lbs))"
   ]
  },
  {
   "cell_type": "code",
   "execution_count": 51,
   "id": "9d903772-c133-4f6e-b5d0-2f2fbce54e41",
   "metadata": {},
   "outputs": [
    {
     "data": {
      "text/plain": [
       "<module 'utilities' from 'C:\\\\Users\\\\Jing Lin\\\\Documents\\\\code\\\\coursera-tensorflow-cert\\\\utilities.py'>"
      ]
     },
     "execution_count": 51,
     "metadata": {},
     "output_type": "execute_result"
    }
   ],
   "source": [
    "import utilities\n",
    "\n",
    "from importlib import reload\n",
    "reload(utilities)"
   ]
  },
  {
   "cell_type": "code",
   "execution_count": 36,
   "id": "aff1b745-5826-4b52-97a7-8064d7bed273",
   "metadata": {},
   "outputs": [
    {
     "data": {
      "image/png": "[encoded data removed]",
      "text/plain": [
       "<Figure size 1008x288 with 2 Axes>"
      ]
     },
     "metadata": {
      "needs_background": "light"
     },
     "output_type": "display_data"
    }
   ],
   "source": [
    "utilities.plot_train_val_metrics(history, metrics=('loss', 'accuracy'))"
   ]
  },
  {
   "cell_type": "code",
   "execution_count": 40,
   "id": "96d6fdc6-825b-4fda-aee9-3806bb267179",
   "metadata": {},
   "outputs": [
    {
     "data": {
      "text/plain": [
       "(10000, 16)"
      ]
     },
     "execution_count": 40,
     "metadata": {},
     "output_type": "execute_result"
    }
   ],
   "source": [
    "model.layers[0].get_weights()[0].shape"
   ]
  },
  {
   "cell_type": "code",
   "execution_count": 52,
   "id": "d402a376-2fb9-445b-bc87-d14d2d95af48",
   "metadata": {},
   "outputs": [],
   "source": [
    "utilities.save_tsv(model, tokenizer, os.path.join('data', 'imdb', 'imdb'))"
   ]
  },
  {
   "cell_type": "code",
   "execution_count": 55,
   "id": "ef581009-2bc8-4711-b63e-54a0b3c42c55",
   "metadata": {},
   "outputs": [
    {
     "name": "stdout",
     "output_type": "stream",
     "text": [
      "Model: \"sequential_3\"\n",
      "_________________________________________________________________\n",
      " Layer (type)                Output Shape              Param #   \n",
      "=================================================================\n",
      " embedding_3 (Embedding)     (None, 120, 16)           160000    \n",
      "                                                                 \n",
      " global_average_pooling1d_1   (None, 16)               0         \n",
      " (GlobalAveragePooling1D)                                        \n",
      "                                                                 \n",
      " dense_6 (Dense)             (None, 6)                 102       \n",
      "                                                                 \n",
      " dense_7 (Dense)             (None, 1)                 7         \n",
      "                                                                 \n",
      "=================================================================\n",
      "Total params: 160,109\n",
      "Trainable params: 160,109\n",
      "Non-trainable params: 0\n",
      "_________________________________________________________________\n"
     ]
    }
   ],
   "source": [
    "model2 = keras.models.Sequential([\n",
    "    keras.layers.Embedding(num_words, embed_d, input_length=maxlen),\n",
    "    keras.layers.GlobalAveragePooling1D(),\n",
    "    keras.layers.Dense(6, activation='relu'),\n",
    "    keras.layers.Dense(1, activation='sigmoid'),\n",
    "])\n",
    "\n",
    "model2.summary()\n",
    "\n",
    "model2.compile(loss='binary_crossentropy', optimizer='adam', metrics=['accuracy'])"
   ]
  },
  {
   "cell_type": "code",
   "execution_count": 56,
   "id": "4ec60eb9-8d7d-44ed-9877-9e070b188b0c",
   "metadata": {},
   "outputs": [
    {
     "name": "stdout",
     "output_type": "stream",
     "text": [
      "Epoch 1/10\n",
      "782/782 [==============================] - 4s 4ms/step - loss: 0.5638 - accuracy: 0.7474 - val_loss: 0.4279 - val_accuracy: 0.8168\n",
      "Epoch 2/10\n",
      "782/782 [==============================] - 3s 4ms/step - loss: 0.3427 - accuracy: 0.8585 - val_loss: 0.3742 - val_accuracy: 0.8328\n",
      "Epoch 3/10\n",
      "782/782 [==============================] - 3s 4ms/step - loss: 0.2769 - accuracy: 0.8876 - val_loss: 0.3724 - val_accuracy: 0.8352\n",
      "Epoch 4/10\n",
      "782/782 [==============================] - 3s 4ms/step - loss: 0.2397 - accuracy: 0.9060 - val_loss: 0.3818 - val_accuracy: 0.8346\n",
      "Epoch 5/10\n",
      "782/782 [==============================] - 3s 4ms/step - loss: 0.2137 - accuracy: 0.9195 - val_loss: 0.4031 - val_accuracy: 0.8303\n",
      "Epoch 6/10\n",
      "782/782 [==============================] - 3s 4ms/step - loss: 0.1921 - accuracy: 0.9300 - val_loss: 0.4286 - val_accuracy: 0.8262\n",
      "Epoch 7/10\n",
      "782/782 [==============================] - 3s 4ms/step - loss: 0.1744 - accuracy: 0.9377 - val_loss: 0.4595 - val_accuracy: 0.8203\n",
      "Epoch 8/10\n",
      "782/782 [==============================] - 3s 4ms/step - loss: 0.1597 - accuracy: 0.9441 - val_loss: 0.4935 - val_accuracy: 0.8175\n",
      "Epoch 9/10\n",
      "782/782 [==============================] - 3s 4ms/step - loss: 0.1459 - accuracy: 0.9496 - val_loss: 0.5283 - val_accuracy: 0.8123\n",
      "Epoch 10/10\n",
      "782/782 [==============================] - 3s 4ms/step - loss: 0.1341 - accuracy: 0.9544 - val_loss: 0.5646 - val_accuracy: 0.8083\n",
      "CPU times: total: 1min 3s\n",
      "Wall time: 29 s\n"
     ]
    }
   ],
   "source": [
    "%%time\n",
    "\n",
    "history2 = model2.fit(trn_sqs, trn_lbs, epochs=10, validation_data=(tst_sqs, tst_lbs))"
   ]
  },
  {
   "cell_type": "code",
   "execution_count": 57,
   "id": "20ac261c-7384-45c8-a0c1-2e84d7c8cfb9",
   "metadata": {},
   "outputs": [
    {
     "data": {
      "image/png": "[encoded data removed]",
      "text/plain": [
       "<Figure size 1008x288 with 2 Axes>"
      ]
     },
     "metadata": {
      "needs_background": "light"
     },
     "output_type": "display_data"
    }
   ],
   "source": [
    "utilities.plot_train_val_metrics(history2, metrics=('loss', 'accuracy'))"
   ]
  },
  {
   "cell_type": "code",
   "execution_count": 58,
   "id": "edc1f1e0-7575-41ae-b5e5-87c32b9ecec6",
   "metadata": {},
   "outputs": [],
   "source": [
    "utilities.save_tsv(model, tokenizer, os.path.join('data', 'imdb', 'imdb-pool'))"
   ]
  }
 ],
 "metadata": {
  "kernelspec": {
   "display_name": "Python 3 (ipykernel)",
   "language": "python",
   "name": "python3"
  },
  "language_info": {
   "codemirror_mode": {
    "name": "ipython",
    "version": 3
   },
   "file_extension": ".py",
   "mimetype": "text/x-python",
   "name": "python",
   "nbconvert_exporter": "python",
   "pygments_lexer": "ipython3",
   "version": "3.9.12"
  },
  "widgets": {
   "application/vnd.jupyter.widget-state+json": {
    "state": {
     "02510fe688574eeabda007888861c48d": {
      "model_module": "@jupyter-widgets/base",
      "model_module_version": "1.2.0",
      "model_name": "LayoutModel",
      "state": {}
     },
     "04da0ddc1fd84c7aa9a904b0fa833bd1": {
      "model_module": "@jupyter-widgets/controls",
      "model_module_version": "1.5.0",
      "model_name": "HTMLModel",
      "state": {
       "layout": "IPY_MODEL_6ca3e69d75464677b1bbaa8adcaadfcb",
       "style": "IPY_MODEL_4be092bbfabd469f97ecedf374f99a4d",
       "value": "Shuffling ~\\tensorflow_datasets\\imdb_reviews\\plain_text\\1.0.0.incompleteQN7CFI\\imdb_reviews-train.tfrecord*...:  88%"
      }
     },
     "05975c4ca6a64cf398f5b66ccbc70013": {
      "model_module": "@jupyter-widgets/controls",
      "model_module_version": "1.5.0",
      "model_name": "ProgressStyleModel",
      "state": {
       "description_width": ""
      }
     },
     "087d1051336649d8a7817e99f62b1bc7": {
      "model_module": "@jupyter-widgets/base",
      "model_module_version": "1.2.0",
      "model_name": "LayoutModel",
      "state": {}
     },
     "09e4d0678524443ea3a33d66a3f73939": {
      "model_module": "@jupyter-widgets/controls",
      "model_module_version": "1.5.0",
      "model_name": "FloatProgressModel",
      "state": {
       "bar_style": "info",
       "layout": "IPY_MODEL_7a35a88974c445d89545ca623d5b9da8",
       "max": 1,
       "style": "IPY_MODEL_22500be043bf45958a1f4e30a209e1e6",
       "value": 1
      }
     },
     "0be6e794c32b453491568126b1f1e5a9": {
      "model_module": "@jupyter-widgets/controls",
      "model_module_version": "1.5.0",
      "model_name": "DescriptionStyleModel",
      "state": {
       "description_width": ""
      }
     },
     "0beb9e8799aa422d878005e102006e8b": {
      "model_module": "@jupyter-widgets/controls",
      "model_module_version": "1.5.0",
      "model_name": "DescriptionStyleModel",
      "state": {
       "description_width": ""
      }
     },
     "108bad2b09054101ba964413012f6db0": {
      "model_module": "@jupyter-widgets/controls",
      "model_module_version": "1.5.0",
      "model_name": "FloatProgressModel",
      "state": {
       "bar_style": "info",
       "layout": "IPY_MODEL_ec5a680f02c748b79cc39b03ceda535a",
       "max": 1,
       "style": "IPY_MODEL_d50ed0a302ac477291ec1d958bd8491f",
       "value": 1
      }
     },
     "116fa7d783f647db9d5ee96203b8f963": {
      "model_module": "@jupyter-widgets/controls",
      "model_module_version": "1.5.0",
      "model_name": "HTMLModel",
      "state": {
       "layout": "IPY_MODEL_565b1b77acb44f3695761d9104e76f86",
       "style": "IPY_MODEL_1e551a59d3214da5a6044cc9a51f0dde",
       "value": " 24894/? [00:15&lt;00:00, 1956.01 examples/s]"
      }
     },
     "11b837d2bd064ab6aca4db78373ae623": {
      "model_module": "@jupyter-widgets/controls",
      "model_module_version": "1.5.0",
      "model_name": "FloatProgressModel",
      "state": {
       "bar_style": "success",
       "layout": "IPY_MODEL_a700eee177b840bc8dcf4bf70b803c71",
       "max": 1,
       "style": "IPY_MODEL_e172f6c801464c869851cd25b633a731",
       "value": 1
      }
     },
     "16586a42714844359ff880348738aaf3": {
      "model_module": "@jupyter-widgets/controls",
      "model_module_version": "1.5.0",
      "model_name": "FloatProgressModel",
      "state": {
       "layout": "IPY_MODEL_36a99dbe9154470791fa58d8d21b29a7",
       "max": 25000,
       "style": "IPY_MODEL_51ca245760f64402bb5205f4d1b3f5bf",
       "value": 25000
      }
     },
     "1756c6c1d68c4d4e8e9baaad83bcc080": {
      "model_module": "@jupyter-widgets/controls",
      "model_module_version": "1.5.0",
      "model_name": "DescriptionStyleModel",
      "state": {
       "description_width": ""
      }
     },
     "1a32e4e61d8a4c48883cc110e5f68c55": {
      "model_module": "@jupyter-widgets/base",
      "model_module_version": "1.2.0",
      "model_name": "LayoutModel",
      "state": {}
     },
     "1e551a59d3214da5a6044cc9a51f0dde": {
      "model_module": "@jupyter-widgets/controls",
      "model_module_version": "1.5.0",
      "model_name": "DescriptionStyleModel",
      "state": {
       "description_width": ""
      }
     },
     "2049f4f21bfd4eb487b3ebcd27a19671": {
      "model_module": "@jupyter-widgets/base",
      "model_module_version": "1.2.0",
      "model_name": "LayoutModel",
      "state": {}
     },
     "20aeda7570c64217bd0e4148dd1ac929": {
      "model_module": "@jupyter-widgets/base",
      "model_module_version": "1.2.0",
      "model_name": "LayoutModel",
      "state": {}
     },
     "22500be043bf45958a1f4e30a209e1e6": {
      "model_module": "@jupyter-widgets/controls",
      "model_module_version": "1.5.0",
      "model_name": "ProgressStyleModel",
      "state": {
       "description_width": ""
      }
     },
     "22e83125b4d94e019e88b83a6649f20d": {
      "model_module": "@jupyter-widgets/base",
      "model_module_version": "1.2.0",
      "model_name": "LayoutModel",
      "state": {}
     },
     "251e563ae56c4212bd8c1851575ee393": {
      "model_module": "@jupyter-widgets/controls",
      "model_module_version": "1.5.0",
      "model_name": "DescriptionStyleModel",
      "state": {
       "description_width": ""
      }
     },
     "26460bc52aad40278bafbfa70d0eb81d": {
      "model_module": "@jupyter-widgets/controls",
      "model_module_version": "1.5.0",
      "model_name": "HTMLModel",
      "state": {
       "layout": "IPY_MODEL_f62932cf6dff4533b9914dbda7662db6",
       "style": "IPY_MODEL_251e563ae56c4212bd8c1851575ee393",
       "value": "Generating unsupervised examples...: "
      }
     },
     "268c0d32260c4a2192e191698b1551ce": {
      "model_module": "@jupyter-widgets/base",
      "model_module_version": "1.2.0",
      "model_name": "LayoutModel",
      "state": {}
     },
     "29f00aa3a959414e8426d8fe89f81378": {
      "model_module": "@jupyter-widgets/base",
      "model_module_version": "1.2.0",
      "model_name": "LayoutModel",
      "state": {}
     },
     "2cab59269f54460483eb6cd0a0e12e15": {
      "model_module": "@jupyter-widgets/base",
      "model_module_version": "1.2.0",
      "model_name": "LayoutModel",
      "state": {}
     },
     "36a99dbe9154470791fa58d8d21b29a7": {
      "model_module": "@jupyter-widgets/base",
      "model_module_version": "1.2.0",
      "model_name": "LayoutModel",
      "state": {}
     },
     "386f88ed1df5441086a4f8cd9a03468e": {
      "model_module": "@jupyter-widgets/controls",
      "model_module_version": "1.5.0",
      "model_name": "DescriptionStyleModel",
      "state": {
       "description_width": ""
      }
     },
     "38c64f6086fb479e886fac4e7c710eb9": {
      "model_module": "@jupyter-widgets/base",
      "model_module_version": "1.2.0",
      "model_name": "LayoutModel",
      "state": {}
     },
     "3bd6a104b1b34c52933cd21dd52c8146": {
      "model_module": "@jupyter-widgets/controls",
      "model_module_version": "1.5.0",
      "model_name": "DescriptionStyleModel",
      "state": {
       "description_width": ""
      }
     },
     "3d3038505e6143f99b9eae751278dfc9": {
      "model_module": "@jupyter-widgets/controls",
      "model_module_version": "1.5.0",
      "model_name": "DescriptionStyleModel",
      "state": {
       "description_width": ""
      }
     },
     "420d2d3874924a09b806439e13f6d509": {
      "model_module": "@jupyter-widgets/controls",
      "model_module_version": "1.5.0",
      "model_name": "HTMLModel",
      "state": {
       "layout": "IPY_MODEL_7e1a04cca480449c9a82bda55352f76e",
       "style": "IPY_MODEL_386f88ed1df5441086a4f8cd9a03468e",
       "value": "Generating train examples...: "
      }
     },
     "4621c1945f9a4a8e8a173c71be7cfca4": {
      "model_module": "@jupyter-widgets/controls",
      "model_module_version": "1.5.0",
      "model_name": "DescriptionStyleModel",
      "state": {
       "description_width": ""
      }
     },
     "480efaff7b704b95abce29ce14ebcd9c": {
      "model_module": "@jupyter-widgets/controls",
      "model_module_version": "1.5.0",
      "model_name": "HTMLModel",
      "state": {
       "layout": "IPY_MODEL_2049f4f21bfd4eb487b3ebcd27a19671",
       "style": "IPY_MODEL_d8a2177fd71143f98791ec06221ccc68",
       "value": "Generating splits...: 100%"
      }
     },
     "48bdf6ba3ad949c385ac85209d130277": {
      "model_module": "@jupyter-widgets/controls",
      "model_module_version": "1.5.0",
      "model_name": "DescriptionStyleModel",
      "state": {
       "description_width": ""
      }
     },
     "495c1ed15a624a309c68c96fb39e79b1": {
      "model_module": "@jupyter-widgets/controls",
      "model_module_version": "1.5.0",
      "model_name": "DescriptionStyleModel",
      "state": {
       "description_width": ""
      }
     },
     "4be092bbfabd469f97ecedf374f99a4d": {
      "model_module": "@jupyter-widgets/controls",
      "model_module_version": "1.5.0",
      "model_name": "DescriptionStyleModel",
      "state": {
       "description_width": ""
      }
     },
     "51ca245760f64402bb5205f4d1b3f5bf": {
      "model_module": "@jupyter-widgets/controls",
      "model_module_version": "1.5.0",
      "model_name": "ProgressStyleModel",
      "state": {
       "description_width": ""
      }
     },
     "53387b7fc5ed4a3a94488517474a6ace": {
      "model_module": "@jupyter-widgets/controls",
      "model_module_version": "1.5.0",
      "model_name": "HTMLModel",
      "state": {
       "layout": "IPY_MODEL_1a32e4e61d8a4c48883cc110e5f68c55",
       "style": "IPY_MODEL_495c1ed15a624a309c68c96fb39e79b1",
       "value": " 47734/50000 [00:00&lt;00:00, 53041.03 examples/s]"
      }
     },
     "553a48572863492c86f1859181e1fb8e": {
      "model_module": "@jupyter-widgets/base",
      "model_module_version": "1.2.0",
      "model_name": "LayoutModel",
      "state": {}
     },
     "565b1b77acb44f3695761d9104e76f86": {
      "model_module": "@jupyter-widgets/base",
      "model_module_version": "1.2.0",
      "model_name": "LayoutModel",
      "state": {}
     },
     "5729fe5372ea45f3b8f3baa7165ff8e5": {
      "model_module": "@jupyter-widgets/base",
      "model_module_version": "1.2.0",
      "model_name": "LayoutModel",
      "state": {}
     },
     "58aebf86455f47af876edf70ec4faaf7": {
      "model_module": "@jupyter-widgets/controls",
      "model_module_version": "1.5.0",
      "model_name": "ProgressStyleModel",
      "state": {
       "description_width": ""
      }
     },
     "5cd9f17f2d3f4c979427b3500a515761": {
      "model_module": "@jupyter-widgets/controls",
      "model_module_version": "1.5.0",
      "model_name": "DescriptionStyleModel",
      "state": {
       "description_width": ""
      }
     },
     "5f5ecc98e0254544930e02a3a702ec4b": {
      "model_module": "@jupyter-widgets/controls",
      "model_module_version": "1.5.0",
      "model_name": "FloatProgressModel",
      "state": {
       "layout": "IPY_MODEL_38c64f6086fb479e886fac4e7c710eb9",
       "max": 3,
       "style": "IPY_MODEL_58aebf86455f47af876edf70ec4faaf7",
       "value": 3
      }
     },
     "636db398f14f49d3b1c0a89e819eaaba": {
      "model_module": "@jupyter-widgets/base",
      "model_module_version": "1.2.0",
      "model_name": "LayoutModel",
      "state": {}
     },
     "6631a89b76ae4368a6519011a3ceb40c": {
      "model_module": "@jupyter-widgets/base",
      "model_module_version": "1.2.0",
      "model_name": "LayoutModel",
      "state": {}
     },
     "6c33d5719a264c6fbab8c9ba57a79c7b": {
      "model_module": "@jupyter-widgets/controls",
      "model_module_version": "1.5.0",
      "model_name": "FloatProgressModel",
      "state": {
       "bar_style": "success",
       "layout": "IPY_MODEL_a85d242aaa3c4b56860205844cb08884",
       "max": 1,
       "style": "IPY_MODEL_05975c4ca6a64cf398f5b66ccbc70013",
       "value": 1
      }
     },
     "6ca3e69d75464677b1bbaa8adcaadfcb": {
      "model_module": "@jupyter-widgets/base",
      "model_module_version": "1.2.0",
      "model_name": "LayoutModel",
      "state": {}
     },
     "702ca9a3e16044d79dde569999347609": {
      "model_module": "@jupyter-widgets/base",
      "model_module_version": "1.2.0",
      "model_name": "LayoutModel",
      "state": {}
     },
     "778359cdbd8b4bdeaf4a1072b7f5b601": {
      "model_module": "@jupyter-widgets/controls",
      "model_module_version": "1.5.0",
      "model_name": "DescriptionStyleModel",
      "state": {
       "description_width": ""
      }
     },
     "77ba05f60b834109b90ff31a35bb8b63": {
      "model_module": "@jupyter-widgets/controls",
      "model_module_version": "1.5.0",
      "model_name": "HTMLModel",
      "state": {
       "layout": "IPY_MODEL_fd5dd077574c4673a712b4cab4a04d45",
       "style": "IPY_MODEL_778359cdbd8b4bdeaf4a1072b7f5b601",
       "value": " 1/1 [04:50&lt;00:00, 290.79s/ url]"
      }
     },
     "7a35a88974c445d89545ca623d5b9da8": {
      "model_module": "@jupyter-widgets/base",
      "model_module_version": "1.2.0",
      "model_name": "LayoutModel",
      "state": {
       "width": "20px"
      }
     },
     "7e1a04cca480449c9a82bda55352f76e": {
      "model_module": "@jupyter-widgets/base",
      "model_module_version": "1.2.0",
      "model_name": "LayoutModel",
      "state": {}
     },
     "86fa9da0e18c46749e172b76377dfcdc": {
      "model_module": "@jupyter-widgets/base",
      "model_module_version": "1.2.0",
      "model_name": "LayoutModel",
      "state": {}
     },
     "8d1c99c7d0814bc48d5b82934400d8a6": {
      "model_module": "@jupyter-widgets/base",
      "model_module_version": "1.2.0",
      "model_name": "LayoutModel",
      "state": {
       "width": "20px"
      }
     },
     "90dff7c6b56f4c2591f300f8f9698d3f": {
      "model_module": "@jupyter-widgets/controls",
      "model_module_version": "1.5.0",
      "model_name": "ProgressStyleModel",
      "state": {
       "description_width": ""
      }
     },
     "95ef7f41020f4534811caeac1e30eb62": {
      "model_module": "@jupyter-widgets/controls",
      "model_module_version": "1.5.0",
      "model_name": "HBoxModel",
      "state": {
       "children": [
        "IPY_MODEL_963ad92508de43ba81d72e4724249ac8",
        "IPY_MODEL_6c33d5719a264c6fbab8c9ba57a79c7b",
        "IPY_MODEL_77ba05f60b834109b90ff31a35bb8b63"
       ],
       "layout": "IPY_MODEL_5729fe5372ea45f3b8f3baa7165ff8e5"
      }
     },
     "963ad92508de43ba81d72e4724249ac8": {
      "model_module": "@jupyter-widgets/controls",
      "model_module_version": "1.5.0",
      "model_name": "HTMLModel",
      "state": {
       "layout": "IPY_MODEL_a6536a7b51ec41da8353b4a0af193888",
       "style": "IPY_MODEL_48bdf6ba3ad949c385ac85209d130277",
       "value": "Dl Completed...: 100%"
      }
     },
     "978289bf8feb4ab4ad09ad3a3e93808e": {
      "model_module": "@jupyter-widgets/controls",
      "model_module_version": "1.5.0",
      "model_name": "HTMLModel",
      "state": {
       "layout": "IPY_MODEL_9e5bf8326aa74730bdcb18a162697b5b",
       "style": "IPY_MODEL_0be6e794c32b453491568126b1f1e5a9",
       "value": " 20241/25000 [00:00&lt;00:00, 53559.56 examples/s]"
      }
     },
     "97d03e9a332d42efb8d47bfa357f4b78": {
      "model_module": "@jupyter-widgets/controls",
      "model_module_version": "1.5.0",
      "model_name": "DescriptionStyleModel",
      "state": {
       "description_width": ""
      }
     },
     "9d35948576964c299f2b87be9d340ba9": {
      "model_module": "@jupyter-widgets/base",
      "model_module_version": "1.2.0",
      "model_name": "LayoutModel",
      "state": {}
     },
     "9e5bf8326aa74730bdcb18a162697b5b": {
      "model_module": "@jupyter-widgets/base",
      "model_module_version": "1.2.0",
      "model_name": "LayoutModel",
      "state": {}
     },
     "9f2743b6cc324e49be9395abb1a0da4a": {
      "model_module": "@jupyter-widgets/controls",
      "model_module_version": "1.5.0",
      "model_name": "HTMLModel",
      "state": {
       "layout": "IPY_MODEL_d608b9673285499e9cb61749704c637f",
       "style": "IPY_MODEL_0beb9e8799aa422d878005e102006e8b",
       "value": " 24829/? [00:13&lt;00:00, 1990.21 examples/s]"
      }
     },
     "a6536a7b51ec41da8353b4a0af193888": {
      "model_module": "@jupyter-widgets/base",
      "model_module_version": "1.2.0",
      "model_name": "LayoutModel",
      "state": {}
     },
     "a700eee177b840bc8dcf4bf70b803c71": {
      "model_module": "@jupyter-widgets/base",
      "model_module_version": "1.2.0",
      "model_name": "LayoutModel",
      "state": {
       "width": "20px"
      }
     },
     "a85d242aaa3c4b56860205844cb08884": {
      "model_module": "@jupyter-widgets/base",
      "model_module_version": "1.2.0",
      "model_name": "LayoutModel",
      "state": {
       "width": "20px"
      }
     },
     "a8c03f47cce940c487c67f9a169bea1e": {
      "model_module": "@jupyter-widgets/controls",
      "model_module_version": "1.5.0",
      "model_name": "HTMLModel",
      "state": {
       "layout": "IPY_MODEL_ad0149f0c7c840468cb5fe7349f98209",
       "style": "IPY_MODEL_3bd6a104b1b34c52933cd21dd52c8146",
       "value": " 21932/25000 [00:00&lt;00:00, 57119.92 examples/s]"
      }
     },
     "ad0149f0c7c840468cb5fe7349f98209": {
      "model_module": "@jupyter-widgets/base",
      "model_module_version": "1.2.0",
      "model_name": "LayoutModel",
      "state": {}
     },
     "b74c19cf14234e8fa3a05369988b47ec": {
      "model_module": "@jupyter-widgets/base",
      "model_module_version": "1.2.0",
      "model_name": "LayoutModel",
      "state": {}
     },
     "badcda8cae0f4e759b93857f4a77664f": {
      "model_module": "@jupyter-widgets/base",
      "model_module_version": "1.2.0",
      "model_name": "LayoutModel",
      "state": {}
     },
     "bed2c1ad7fa442538695540bbefe951c": {
      "model_module": "@jupyter-widgets/controls",
      "model_module_version": "1.5.0",
      "model_name": "HTMLModel",
      "state": {
       "layout": "IPY_MODEL_087d1051336649d8a7817e99f62b1bc7",
       "style": "IPY_MODEL_1756c6c1d68c4d4e8e9baaad83bcc080",
       "value": " 3/3 [01:13&lt;00:00, 25.73s/ splits]"
      }
     },
     "c1192f4fd14b4979a512357813d9a362": {
      "model_module": "@jupyter-widgets/controls",
      "model_module_version": "1.5.0",
      "model_name": "ProgressStyleModel",
      "state": {
       "description_width": ""
      }
     },
     "c2e49e46fc14498590bf399b741c0a7b": {
      "model_module": "@jupyter-widgets/controls",
      "model_module_version": "1.5.0",
      "model_name": "FloatProgressModel",
      "state": {
       "layout": "IPY_MODEL_20aeda7570c64217bd0e4148dd1ac929",
       "max": 25000,
       "style": "IPY_MODEL_c1192f4fd14b4979a512357813d9a362",
       "value": 25000
      }
     },
     "c7a7c6a7e2cf498787c9076d81591500": {
      "model_module": "@jupyter-widgets/controls",
      "model_module_version": "1.5.0",
      "model_name": "FloatProgressModel",
      "state": {
       "bar_style": "info",
       "layout": "IPY_MODEL_8d1c99c7d0814bc48d5b82934400d8a6",
       "max": 1,
       "style": "IPY_MODEL_90dff7c6b56f4c2591f300f8f9698d3f",
       "value": 1
      }
     },
     "c7d478bec0924dfcbb5ac03955dea42e": {
      "model_module": "@jupyter-widgets/controls",
      "model_module_version": "1.5.0",
      "model_name": "HTMLModel",
      "state": {
       "layout": "IPY_MODEL_b74c19cf14234e8fa3a05369988b47ec",
       "style": "IPY_MODEL_e0779c3025e24492a74cb0fbe9227c33",
       "value": "Generating test examples...: "
      }
     },
     "c80e2c5a55f54373a8b1874e5c848d17": {
      "model_module": "@jupyter-widgets/base",
      "model_module_version": "1.2.0",
      "model_name": "LayoutModel",
      "state": {}
     },
     "cf11d514d98c44b9a00fda069ce38b65": {
      "model_module": "@jupyter-widgets/controls",
      "model_module_version": "1.5.0",
      "model_name": "FloatProgressModel",
      "state": {
       "layout": "IPY_MODEL_29f00aa3a959414e8426d8fe89f81378",
       "max": 50000,
       "style": "IPY_MODEL_eb029a24f94c425e9d9c21ada4da0281",
       "value": 50000
      }
     },
     "d1256c0d837e44dea64f7d3afac0a72e": {
      "model_module": "@jupyter-widgets/controls",
      "model_module_version": "1.5.0",
      "model_name": "HTMLModel",
      "state": {
       "layout": "IPY_MODEL_2cab59269f54460483eb6cd0a0e12e15",
       "style": "IPY_MODEL_4621c1945f9a4a8e8a173c71be7cfca4",
       "value": " 80/80 [04:50&lt;00:00,  3.47s/ MiB]"
      }
     },
     "d50ed0a302ac477291ec1d958bd8491f": {
      "model_module": "@jupyter-widgets/controls",
      "model_module_version": "1.5.0",
      "model_name": "ProgressStyleModel",
      "state": {
       "description_width": ""
      }
     },
     "d608b9673285499e9cb61749704c637f": {
      "model_module": "@jupyter-widgets/base",
      "model_module_version": "1.2.0",
      "model_name": "LayoutModel",
      "state": {}
     },
     "d7330574323749d0950d7204538db596": {
      "model_module": "@jupyter-widgets/base",
      "model_module_version": "1.2.0",
      "model_name": "LayoutModel",
      "state": {}
     },
     "d8a2177fd71143f98791ec06221ccc68": {
      "model_module": "@jupyter-widgets/controls",
      "model_module_version": "1.5.0",
      "model_name": "DescriptionStyleModel",
      "state": {
       "description_width": ""
      }
     },
     "da5b34d06d3f461b83c02e5b233fd613": {
      "model_module": "@jupyter-widgets/controls",
      "model_module_version": "1.5.0",
      "model_name": "HTMLModel",
      "state": {
       "layout": "IPY_MODEL_9d35948576964c299f2b87be9d340ba9",
       "style": "IPY_MODEL_5cd9f17f2d3f4c979427b3500a515761",
       "value": "Dl Size...: 100%"
      }
     },
     "deaab250ff7d4edb8524a8ea626bdc6c": {
      "model_module": "@jupyter-widgets/controls",
      "model_module_version": "1.5.0",
      "model_name": "HTMLModel",
      "state": {
       "layout": "IPY_MODEL_6631a89b76ae4368a6519011a3ceb40c",
       "style": "IPY_MODEL_3d3038505e6143f99b9eae751278dfc9",
       "value": "Shuffling ~\\tensorflow_datasets\\imdb_reviews\\plain_text\\1.0.0.incompleteQN7CFI\\imdb_reviews-unsupervised.tfrecord*...:  95%"
      }
     },
     "e0779c3025e24492a74cb0fbe9227c33": {
      "model_module": "@jupyter-widgets/controls",
      "model_module_version": "1.5.0",
      "model_name": "DescriptionStyleModel",
      "state": {
       "description_width": ""
      }
     },
     "e172f6c801464c869851cd25b633a731": {
      "model_module": "@jupyter-widgets/controls",
      "model_module_version": "1.5.0",
      "model_name": "ProgressStyleModel",
      "state": {
       "description_width": ""
      }
     },
     "e8d09ece3c5d46a89652a48fa584d434": {
      "model_module": "@jupyter-widgets/controls",
      "model_module_version": "1.5.0",
      "model_name": "HTMLModel",
      "state": {
       "layout": "IPY_MODEL_702ca9a3e16044d79dde569999347609",
       "style": "IPY_MODEL_eefd5882c57b429b87623c5ddc985b4c",
       "value": "Shuffling ~\\tensorflow_datasets\\imdb_reviews\\plain_text\\1.0.0.incompleteQN7CFI\\imdb_reviews-test.tfrecord*...:  81%"
      }
     },
     "eb029a24f94c425e9d9c21ada4da0281": {
      "model_module": "@jupyter-widgets/controls",
      "model_module_version": "1.5.0",
      "model_name": "ProgressStyleModel",
      "state": {
       "description_width": ""
      }
     },
     "ec5a680f02c748b79cc39b03ceda535a": {
      "model_module": "@jupyter-widgets/base",
      "model_module_version": "1.2.0",
      "model_name": "LayoutModel",
      "state": {
       "width": "20px"
      }
     },
     "ee7c0b8f3f8a4df0a20e8bcddfe3ee92": {
      "model_module": "@jupyter-widgets/controls",
      "model_module_version": "1.5.0",
      "model_name": "HTMLModel",
      "state": {
       "layout": "IPY_MODEL_22e83125b4d94e019e88b83a6649f20d",
       "style": "IPY_MODEL_97d03e9a332d42efb8d47bfa357f4b78",
       "value": " 49981/? [00:30&lt;00:00, 1931.08 examples/s]"
      }
     },
     "eefd5882c57b429b87623c5ddc985b4c": {
      "model_module": "@jupyter-widgets/controls",
      "model_module_version": "1.5.0",
      "model_name": "DescriptionStyleModel",
      "state": {
       "description_width": ""
      }
     },
     "efbade5581154ad0878240db023a98e7": {
      "model_module": "@jupyter-widgets/controls",
      "model_module_version": "1.5.0",
      "model_name": "HBoxModel",
      "state": {
       "children": [
        "IPY_MODEL_da5b34d06d3f461b83c02e5b233fd613",
        "IPY_MODEL_11b837d2bd064ab6aca4db78373ae623",
        "IPY_MODEL_d1256c0d837e44dea64f7d3afac0a72e"
       ],
       "layout": "IPY_MODEL_553a48572863492c86f1859181e1fb8e"
      }
     },
     "f62932cf6dff4533b9914dbda7662db6": {
      "model_module": "@jupyter-widgets/base",
      "model_module_version": "1.2.0",
      "model_name": "LayoutModel",
      "state": {}
     },
     "fd5dd077574c4673a712b4cab4a04d45": {
      "model_module": "@jupyter-widgets/base",
      "model_module_version": "1.2.0",
      "model_name": "LayoutModel",
      "state": {}
     }
    },
    "version_major": 2,
    "version_minor": 0
   }
  }
 },
 "nbformat": 4,
 "nbformat_minor": 5
}
