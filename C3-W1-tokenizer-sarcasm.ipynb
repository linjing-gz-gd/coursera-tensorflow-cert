{
 "cells": [
  {
   "cell_type": "code",
   "execution_count": 1,
   "id": "153a984f-9598-4a6c-8f6c-0170f0edae6c",
   "metadata": {},
   "outputs": [],
   "source": [
    "import numpy as np\n",
    "import matplotlib.pyplot as plt\n",
    "\n",
    "import os\n",
    "\n",
    "import tensorflow as tf\n",
    "from tensorflow import keras\n",
    "\n",
    "from tensorflow.keras.preprocessing.text import Tokenizer\n",
    "from tensorflow.keras.preprocessing.sequence import pad_sequences"
   ]
  },
  {
   "cell_type": "code",
   "execution_count": 2,
   "id": "8a4ca0e2-ba61-4720-94fc-7c834f49cd93",
   "metadata": {},
   "outputs": [
    {
     "name": "stdout",
     "output_type": "stream",
     "text": [
      "word index:\n",
      "{'<OOV>': 1, 'my': 2, 'love': 3, 'dog': 4, 'i': 5, 'you': 6, 'cat': 7, 'do': 8, 'think': 9, 'is': 10, 'amazing': 11}\n",
      "tokenized sequences stored in a <class 'list'>:\n",
      "[[5, 3, 2, 4], [5, 3, 2, 7], [6, 3, 2, 4], [8, 6, 9, 2, 4, 10, 11]]\n",
      "padded sequences stored in a (4, 5) <class 'numpy.ndarray'>:\n",
      "[[5 3 2 4 0]\n",
      " [5 3 2 7 0]\n",
      " [6 3 2 4 0]\n",
      " [8 6 9 2 4]]\n",
      "texts with unseen words:\n",
      "[[5, 1, 3, 2, 4], [2, 4, 1, 2, 1]]\n"
     ]
    }
   ],
   "source": [
    "corpus = [\n",
    "    'I love my dog.',\n",
    "    'I love my cat.',\n",
    "    'You love my dog.',\n",
    "    'Do you think my dog is amazing?',\n",
    "]\n",
    "\n",
    "# oov for Out Of Vocabulary\n",
    "tokenizer = Tokenizer(num_words=100, oov_token='<OOV>')\n",
    "\n",
    "tokenizer.fit_on_texts(corpus)\n",
    "\n",
    "# note that more frequent words have a lower index\n",
    "print('word index:')\n",
    "print(tokenizer.word_index)\n",
    "\n",
    "seqs = tokenizer.texts_to_sequences(corpus)\n",
    "print(f'tokenized sequences stored in a {type(seqs)}:')\n",
    "print(seqs)\n",
    "\n",
    "seqs = pad_sequences(\n",
    "    seqs,\n",
    "    padding='post',\n",
    "    maxlen=5,\n",
    "    truncating='post',\n",
    ")\n",
    "print(f'padded sequences stored in a {seqs.shape} {type(seqs)}:')\n",
    "print(seqs)\n",
    "\n",
    "newtxs = [\n",
    "    'i really love my dog!',\n",
    "    'my dog loves my manatee',\n",
    "]\n",
    "\n",
    "print('texts with unseen words:')\n",
    "print(tokenizer.texts_to_sequences(newtxs))"
   ]
  },
  {
   "cell_type": "code",
   "execution_count": 7,
   "id": "20e352ab-95bf-412d-9609-d7e096f109d8",
   "metadata": {},
   "outputs": [
    {
     "name": "stdout",
     "output_type": "stream",
     "text": [
      "word index:\n",
      "{'my': 1, 'love': 2, 'dog': 3, 'i': 4, 'you': 5, 'cat': 6, 'do': 7, 'think': 8, 'is': 9, 'amazing': 10}\n",
      "tokenized sequences:\n",
      "[[2, 1], [2, 1], [2, 1], [1]]\n",
      "texts with unseen words:\n",
      "[[2, 1], [1, 1]]\n"
     ]
    }
   ],
   "source": [
    "# num_words affects only the texts_to_sequences() transform, but not word_index.\n",
    "# Note also that the number of most frequent words kept is (num_words - 1)\n",
    "# words outside this top list will be omitted altogether\n",
    "tokenizer = Tokenizer(num_words=3)\n",
    "\n",
    "tokenizer.fit_on_texts(corpus)\n",
    "\n",
    "print('word index:')\n",
    "print(tokenizer.word_index)\n",
    "\n",
    "print('tokenized sequences:')\n",
    "print(tokenizer.texts_to_sequences(corpus))\n",
    "\n",
    "print('texts with unseen words:')\n",
    "print(tokenizer.texts_to_sequences(newtxs))"
   ]
  },
  {
   "cell_type": "code",
   "execution_count": 6,
   "id": "098f28f2-a2e1-4112-96c9-194d87ce184a",
   "metadata": {},
   "outputs": [
    {
     "name": "stdout",
     "output_type": "stream",
     "text": [
      "word index:\n",
      "{'<OOV>': 1, 'my': 2, 'love': 3, 'dog': 4, 'i': 5, 'you': 6, 'cat': 7, 'do': 8, 'think': 9, 'is': 10, 'amazing': 11}\n",
      "tokenized sequences:\n",
      "[[1, 1, 2, 1], [1, 1, 2, 1], [1, 1, 2, 1], [1, 1, 1, 2, 1, 1, 1]]\n",
      "texts with unseen words:\n",
      "[[1, 1, 1, 2, 1], [2, 1, 1, 2, 1]]\n"
     ]
    }
   ],
   "source": [
    "# However, if oov_token is specified, it will always be included in the top list,\n",
    "# so only (num_words - 2) most frequent words will be kept.\n",
    "# Moreover, all words outside this top list will be viewed as oov_token,\n",
    "# rather than being omitted, so length of text will not change\n",
    "tokenizer = Tokenizer(num_words=3, oov_token='<OOV>')\n",
    "\n",
    "tokenizer.fit_on_texts(corpus)\n",
    "\n",
    "print('word index:')\n",
    "print(tokenizer.word_index)\n",
    "\n",
    "print('tokenized sequences:')\n",
    "print(tokenizer.texts_to_sequences(corpus))\n",
    "\n",
    "print('texts with unseen words:')\n",
    "print(tokenizer.texts_to_sequences(newtxs))"
   ]
  },
  {
   "cell_type": "code",
   "execution_count": 115,
   "id": "c6edd50c-c34a-4cce-a74b-1f4bfbc462b8",
   "metadata": {},
   "outputs": [],
   "source": [
    "import urllib\n",
    "\n",
    "json_local = os.path.join('data', 'sarcasm.json')\n",
    "json_url = 'https://storage.googleapis.com/tensorflow-1-public/course3/sarcasm.json'\n",
    "\n",
    "if not os.path.exists(json_local):\n",
    "    urllib.request.urlretrieve(json_url, json_local)"
   ]
  },
  {
   "cell_type": "code",
   "execution_count": 36,
   "id": "92143672-540a-4efd-a947-c0f5b4125894",
   "metadata": {},
   "outputs": [
    {
     "name": "stdout",
     "output_type": "stream",
     "text": [
      "<class 'list'> 26709\n",
      "{'article_link': 'https://www.huffingtonpost.com/entry/versace-black-code_us_5861fbefe4b0de3a08f600d5', 'headline': \"former versace store clerk sues over secret 'black code' for minority shoppers\", 'is_sarcastic': 0}\n",
      "{'article_link': 'https://www.theonion.com/pediatricians-announce-2011-newborns-are-ugliest-babies-1819572977', 'headline': 'pediatricians announce 2011 newborns are ugliest babies in 30 years', 'is_sarcastic': 1}\n"
     ]
    }
   ],
   "source": [
    "import json\n",
    "\n",
    "with open(json_local) as file:\n",
    "    data = json.load(file)\n",
    "    \n",
    "print(type(data), len(data))\n",
    "print(data[0])\n",
    "print(data[20000])"
   ]
  },
  {
   "cell_type": "code",
   "execution_count": 108,
   "id": "cbd888a6-4f1d-48e5-8b09-154752769e1b",
   "metadata": {},
   "outputs": [
    {
     "name": "stdout",
     "output_type": "stream",
     "text": [
      "CPU times: total: 15.6 ms\n",
      "Wall time: 16.1 ms\n"
     ]
    }
   ],
   "source": [
    "%%time\n",
    "\n",
    "# this one-liner is not as fast as the dumb way,\n",
    "# most likely due to generating a large intermediate nested list\n",
    "# urls, hls, labels = zip(*[(e['article_link'], e['headline'], e['is_sarcastic']) for e in data])\n",
    "\n",
    "urls, hls, labels = [], [], []\n",
    "\n",
    "for e in data:\n",
    "    urls.append(e['article_link'])\n",
    "    hls.append(e['headline'])\n",
    "    labels.append(e['is_sarcastic'])"
   ]
  },
  {
   "cell_type": "code",
   "execution_count": 117,
   "id": "c584521c-eac7-4cb8-afa4-40c4d01088c5",
   "metadata": {},
   "outputs": [
    {
     "name": "stdout",
     "output_type": "stream",
     "text": [
      "number of words: 29657\n",
      "{'<OOV>': 1, 'to': 2, 'of': 3, 'the': 4, 'in': 5, 'for': 6, 'a': 7, 'on': 8, 'and': 9, 'with': 10, 'is': 11, 'new': 12, 'trump': 13, 'man': 14, 'from': 15, 'at': 16, 'about': 17, 'you': 18, 'this': 19, 'by': 20, 'after': 21, 'up': 22}\n",
      "[\"former versace store clerk sues over secret 'black code' for minority shoppers\", \"the 'roseanne' revival catches up to our thorny political mood, for better and worse\"]\n",
      "[[308, 15115, 679, 3337, 2298, 48, 382, 2576, 15116, 6, 2577, 8434], [4, 8435, 3338, 2746, 22, 2, 166, 8436, 416, 3112, 6, 258, 9, 1002]]\n",
      "(26709, 40)\n",
      "[[  308 15115   679  3337  2298    48   382  2576 15116     6  2577  8434\n",
      "      0     0     0     0     0     0     0     0     0     0     0     0\n",
      "      0     0     0     0     0     0     0     0     0     0     0     0\n",
      "      0     0     0     0]\n",
      " [    4  8435  3338  2746    22     2   166  8436   416  3112     6   258\n",
      "      9  1002     0     0     0     0     0     0     0     0     0     0\n",
      "      0     0     0     0     0     0     0     0     0     0     0     0\n",
      "      0     0     0     0]]\n"
     ]
    }
   ],
   "source": [
    "tokenizer = Tokenizer(oov_token='<OOV>')\n",
    "\n",
    "tokenizer.fit_on_texts(hls)\n",
    "\n",
    "print('number of words:', len(tokenizer.word_index))\n",
    "samp = {}\n",
    "for i, (k, v) in enumerate(tokenizer.word_index.items()):\n",
    "    samp[k] = v\n",
    "    if i > 20:\n",
    "        break\n",
    "print(samp)\n",
    "\n",
    "seqs = tokenizer.texts_to_sequences(hls)\n",
    "\n",
    "print(hls[:2])\n",
    "print(seqs[:2])\n",
    "\n",
    "seqs = pad_sequences(seqs, padding='post')\n",
    "\n",
    "print(seqs.shape)\n",
    "print(seqs[:2])"
   ]
  }
 ],
 "metadata": {
  "kernelspec": {
   "display_name": "Python 3 (ipykernel)",
   "language": "python",
   "name": "python3"
  },
  "language_info": {
   "codemirror_mode": {
    "name": "ipython",
    "version": 3
   },
   "file_extension": ".py",
   "mimetype": "text/x-python",
   "name": "python",
   "nbconvert_exporter": "python",
   "pygments_lexer": "ipython3",
   "version": "3.9.12"
  },
  "widgets": {
   "application/vnd.jupyter.widget-state+json": {
    "state": {},
    "version_major": 2,
    "version_minor": 0
   }
  }
 },
 "nbformat": 4,
 "nbformat_minor": 5
}
